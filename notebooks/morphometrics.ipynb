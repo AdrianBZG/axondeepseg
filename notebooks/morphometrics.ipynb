{
 "cells": [
  {
   "cell_type": "markdown",
   "metadata": {},
   "source": [
    "#### Jupyter Notebook to compute morphological metrics from axon and myelin segmentation\n"
   ]
  },
  {
   "cell_type": "markdown",
   "metadata": {},
   "source": [
    "#### Imports"
   ]
  },
  {
   "cell_type": "code",
   "execution_count": 13,
   "metadata": {},
   "outputs": [],
   "source": [
    "import numpy as np\n",
    "from skimage import io\n",
    "from scipy.misc import imread, imsave\n",
    "import os\n",
    "import imageio\n",
    "import json\n",
    "from skimage import transform\n",
    "from skimage.filters import gaussian\n",
    "import matplotlib.pyplot as plt\n",
    "from shutil import copy\n",
    "from AxonDeepSeg.apply_model import axon_segmentation\n",
    "from AxonDeepSeg.testing.segmentation_scoring import *\n",
    "from scipy.misc import imread, imsave\n",
    "from skimage import measure\n",
    "from skimage.measure import regionprops\n",
    "%matplotlib inline"
   ]
  },
  {
   "cell_type": "markdown",
   "metadata": {},
   "source": [
    "#### Read image and segmented prediction"
   ]
  },
  {
   "cell_type": "code",
   "execution_count": 7,
   "metadata": {},
   "outputs": [],
   "source": [
    "path_img = '/Users/rudinakaprata/Documents/Aldo/axondeepseg/AxonDeepSeg/data_test/image.png'\n",
    "path_pred = '/Users/rudinakaprata/Documents/Aldo/axondeepseg/AxonDeepSeg/data_test/AxonDeepSeg.png'\n",
    "\n",
    "img = imageio.imread(path_img)\n",
    "pred = imageio.imread(path_pred)\n",
    "pred_axon = pred > 200\n",
    "pred_myelin = np.logical_and(pred >= 50, pred <= 200)\n",
    "path_folder, file_name = os.path.split(path_img)"
   ]
  },
  {
   "cell_type": "code",
   "execution_count": null,
   "metadata": {},
   "outputs": [],
   "source": []
  },
  {
   "cell_type": "code",
   "execution_count": null,
   "metadata": {},
   "outputs": [],
   "source": []
  },
  {
   "cell_type": "code",
   "execution_count": 8,
   "metadata": {},
   "outputs": [],
   "source": [
    "def get_pixelsize():\n",
    "\n",
    "    text_file = open(os.path.join(path_folder,'pixel_size_in_micrometer.txt'), \"r\")\n",
    "    pixelsize = float(text_file.read())\n",
    "    text_file.close()\n",
    "    return pixelsize"
   ]
  },
  {
   "cell_type": "code",
   "execution_count": 9,
   "metadata": {},
   "outputs": [],
   "source": [
    "def get_axon_morphometrics(pred_axon):\n",
    "    \n",
    "    # Array for keeping axon-wise metrics\n",
    "    stats_array = np.empty(0)\n",
    "\n",
    "    # Label each axon object\n",
    "    labels = measure.label(pred_axon)\n",
    "    axon_objects = regionprops(labels)\n",
    "\n",
    "    # Get axon morphometrics of interest\n",
    "    for props in axon_objects:\n",
    "    \n",
    "        # Centroid\n",
    "        y0, x0 = props.centroid\n",
    "        # Solidity\n",
    "        solidity = props.solidity\n",
    "        # Eccentricity\n",
    "        eccentricity = props.eccentricity\n",
    "        # Axon equivalent diameter in micrometers\n",
    "        axon_diam = (props.equivalent_diameter)*get_pixelsize()\n",
    "        # Axon orientation angle\n",
    "        orientation = props.orientation\n",
    "    \n",
    "        # Add metrics to list of dictionaries\n",
    "        stats = {'y0': y0, 'x0': x0, 'axon_diam': axon_diam, 'solidity':solidity,'eccentricity': eccentricity,'orientation':orientation}\n",
    "        stats_array = np.append(stats_array, [stats], axis=0)\n",
    "        \n",
    "    return stats_array"
   ]
  },
  {
   "cell_type": "code",
   "execution_count": 12,
   "metadata": {},
   "outputs": [],
   "source": [
    "a = get_axon_morphometrics(pred_axon)\n"
   ]
  },
  {
   "cell_type": "code",
   "execution_count": null,
   "metadata": {},
   "outputs": [],
   "source": []
  },
  {
   "cell_type": "code",
   "execution_count": null,
   "metadata": {},
   "outputs": [],
   "source": []
  },
  {
   "cell_type": "code",
   "execution_count": null,
   "metadata": {},
   "outputs": [],
   "source": []
  },
  {
   "cell_type": "code",
   "execution_count": 5,
   "metadata": {},
   "outputs": [],
   "source": []
  },
  {
   "cell_type": "code",
   "execution_count": null,
   "metadata": {},
   "outputs": [],
   "source": []
  },
  {
   "cell_type": "code",
   "execution_count": 10,
   "metadata": {},
   "outputs": [],
   "source": []
  },
  {
   "cell_type": "code",
   "execution_count": 11,
   "metadata": {},
   "outputs": [],
   "source": [
    "y0_array = np.empty(0)\n",
    "x0_array = np.empty(0)\n",
    "solidity_array = np.empty(0)\n",
    "axon_diam_array = np.empty(0)\n",
    "eccentricity_array = np.empty(0)\n",
    "orientation_array = np.empty(0)\n",
    "\n",
    "labels = measure.label(pred_axon)\n",
    "axon_objects = regionprops(labels)\n",
    "\n",
    "for props in axon_objects:\n",
    "    y0, x0 = props.centroid\n",
    "    solidity = props.solidity\n",
    "    axon_diam = (props.equivalent_diameter)*pixelsize\n",
    "    eccentricity = props.eccentricity\n",
    "    orientation = props.orientation\n",
    "    \n",
    "    y0_array, x0_array = np.append(y0_array, [y0], axis=0), np.append(x0_array, [x0], axis=0)\n",
    "    solidity_array = np.append(solidity_array, [solidity], axis=0)\n",
    "    axon_diam_array = np.append(axon_diam_array, [axon_diam], axis=0)\n",
    "    eccentricity_array = np.append(eccentricity_array, [eccentricity], axis=0)\n",
    "    orientation_array = np.append(orientation_array, [orientation], axis=0)"
   ]
  },
  {
   "cell_type": "code",
   "execution_count": null,
   "metadata": {},
   "outputs": [],
   "source": []
  },
  {
   "cell_type": "code",
   "execution_count": 14,
   "metadata": {},
   "outputs": [],
   "source": [
    "stats_array = np.empty(0)\n",
    "\n",
    "labels = measure.label(pred_axon)\n",
    "axon_objects = regionprops(labels)\n",
    "\n",
    "for props in axon_objects:\n",
    "    \n",
    "    y0, x0 = props.centroid\n",
    "    solidity = props.solidity\n",
    "    axon_diam = (props.equivalent_diameter)*pixelsize\n",
    "    eccentricity = props.eccentricity\n",
    "    orientation = props.orientation\n",
    "    \n",
    "    stats = {'y0': y0, 'x0': x0, 'axon_diam': axon_diam, 'solidity':solidity,'eccentricity': eccentricity,'orientation':orientation}\n",
    "    stats_array = np.append(stats_array, [stats], axis=0)"
   ]
  },
  {
   "cell_type": "code",
   "execution_count": 15,
   "metadata": {},
   "outputs": [
    {
     "name": "stdout",
     "output_type": "stream",
     "text": [
      "[{'axon_diam': 1.6995877603526874, 'solidity': 0.9605809128630706, 'eccentricity': 0.9739720454622895, 'y0': 5.280777537796976, 'x0': 116.99352051835854, 'orientation': -0.02154700130228092}\n",
      " {'axon_diam': 5.879591784737265, 'solidity': 0.9556743704725768, 'eccentricity': 0.598725922136262, 'y0': 38.27070925825663, 'x0': 375.78758346868796, 'orientation': 0.008787173355709247}\n",
      " {'axon_diam': 0.4804563762304389, 'solidity': 0.9736842105263158, 'eccentricity': 0.8526436522962013, 'y0': 2.6486486486486487, 'x0': 501.56756756756755, 'orientation': 0.19540410523111157}\n",
      " {'axon_diam': 2.2088004182171366, 'solidity': 0.9524969549330086, 'eccentricity': 0.5452129293957123, 'y0': 16.26086956521739, 'x0': 542.5063938618925, 'orientation': 1.2664503657580028}\n",
      " {'axon_diam': 8.957227063770436, 'solidity': 0.8755446623093682, 'eccentricity': 0.8501238945995111, 'y0': 45.31609642301711, 'x0': 692.699066874028, 'orientation': 0.11319795493544006}\n",
      " {'axon_diam': 1.744869737078021, 'solidity': 0.9439071566731141, 'eccentricity': 0.9679973185184775, 'y0': 5.948770491803279, 'x0': 885.405737704918, 'orientation': 0.07700889937254565}\n",
      " {'axon_diam': 1.3050718520419584, 'solidity': 0.9612676056338029, 'eccentricity': 0.9332649021669661, 'y0': 5.04029304029304, 'x0': 1132.4249084249084, 'orientation': -0.02320475207427403}\n",
      " {'axon_diam': 3.505792538831773, 'solidity': 0.8987226277372263, 'eccentricity': 0.8025102104486043, 'y0': 31.46802030456853, 'x0': 1195.492385786802, 'orientation': 1.1815918833668604}\n",
      " {'axon_diam': 2.2714639788317803, 'solidity': 0.9219620958751393, 'eccentricity': 0.6916305126524687, 'y0': 17.741233373639663, 'x0': 1242.8355501813785, 'orientation': 1.2778480781772954}\n",
      " {'axon_diam': 6.660677996480354, 'solidity': 0.9674829931972789, 'eccentricity': 0.4595592043543096, 'y0': 39.49430459850935, 'x0': 1491.883279426241, 'orientation': 0.2026448234414792}\n",
      " {'axon_diam': 9.061446776120876, 'solidity': 0.943102830526693, 'eccentricity': 0.3649907142549398, 'y0': 68.97743332573512, 'x0': 1339.5308867107362, 'orientation': -0.4209213655694833}\n",
      " {'axon_diam': 1.2082617522678345, 'solidity': 0.9285714285714286, 'eccentricity': 0.6452695373608516, 'y0': 13.252136752136753, 'x0': 171.52564102564102, 'orientation': 0.532900927525754}\n",
      " {'axon_diam': 0.9211334499471358, 'solidity': 0.8553459119496856, 'eccentricity': 0.994358531645745, 'y0': 25.970588235294116, 'x0': 2.5220588235294117, 'orientation': -1.5616714103684781}\n",
      " {'axon_diam': 1.2613139225215053, 'solidity': 0.9586466165413534, 'eccentricity': 0.42761159690902717, 'y0': 17.525490196078433, 'x0': 578.8549019607843, 'orientation': 1.3131012063448588}\n",
      " {'axon_diam': 0.5179493914232344, 'solidity': 0.9347826086956522, 'eccentricity': 0.6626747632539988, 'y0': 15.209302325581396, 'x0': 1088.6744186046512, 'orientation': 0.4965716039707377}\n",
      " {'axon_diam': 2.896771516633145, 'solidity': 0.9634670487106017, 'eccentricity': 0.7448173212520101, 'y0': 43.75315985130111, 'x0': 53.56579925650558, 'orientation': 1.5255572890264146}\n",
      " {'axon_diam': 0.7779272174262981, 'solidity': 0.8981481481481481, 'eccentricity': 0.7537881025887638, 'y0': 34.04123711340206, 'x0': 470.63917525773195, 'orientation': 1.3600104903062002}\n",
      " {'axon_diam': 2.82590842466258, 'solidity': 0.9460458240946046, 'eccentricity': 0.6673470814411192, 'y0': 50.9421875, 'x0': 508.95234375, 'orientation': -0.9430979326155}\n",
      " {'axon_diam': 4.381439784800822, 'solidity': 0.9737341772151898, 'eccentricity': 0.6946870678503313, 'y0': 70.4055898602535, 'x0': 254.8326291842704, 'orientation': 1.2623464800353095}\n",
      " {'axon_diam': 4.205616142218464, 'solidity': 0.9584178498985801, 'eccentricity': 0.8370267526284021, 'y0': 75.22081128747796, 'x0': 118.09488536155203, 'orientation': 1.1238072748188428}\n",
      " {'axon_diam': 1.1198274990415542, 'solidity': 0.9348837209302325, 'eccentricity': 0.7108704591882843, 'y0': 49.97014925373134, 'x0': 577.363184079602, 'orientation': 1.1270931996315403}\n",
      " {'axon_diam': 7.9709905573621285, 'solidity': 0.9389636732435921, 'eccentricity': 0.9004928563556405, 'y0': 96.74401021209741, 'x0': 1011.7752356637864, 'orientation': 0.21499595724359247}\n",
      " {'axon_diam': 2.6878645473193514, 'solidity': 0.9476268412438625, 'eccentricity': 0.7612765370726534, 'y0': 73.54490500863558, 'x0': 1142.940414507772, 'orientation': -0.7175194393020611}\n",
      " {'axon_diam': 1.083008895905307, 'solidity': 0.9261083743842364, 'eccentricity': 0.2421242868885892, 'y0': 66.31914893617021, 'x0': 1233.0212765957447, 'orientation': -1.1321707741972884}\n",
      " {'axon_diam': 2.8292180979709833, 'solidity': 0.9503703703703704, 'eccentricity': 0.5293463664548571, 'y0': 85.94388152766952, 'x0': 331.90101325019486, 'orientation': -0.7778916459456633}\n",
      " {'axon_diam': 0.8170431404183294, 'solidity': 0.9224137931034483, 'eccentricity': 0.5731145046911302, 'y0': 73.6822429906542, 'x0': 832.8878504672897, 'orientation': 1.121546345502422}\n",
      " {'axon_diam': 6.849094237242768, 'solidity': 0.8941610179569509, 'eccentricity': 0.9174626904147147, 'y0': 145.61018752493683, 'x0': 426.16026067296184, 'orientation': 0.8205422179180213}\n",
      " {'axon_diam': 1.2463866047624919, 'solidity': 0.9154411764705882, 'eccentricity': 0.8827106300862314, 'y0': 100.855421686747, 'x0': 584.7469879518072, 'orientation': 0.373872546765355}\n",
      " {'axon_diam': 4.357165693393194, 'solidity': 0.9669526533206229, 'eccentricity': 0.7941720875222326, 'y0': 118.99967137693066, 'x0': 763.4682878738088, 'orientation': 0.3375002096201296}\n",
      " {'axon_diam': 2.2837903737105827, 'solidity': 0.9554285714285714, 'eccentricity': 0.4114367230746736, 'y0': 112.55861244019138, 'x0': 543.0921052631579, 'orientation': -0.12272379697093401}\n",
      " {'axon_diam': 1.3703652814231293, 'solidity': 0.9376947040498442, 'eccentricity': 0.7716701663317467, 'y0': 105.57142857142857, 'x0': 843.312292358804, 'orientation': -0.4666972142699445}\n",
      " {'axon_diam': 3.4465657771992655, 'solidity': 0.7317448116833205, 'eccentricity': 0.956777336773121, 'y0': 135.08193277310923, 'x0': 176.1622899159664, 'orientation': 0.7469016040503955}\n",
      " {'axon_diam': 0.493270794796215, 'solidity': 0.8863636363636364, 'eccentricity': 0.32156825788329235, 'y0': 108.84615384615384, 'x0': 871.9230769230769, 'orientation': 0.9462734405957701}\n",
      " {'axon_diam': 0.7658029343799984, 'solidity': 0.8867924528301887, 'eccentricity': 0.6875662745204448, 'y0': 112.56382978723404, 'x0': 1534.0425531914893, 'orientation': 1.2693441695216388}\n",
      " {'axon_diam': 2.3709123277867676, 'solidity': 0.9346473029045643, 'eccentricity': 0.8600231295687673, 'y0': 123.82463928967813, 'x0': 1234.390677025527, 'orientation': -0.06948455050666495}\n",
      " {'axon_diam': 0.8971146616944217, 'solidity': 0.9485294117647058, 'eccentricity': 0.6587836745378426, 'y0': 118.36434108527132, 'x0': 296.94573643410854, 'orientation': 1.5220143222323332}\n",
      " {'axon_diam': 4.8265883037816035, 'solidity': 0.9721426711793804, 'eccentricity': 0.8687816207796649, 'y0': 159.84118907337975, 'x0': 21.85940010712373, 'orientation': 1.3853010561580457}\n",
      " {'axon_diam': 2.9405916146439623, 'solidity': 0.9320780094149294, 'eccentricity': 0.7529036827874138, 'y0': 140.8946608946609, 'x0': 1159.7972582972584, 'orientation': -0.6648664534176236}\n",
      " {'axon_diam': 8.389694503624094, 'solidity': 0.9625458578619571, 'eccentricity': 0.7819014096359197, 'y0': 180.5507888672221, 'x0': 631.2827512852331, 'orientation': 0.03041599085073602}\n",
      " {'axon_diam': 8.127173961134629, 'solidity': 0.8898882071110364, 'eccentricity': 0.6228777007590841, 'y0': 189.15056201001227, 'x0': 1474.5116652498348, 'orientation': -0.8494546944619434}\n",
      " {'axon_diam': 0.5963353124245881, 'solidity': 0.9047619047619048, 'eccentricity': 0.8479994735686027, 'y0': 132.75438596491227, 'x0': 245.89473684210526, 'orientation': -0.10784560012616234}\n",
      " {'axon_diam': 1.2711680873210258, 'solidity': 0.9384057971014492, 'eccentricity': 0.7722862791215982, 'y0': 138.66023166023166, 'x0': 820.065637065637, 'orientation': 0.4395645979846182}\n",
      " {'axon_diam': 2.04451593913218, 'solidity': 0.9571428571428572, 'eccentricity': 0.7670448426696914, 'y0': 146.20597014925374, 'x0': 1295.0940298507462, 'orientation': 0.04547557216933905}\n",
      " {'axon_diam': 1.0626552367657236, 'solidity': 0.9378238341968912, 'eccentricity': 0.7323566193290177, 'y0': 146.353591160221, 'x0': 91.76243093922652, 'orientation': 1.3659744249558585}\n",
      " {'axon_diam': 10.661720314980407, 'solidity': 0.922718525270941, 'eccentricity': 0.3560582402812082, 'y0': 220.19286498353458, 'x0': 1073.3420965971459, 'orientation': 0.9564876862939712}\n",
      " {'axon_diam': 2.038403770181151, 'solidity': 0.9568965517241379, 'eccentricity': 0.6925931459307428, 'y0': 160.7057057057057, 'x0': 517.3528528528528, 'orientation': 0.5695096317961001}\n",
      " {'axon_diam': 1.9185764315839378, 'solidity': 0.9640522875816994, 'eccentricity': 0.5803418749038138, 'y0': 168.20169491525425, 'x0': 320.82881355932204, 'orientation': 0.11532529598707754}\n",
      " {'axon_diam': 2.5102315643968627, 'solidity': 0.9448082319925164, 'eccentricity': 0.8335682336899973, 'y0': 173.57326732673266, 'x0': 1242.2693069306931, 'orientation': 0.5049181270201498}\n",
      " {'axon_diam': 6.941384740781147, 'solidity': 0.9693736663737919, 'eccentricity': 0.5792450603898872, 'y0': 210.88760844231516, 'x0': 860.8460442833095, 'orientation': -0.012152374194847586}\n",
      " {'axon_diam': 6.119290838222367, 'solidity': 0.9677523379554982, 'eccentricity': 0.689789567929862, 'y0': 212.07064311896033, 'x0': 216.86204598467177, 'orientation': 0.6563156468933603}\n",
      " {'axon_diam': 2.7144262600829507, 'solidity': 0.9306540583136328, 'eccentricity': 0.9418276117585849, 'y0': 208.43522438611348, 'x0': 958.2480948348857, 'orientation': -1.5312051603527748}\n",
      " {'axon_diam': 7.633549698819643, 'solidity': 0.9673744174003107, 'eccentricity': 0.14567686515669348, 'y0': 248.67248394004284, 'x0': 1326.0985010706638, 'orientation': -0.7885977967949753}\n",
      " {'axon_diam': 0.6655524304015148, 'solidity': 0.9594594594594594, 'eccentricity': 0.5016045368301186, 'y0': 200.32394366197184, 'x0': 129.77464788732394, 'orientation': -0.27693251343331043}\n",
      " {'axon_diam': 0.20897874625046464, 'solidity': 0.875, 'eccentricity': 0.7238845965239822, 'y0': 200.14285714285714, 'x0': 102.71428571428571, 'orientation': -1.038947415593617}\n",
      " {'axon_diam': 2.6291961007646703, 'solidity': 0.9593073593073593, 'eccentricity': 0.6605923091435874, 'y0': 225.41606498194946, 'x0': 1197.639891696751, 'orientation': 1.062453147141684}\n",
      " {'axon_diam': 4.134551260731241, 'solidity': 0.9272419627749577, 'eccentricity': 0.7549638531384152, 'y0': 236.32153284671534, 'x0': 481.00766423357663, 'orientation': 0.38354680322989626}\n",
      " {'axon_diam': 0.26196872229566887, 'solidity': 0.9166666666666666, 'eccentricity': 0.8790490729915326, 'y0': 211.0, 'x0': 539.3636363636364, 'orientation': -1.5707963267948966}\n",
      " {'axon_diam': 1.2030871599576372, 'solidity': 0.9169960474308301, 'eccentricity': 0.6160408984942078, 'y0': 220.83189655172413, 'x0': 82.21551724137932, 'orientation': 0.09133053323775822}\n",
      " {'axon_diam': 1.4239501307948768, 'solidity': 0.9502923976608187, 'eccentricity': 0.6096175159329164, 'y0': 223.33846153846153, 'x0': 341.9138461538462, 'orientation': -0.4056795777735579}\n",
      " {'axon_diam': 1.2312783299953585, 'solidity': 0.9346153846153846, 'eccentricity': 0.7340960058392906, 'y0': 226.0781893004115, 'x0': 1233.2139917695474, 'orientation': -1.4922380662015826}\n",
      " {'axon_diam': 1.9524220529851133, 'solidity': 0.9517133956386293, 'eccentricity': 0.627056505078069, 'y0': 236.15220949263502, 'x0': 305.56137479541735, 'orientation': 1.0348071403907317}\n",
      " {'axon_diam': 0.4605667249735679, 'solidity': 0.8717948717948718, 'eccentricity': 0.6769880668867866, 'y0': 225.52941176470588, 'x0': 125.79411764705883, 'orientation': 0.547992618483371}\n",
      " {'axon_diam': 1.664349708903096, 'solidity': 0.940677966101695, 'eccentricity': 0.821078244439401, 'y0': 234.99099099099098, 'x0': 730.7094594594595, 'orientation': 0.790388575683262}\n",
      " {'axon_diam': 1.95082367199432, 'solidity': 0.953125, 'eccentricity': 0.6596049381360735, 'y0': 248.33770491803278, 'x0': 56.59180327868852, 'orientation': 0.2903456435699469}\n",
      " {'axon_diam': 0.7196016417739685, 'solidity': 0.8829787234042553, 'eccentricity': 0.6922392570550091, 'y0': 240.56626506024097, 'x0': 995.710843373494, 'orientation': 0.29295941955598714}\n",
      " {'axon_diam': 2.743005972588826, 'solidity': 0.9444009397024276, 'eccentricity': 0.8258056469314208, 'y0': 254.92205638474294, 'x0': 377.2396351575456, 'orientation': 0.16723467087670027}\n",
      " {'axon_diam': 1.7032546206246055, 'solidity': 0.9262948207171314, 'eccentricity': 0.8957070853279419, 'y0': 253.25806451612902, 'x0': 552.5483870967741, 'orientation': -0.10790568358351452}\n",
      " {'axon_diam': 1.961984993723912, 'solidity': 0.955108359133127, 'eccentricity': 0.44429326276118714, 'y0': 267.29497568881686, 'x0': 131.6677471636953, 'orientation': 0.2997692391795793}\n",
      " {'axon_diam': 3.8533776833709763, 'solidity': 0.947452229299363, 'eccentricity': 0.7744467811581692, 'y0': 279.94789915966385, 'x0': 665.3025210084033, 'orientation': 0.29621558571149365}\n",
      " {'axon_diam': 0.5472348133312703, 'solidity': 0.8888888888888888, 'eccentricity': 0.6214799545131982, 'y0': 261.6666666666667, 'x0': 605.8125, 'orientation': -0.14265028344910335}\n",
      " {'axon_diam': 0.8055078348452229, 'solidity': 0.9629629629629629, 'eccentricity': 0.5947563568076069, 'y0': 268.16346153846155, 'x0': 99.5576923076923, 'orientation': 1.556398730839815}\n",
      " {'axon_diam': 1.136418439759262, 'solidity': 0.9452054794520548, 'eccentricity': 0.7579281029948458, 'y0': 270.7487922705314, 'x0': 1531.8647342995168, 'orientation': 0.6953281313130923}\n",
      " {'axon_diam': 1.0944696266625407, 'solidity': 0.9320388349514563, 'eccentricity': 0.7843845599128686, 'y0': 276.5572916666667, 'x0': 974.078125, 'orientation': -0.6553603880881689}\n",
      " {'axon_diam': 3.5867196310967966, 'solidity': 0.9055775142731665, 'eccentricity': 0.8601757651962909, 'y0': 292.07080504364694, 'x0': 41.92434529582929, 'orientation': -0.04067078719032473}\n",
      " {'axon_diam': 2.719019201201919, 'solidity': 0.9236165237724084, 'eccentricity': 0.5499312860474116, 'y0': 291.17215189873417, 'x0': 747.4143459915612, 'orientation': 0.7549311628239673}\n",
      " {'axon_diam': 2.4511294212549886, 'solidity': 0.9259615384615385, 'eccentricity': 0.8445928062032177, 'y0': 294.92938733125646, 'x0': 534.4205607476636, 'orientation': -0.8060640616342077}\n",
      " {'axon_diam': 1.5678380863678831, 'solidity': 0.9358669833729216, 'eccentricity': 0.7416617047789587, 'y0': 291.98984771573606, 'x0': 394.06598984771574, 'orientation': -0.04107492563528216}\n",
      " {'axon_diam': 5.130478382399101, 'solidity': 0.9634619776204613, 'eccentricity': 0.819717764653195, 'y0': 319.874377814648, 'x0': 1176.7328750888837, 'orientation': 0.5499587994599596}\n",
      " {'axon_diam': 0.43262710626597234, 'solidity': 0.9090909090909091, 'eccentricity': 0.7954218999397203, 'y0': 285.93333333333334, 'x0': 602.8333333333334, 'orientation': -0.23286586437854132}\n",
      " {'axon_diam': 1.577754934681466, 'solidity': 0.9130434782608695, 'eccentricity': 0.8515232358009406, 'y0': 295.10526315789474, 'x0': 1500.7719298245613, 'orientation': 0.42732840507714076}\n",
      " {'axon_diam': 1.6736948115985282, 'solidity': 0.9553191489361702, 'eccentricity': 0.6710070268577556, 'y0': 296.739420935412, 'x0': 948.1937639198218, 'orientation': -0.12369793963194933}\n",
      " {'axon_diam': 2.3616843882421827, 'solidity': 0.9030303030303031, 'eccentricity': 0.9254912723596007, 'y0': 306.25279642058166, 'x0': 471.2684563758389, 'orientation': 0.18525758007824017}\n",
      " {'axon_diam': 1.3311048608030296, 'solidity': 0.9466666666666667, 'eccentricity': 0.6355419941484647, 'y0': 301.7992957746479, 'x0': 903.5316901408451, 'orientation': -0.09095920752630143}\n",
      " {'axon_diam': 1.811531838693543, 'solidity': 0.9084628670120898, 'eccentricity': 0.5576190745610603, 'y0': 309.9638783269962, 'x0': 579.8212927756654, 'orientation': 0.6014061469958469}\n",
      " {'axon_diam': 5.556634438559206, 'solidity': 0.9479027006320628, 'eccentricity': 0.7686225682176774, 'y0': 331.2200444534249, 'x0': 236.3940189937361, 'orientation': -0.16644322945682755}\n",
      " {'axon_diam': 0.6561114921070645, 'solidity': 0.92, 'eccentricity': 0.8840746669563049, 'y0': 307.4927536231884, 'x0': 1380.5652173913043, 'orientation': 0.884248248345484}\n",
      " {'axon_diam': 4.13228720036576, 'solidity': 0.8918214402085369, 'eccentricity': 0.6748069500818399, 'y0': 338.80708805261236, 'x0': 1437.1841432225065, 'orientation': 1.2102563075621944}\n",
      " {'axon_diam': 1.0626552367657236, 'solidity': 0.9427083333333334, 'eccentricity': 0.8510190454001108, 'y0': 311.1381215469613, 'x0': 122.71270718232044, 'orientation': 0.6478448386891658}\n",
      " {'axon_diam': 0.37047971998808593, 'solidity': 0.9565217391304348, 'eccentricity': 0.7988125486825934, 'y0': 306.27272727272725, 'x0': 991.0454545454545, 'orientation': -0.6603321991415753}\n",
      " {'axon_diam': 3.403760947747164, 'solidity': 0.9085127201565558, 'eccentricity': 0.8730381041883585, 'y0': 330.75175013462575, 'x0': 816.3974151857835, 'orientation': 0.6089193177761687}\n",
      " {'axon_diam': 1.0237825908004035, 'solidity': 0.9281767955801105, 'eccentricity': 0.7021385517074149, 'y0': 316.7738095238095, 'x0': 615.2142857142857, 'orientation': -1.278848882565406}\n",
      " {'axon_diam': 0.9801972048813208, 'solidity': 0.9390243902439024, 'eccentricity': 0.7725589616085905, 'y0': 323.5779220779221, 'x0': 92.67532467532467, 'orientation': 0.7781294530344978}\n",
      " {'axon_diam': 0.45374313701000024, 'solidity': 0.9428571428571428, 'eccentricity': 0.7604038361238635, 'y0': 330.1818181818182, 'x0': 970.5757575757576, 'orientation': 0.6273651104406959}\n",
      " {'axon_diam': 4.293701432097112, 'solidity': 0.9619140625, 'eccentricity': 0.6259546303389311, 'y0': 363.29035532994925, 'x0': 356.2243654822335, 'orientation': 0.8220233074912203}\n",
      " {'axon_diam': 3.391825943412934, 'solidity': 0.9206190713929107, 'eccentricity': 0.8295685307531926, 'y0': 353.4327548806941, 'x0': 670.8975054229935, 'orientation': 0.41421766479500216}\n",
      " {'axon_diam': 1.9038869871677089, 'solidity': 0.9401294498381877, 'eccentricity': 0.5206333236603137, 'y0': 348.16523235800344, 'x0': 128.71600688468158, 'orientation': 0.6331243766024385}\n",
      " {'axon_diam': 3.149572874697719, 'solidity': 0.9561034275405893, 'eccentricity': 0.708675387196766, 'y0': 353.7937106918239, 'x0': 914.1528301886792, 'orientation': 0.07096551089868149}\n",
      " {'axon_diam': 6.316454524022848, 'solidity': 0.970999088976617, 'eccentricity': 0.6914087306502595, 'y0': 376.68459734167317, 'x0': 1031.3346364347146, 'orientation': 0.3578119675989598}\n",
      " {'axon_diam': 1.4195619843643117, 'solidity': 0.9098591549295775, 'eccentricity': 0.8717948778445883, 'y0': 355.8606811145511, 'x0': 1525.5077399380805, 'orientation': 0.660318627924391}\n",
      " {'axon_diam': 3.8558055179182826, 'solidity': 0.9175972275702734, 'eccentricity': 0.7450567248021124, 'y0': 377.0096516995384, 'x0': 584.503566932438, 'orientation': -0.5258704449973577}\n",
      " {'axon_diam': 5.930832176917718, 'solidity': 0.9803512432620414, 'eccentricity': 0.4903348581128228, 'y0': 400.12096488116356, 'x0': 35.98971266406527, 'orientation': 0.939044365719199}\n",
      " {'axon_diam': 2.042989611230644, 'solidity': 0.9356643356643357, 'eccentricity': 0.7668683145177122, 'y0': 378.7817638266069, 'x0': 753.0642750373692, 'orientation': -0.9828801375857461}\n",
      " {'axon_diam': 4.733923803672241, 'solidity': 0.929366106080207, 'eccentricity': 0.8552207848015553, 'y0': 395.43652561247217, 'x0': 1346.963530066815, 'orientation': 0.41930079572856754}\n",
      " {'axon_diam': 4.928912096728217, 'solidity': 0.9060027919962773, 'eccentricity': 0.661450121296409, 'y0': 400.824345146379, 'x0': 469.91730868002054, 'orientation': -0.09909455881860126}\n",
      " {'axon_diam': 3.715727068992647, 'solidity': 0.9534683326152521, 'eccentricity': 0.8042697397352321, 'y0': 396.2458201536376, 'x0': 152.74288296430186, 'orientation': 0.6613555573173165}\n",
      " {'axon_diam': 2.7690387975522524, 'solidity': 0.9388846447669977, 'eccentricity': 0.7861095680989505, 'y0': 392.2758340113914, 'x0': 1480.2318958502847, 'orientation': 0.032765775755502664}\n",
      " {'axon_diam': 3.1673504733258198, 'solidity': 0.9686746987951808, 'eccentricity': 0.6326976662928587, 'y0': 402.91480099502485, 'x0': 838.4558457711443, 'orientation': 0.6105703697842729}\n",
      " {'axon_diam': 1.7359078404468107, 'solidity': 0.9288461538461539, 'eccentricity': 0.8580873235178383, 'y0': 395.0372670807453, 'x0': 1169.5093167701864, 'orientation': 0.29644374778541216}\n",
      " {'axon_diam': 2.6492891481211687, 'solidity': 0.9656652360515021, 'eccentricity': 0.7169346335703198, 'y0': 406.0035555555556, 'x0': 699.9484444444445, 'orientation': 0.03202610125581449}\n",
      " {'axon_diam': 3.6204797733303287, 'solidity': 0.9567395264116576, 'eccentricity': 0.47807633529745897, 'y0': 419.7696335078534, 'x0': 1224.0161827701095, 'orientation': 0.522671679539613}\n",
      " {'axon_diam': 1.1142422896620183, 'solidity': 0.908675799086758, 'eccentricity': 0.9074709527873279, 'y0': 412.22613065326635, 'x0': 1119.8994974874372, 'orientation': 0.7233552655624077}\n",
      " {'axon_diam': 4.913699368786505, 'solidity': 0.9721175584024114, 'eccentricity': 0.28953178993244966, 'y0': 442.33772609819124, 'x0': 254.88320413436693, 'orientation': 1.4156759654862914}\n",
      " {'axon_diam': 3.2624405972000656, 'solidity': 0.9525404801786711, 'eccentricity': 0.8550725200359138, 'y0': 427.6242672919109, 'x0': 917.5920281359906, 'orientation': 0.3904898044675995}\n",
      " {'axon_diam': 1.529567802828911, 'solidity': 0.9101941747572816, 'eccentricity': 0.7519225966650417, 'y0': 425.73066666666665, 'x0': 1147.1466666666668, 'orientation': 0.27901959733048426}\n",
      " {'axon_diam': 1.1391601046359014, 'solidity': 0.9285714285714286, 'eccentricity': 0.5865601247624099, 'y0': 430.2548076923077, 'x0': 1275.5913461538462, 'orientation': -0.5474368078690446}\n",
      " {'axon_diam': 3.627366093909967, 'solidity': 0.9678751720972923, 'eccentricity': 0.6576748877572168, 'y0': 447.21384542437175, 'x0': 558.8795637743007, 'orientation': 0.30126659969983316}\n",
      " {'axon_diam': 2.4447578757201707, 'solidity': 0.9494549058473737, 'eccentricity': 0.5071511400908475, 'y0': 447.42693110647184, 'x0': 639.1210855949896, 'orientation': 0.028649078936600913}\n",
      " {'axon_diam': 5.77790736677229, 'solidity': 0.9648395239812477, 'eccentricity': 0.5486059870821727, 'y0': 474.8717996636143, 'x0': 771.7989160904503, 'orientation': 0.0678225756998735}\n",
      " {'axon_diam': 1.421757750540346, 'solidity': 0.9337175792507204, 'eccentricity': 0.5522855077370724, 'y0': 443.25, 'x0': 1530.9969135802469, 'orientation': 0.6037034826625405}\n",
      " {'axon_diam': 8.12986031312526, 'solidity': 0.9665176534987684, 'eccentricity': 0.7274722640564849, 'y0': 496.0145365301114, 'x0': 1409.4903719086276, 'orientation': 0.7743202403402535}\n",
      " {'axon_diam': 0.1934767237039479, 'solidity': 1.0, 'eccentricity': 0.7905694150420949, 'y0': 439.0, 'x0': 1126.5, 'orientation': -1.5707963267948966}\n",
      " {'axon_diam': 1.2513821622788848, 'solidity': 0.943609022556391, 'eccentricity': 0.7818233782423595, 'y0': 450.56573705179284, 'x0': 692.0637450199204, 'orientation': 1.0805578262514244}\n",
      " {'axon_diam': 4.08292428429778, 'solidity': 0.9674149167270094, 'eccentricity': 0.5405796139236557, 'y0': 469.2814371257485, 'x0': 383.12874251497004, 'orientation': -0.34523310833410725}\n",
      " {'axon_diam': 5.7519342484141625, 'solidity': 0.9694698354661792, 'eccentricity': 0.4744254906464085, 'y0': 499.4212709786913, 'x0': 1071.743541391665, 'orientation': 1.116973080598132}\n",
      " {'axon_diam': 0.9278817705666585, 'solidity': 0.971830985915493, 'eccentricity': 0.49144297473668147, 'y0': 462.42753623188406, 'x0': 1011.8550724637681, 'orientation': 0.07479603414473075}\n",
      " {'axon_diam': 0.7020477389515485, 'solidity': 0.9404761904761905, 'eccentricity': 0.653854665091721, 'y0': 461.55696202531647, 'x0': 1324.4556962025317, 'orientation': -0.7745781194255056}\n",
      " {'axon_diam': 2.2521554951560225, 'solidity': 0.9690107270560191, 'eccentricity': 0.5809112646694119, 'y0': 480.1217712177122, 'x0': 1293.7835178351784, 'orientation': -1.1864086140324566}\n",
      " {'axon_diam': 1.8371800970885908, 'solidity': 0.9695340501792115, 'eccentricity': 0.7705259837163178, 'y0': 481.80221811460257, 'x0': 1228.9611829944547, 'orientation': -1.545960239531169}\n",
      " {'axon_diam': 2.178940783583379, 'solidity': 0.9441687344913151, 'eccentricity': 0.8655905802893439, 'y0': 489.8212877792378, 'x0': 1180.2431011826543, 'orientation': -0.8650763074495592}\n",
      " {'axon_diam': 2.6586921560245, 'solidity': 0.9537037037037037, 'eccentricity': 0.6056169411025085, 'y0': 492.3821712268314, 'x0': 953.8596646072374, 'orientation': -0.924791238706932}\n",
      " {'axon_diam': 7.784884057841269, 'solidity': 0.9254954268292683, 'eccentricity': 0.6698981239500837, 'y0': 525.4063207741405, 'x0': 61.238727609635575, 'orientation': 0.05579245665866733}\n",
      " {'axon_diam': 3.9925333411647137, 'solidity': 0.9681697612732095, 'eccentricity': 0.702416060613077, 'y0': 503.1573385518591, 'x0': 485.73737769080236, 'orientation': -0.33846788201978667}\n",
      " {'axon_diam': 1.2687117215720018, 'solidity': 0.9416058394160584, 'eccentricity': 0.7615097346482498, 'y0': 488.6007751937984, 'x0': 999.0426356589147, 'orientation': 1.5584915155974366}\n",
      " {'axon_diam': 3.312729835049463, 'solidity': 0.9559782608695652, 'eccentricity': 0.6011889536274174, 'y0': 504.2950540079591, 'x0': 886.9454235361001, 'orientation': -0.6226371214944565}\n",
      " {'axon_diam': 1.6051962081566693, 'solidity': 0.9494252873563218, 'eccentricity': 0.6844105258980052, 'y0': 506.8450363196126, 'x0': 637.861985472155, 'orientation': 0.6473019546927085}\n",
      " {'axon_diam': 7.529451901748313, 'solidity': 0.952316076294278, 'eccentricity': 0.8058126640720151, 'y0': 584.1436117530538, 'x0': 1505.2616925277869, 'orientation': 1.4757746785214447}\n",
      " {'axon_diam': 0.5804301711118437, 'solidity': 0.8852459016393442, 'eccentricity': 0.4328146635434977, 'y0': 513.1111111111111, 'x0': 668.9814814814815, 'orientation': -0.3688830460605445}\n",
      " {'axon_diam': 3.659046748636608, 'solidity': 0.9627635711081203, 'eccentricity': 0.6934518580113606, 'y0': 540.47064305685, 'x0': 575.4501397949674, 'orientation': 0.5688741187186057}\n",
      " {'axon_diam': 4.172104722568024, 'solidity': 0.9544988026000685, 'eccentricity': 0.7367075652957001, 'y0': 545.4243727598566, 'x0': 1268.7781362007167, 'orientation': -0.15847215388936536}\n",
      " {'axon_diam': 3.8703405431376083, 'solidity': 0.967365028203062, 'eccentricity': 0.3588186662922084, 'y0': 554.4822990420658, 'x0': 398.1149521032903, 'orientation': 0.5001532727406124}\n",
      " {'axon_diam': 3.1485822871988676, 'solidity': 0.9469606674612634, 'eccentricity': 0.7337204414757418, 'y0': 558.136563876652, 'x0': 702.253618628068, 'orientation': -1.2924579707048247}\n",
      " {'axon_diam': 2.0307376889797264, 'solidity': 0.9362606232294618, 'eccentricity': 0.7274793099843055, 'y0': 549.0423600605144, 'x0': 645.6323751891074, 'orientation': 1.0624375731036257}\n",
      " {'axon_diam': 1.5457970932837466, 'solidity': 0.9720812182741116, 'eccentricity': 0.3098117595763389, 'y0': 543.1148825065275, 'x0': 947.8616187989556, 'orientation': 0.5128868603817585}\n",
      " {'axon_diam': 0.98654158959243, 'solidity': 0.9397590361445783, 'eccentricity': 0.6727322914358396, 'y0': 547.3141025641025, 'x0': 980.3846153846154, 'orientation': 0.6683893799527566}\n",
      " {'axon_diam': 0.7779272174262981, 'solidity': 0.9150943396226415, 'eccentricity': 0.49613408421085115, 'y0': 548.4123711340206, 'x0': 819.7938144329897, 'orientation': 0.9984050746519709}\n",
      " {'axon_diam': 2.059717010430696, 'solidity': 0.9289617486338798, 'eccentricity': 0.829142883732075, 'y0': 575.5323529411764, 'x0': 858.3308823529412, 'orientation': 1.082466152949008}\n",
      " {'axon_diam': 0.99598239407289, 'solidity': 0.9298245614035088, 'eccentricity': 0.654897163767197, 'y0': 569.1006289308176, 'x0': 1326.251572327044, 'orientation': 1.3593515193315733}\n",
      " {'axon_diam': 1.929924257636494, 'solidity': 0.944620253164557, 'eccentricity': 0.45591080872390755, 'y0': 574.4589614740369, 'x0': 494.39865996649917, 'orientation': 0.30415811303815027}\n",
      " {'axon_diam': 1.635994146379438, 'solidity': 0.9285714285714286, 'eccentricity': 0.7209929768325599, 'y0': 572.6107226107226, 'x0': 986.4498834498835, 'orientation': 0.5019662471072265}\n",
      " {'axon_diam': 2.6994452323446545, 'solidity': 0.9565929565929566, 'eccentricity': 0.4987315386745374, 'y0': 583.3510273972603, 'x0': 198.55308219178082, 'orientation': -1.0604591913494676}\n",
      " {'axon_diam': 3.1683351929122807, 'solidity': 0.9376456876456877, 'eccentricity': 0.6481901660925135, 'y0': 584.1466749533872, 'x0': 779.8178993163456, 'orientation': 0.5176580753266867}\n",
      " {'axon_diam': 7.6249632559899085, 'solidity': 0.926986969063961, 'eccentricity': 0.6385703056483173, 'y0': 614.5815001609615, 'x0': 1147.2209464534822, 'orientation': -0.13983240918677148}\n",
      " {'axon_diam': 1.4370341741259882, 'solidity': 0.9538904899135446, 'eccentricity': 0.4443962858038438, 'y0': 575.1540785498489, 'x0': 452.5226586102719, 'orientation': 0.5604445739567016}\n",
      " {'axon_diam': 0.8616414442998164, 'solidity': 0.9153846153846154, 'eccentricity': 0.6271805140269828, 'y0': 572.9831932773109, 'x0': 342.2773109243698, 'orientation': 0.2621743431562927}\n",
      " {'axon_diam': 1.358935846787434, 'solidity': 0.9051987767584098, 'eccentricity': 0.8031719110669605, 'y0': 591.6621621621622, 'x0': 1334.9932432432433, 'orientation': 0.6372003533923326}\n",
      " {'axon_diam': 2.571615483573397, 'solidity': 0.9523809523809523, 'eccentricity': 0.8096140610554237, 'y0': 602.8745283018868, 'x0': 607.2481132075471, 'orientation': 0.37526694401186766}\n",
      " {'axon_diam': 1.795967076167486, 'solidity': 0.9199288256227758, 'eccentricity': 0.9160839502349829, 'y0': 609.8955512572534, 'x0': 954.522243713733, 'orientation': -1.210204490924252}\n",
      " {'axon_diam': 1.1336701444669317, 'solidity': 0.8917748917748918, 'eccentricity': 0.6663673036574845, 'y0': 600.5970873786408, 'x0': 1267.106796116505, 'orientation': 0.5830222121635494}\n",
      " {'axon_diam': 3.94616635836972, 'solidity': 0.964451313755796, 'eccentricity': 0.4960259691319793, 'y0': 626.3533653846154, 'x0': 1012.7135416666666, 'orientation': -1.5304823470066473}\n",
      " {'axon_diam': 1.7142081394318143, 'solidity': 0.9363817097415507, 'eccentricity': 0.5371515208448789, 'y0': 608.4309978768578, 'x0': 327.26539278131634, 'orientation': -0.444631253426403}\n",
      " {'axon_diam': 1.1952832689983268, 'solidity': 0.9581589958158996, 'eccentricity': 0.8139940831029089, 'y0': 609.8733624454148, 'x0': 5.951965065502184, 'orientation': -1.491997832925317}\n",
      " {'axon_diam': 2.828115303893628, 'solidity': 0.8940027894002789, 'eccentricity': 0.9452977944401401, 'y0': 618.3291731669267, 'x0': 88.62636505460219, 'orientation': 0.262744638446577}\n",
      " {'axon_diam': 2.5981650098246045, 'solidity': 0.9335634167385677, 'eccentricity': 0.3868206251094288, 'y0': 622.1977818853974, 'x0': 540.2402957486137, 'orientation': 0.504226869318189}\n",
      " {'axon_diam': 2.301478618204556, 'solidity': 0.9517937219730942, 'eccentricity': 0.5134268545182807, 'y0': 621.6702002355713, 'x0': 680.7149587750295, 'orientation': 0.3008926658937078}\n",
      " {'axon_diam': 3.7558079812693297, 'solidity': 0.9080321285140562, 'eccentricity': 0.8579428426631442, 'y0': 631.5435647943387, 'x0': 444.4015922158337, 'orientation': 0.2277865564301996}\n",
      " {'axon_diam': 1.4085318095827055, 'solidity': 0.9380530973451328, 'eccentricity': 0.4843696153802808, 'y0': 618.1132075471698, 'x0': 1306.993710691824, 'orientation': -0.1964645339881395}\n",
      " {'axon_diam': 5.393109447435784, 'solidity': 0.9003476245654692, 'eccentricity': 0.7789878730532324, 'y0': 648.0750750750751, 'x0': 1391.9633204633205, 'orientation': -0.4440650566398056}\n",
      " {'axon_diam': 0.5585191925620058, 'solidity': 0.9259259259259259, 'eccentricity': 0.5123655653079563, 'y0': 624.22, 'x0': 370.8, 'orientation': -0.6604187738268855}\n",
      " {'axon_diam': 1.1688940736676285, 'solidity': 0.9399141630901288, 'eccentricity': 0.45932444213613255, 'y0': 636.283105022831, 'x0': 348.73972602739724, 'orientation': 1.00127041100863}\n",
      " {'axon_diam': 0.7698655779252754, 'solidity': 0.9047619047619048, 'eccentricity': 0.7698082320706858, 'y0': 640.9263157894737, 'x0': 6.031578947368421, 'orientation': 0.3241135910653642}\n",
      " {'axon_diam': 0.9738114873622868, 'solidity': 0.9559748427672956, 'eccentricity': 0.6107053096531153, 'y0': 646.671052631579, 'x0': 369.3486842105263, 'orientation': 1.0215170594366132}\n",
      " {'axon_diam': 4.5388061410359875, 'solidity': 0.9598837209302326, 'eccentricity': 0.6713335176006385, 'y0': 671.8946093276802, 'x0': 894.7353119321623, 'orientation': -0.03711430083755002}\n",
      " {'axon_diam': 5.478614943909843, 'solidity': 0.9711344368187323, 'eccentricity': 0.5587405986659704, 'y0': 677.7865308667637, 'x0': 278.15693203076285, 'orientation': -0.14221819325412}\n",
      " {'axon_diam': 1.2312783299953585, 'solidity': 0.9382239382239382, 'eccentricity': 0.830104465926605, 'y0': 649.8641975308642, 'x0': 1294.5555555555557, 'orientation': 0.4921555678561043}\n",
      " {'axon_diam': 4.283518151616024, 'solidity': 0.9636304062909568, 'eccentricity': 0.6414408662330646, 'y0': 673.4960897653859, 'x0': 768.0574634478069, 'orientation': -0.27274323894687064}\n",
      " {'axon_diam': 1.2388554989278473, 'solidity': 0.9425287356321839, 'eccentricity': 0.6082752185442131, 'y0': 658.2439024390244, 'x0': 142.1829268292683, 'orientation': -1.026039225746846}\n",
      " {'axon_diam': 1.4798123843886448, 'solidity': 0.9410187667560321, 'eccentricity': 0.6479074318821957, 'y0': 663.9002849002849, 'x0': 693.4700854700855, 'orientation': -0.28348013014608753}\n",
      " {'axon_diam': 2.7667847973435196, 'solidity': 0.9489559164733179, 'eccentricity': 0.7454631919355115, 'y0': 681.8916055419722, 'x0': 183.27383863080684, 'orientation': 1.3311632076369186}\n",
      " {'axon_diam': 1.1391601046359014, 'solidity': 0.9203539823008849, 'eccentricity': 0.805890406091033, 'y0': 662.5913461538462, 'x0': 631.25, 'orientation': -0.05751193577241295}\n",
      " {'axon_diam': 1.5213882372274516, 'solidity': 0.9537275064267352, 'eccentricity': 0.6606017289844673, 'y0': 671.5956873315364, 'x0': 660.743935309973, 'orientation': -1.309737874481882}\n",
      " {'axon_diam': 1.5934935280901945, 'solidity': 0.9509345794392523, 'eccentricity': 0.5128224717321296, 'y0': 671.4054054054054, 'x0': 602.5896805896806, 'orientation': -0.9735543982259193}\n",
      " {'axon_diam': 0.781926869586808, 'solidity': 0.9333333333333333, 'eccentricity': 0.5398411778767522, 'y0': 670.5612244897959, 'x0': 979.5816326530612, 'orientation': -0.764036328494934}\n",
      " {'axon_diam': 1.785515190655732, 'solidity': 0.9462962962962963, 'eccentricity': 0.7633370290054249, 'y0': 680.1565557729941, 'x0': 365.1663405088063, 'orientation': 0.7504662305255204}\n",
      " {'axon_diam': 5.153531375231375, 'solidity': 0.9688211197086937, 'eccentricity': 0.522540811426275, 'y0': 701.4012215175006, 'x0': 72.91050035236081, 'orientation': 0.5871622983571319}\n",
      " {'axon_diam': 4.096653565918674, 'solidity': 0.7631205673758865, 'eccentricity': 0.9047524884144129, 'y0': 711.8412639405204, 'x0': 1242.2583643122678, 'orientation': 1.2447405410084689}\n",
      " {'axon_diam': 1.4734748289951884, 'solidity': 0.9482288828337875, 'eccentricity': 0.6705031808897128, 'y0': 677.8591954022988, 'x0': 1303.5689655172414, 'orientation': 0.4468787513430074}\n",
      " {'axon_diam': 0.6561114921070645, 'solidity': 0.92, 'eccentricity': 0.6174076136994222, 'y0': 677.9420289855072, 'x0': 1347.4782608695652, 'orientation': 0.871041708720142}\n",
      " {'axon_diam': 0.5239374445913377, 'solidity': 0.7096774193548387, 'eccentricity': 0.936505315169432, 'y0': 679.75, 'x0': 1480.9318181818182, 'orientation': -0.5542116416701174}\n",
      " {'axon_diam': 2.7679120268860467, 'solidity': 0.953416149068323, 'eccentricity': 0.7822506492788802, 'y0': 707.564332247557, 'x0': 564.6245928338762, 'orientation': 1.2377565056695208}\n",
      " {'axon_diam': 1.3357836269365848, 'solidity': 0.9137380191693291, 'eccentricity': 0.8586677809789383, 'y0': 696.9545454545455, 'x0': 688.3811188811189, 'orientation': -0.20847461578209914}\n",
      " {'axon_diam': 6.673311094544148, 'solidity': 0.9595375722543352, 'eccentricity': 0.5887424487714739, 'y0': 736.1625105071448, 'x0': 450.5689268702718, 'orientation': -0.01029569248257957}\n",
      " {'axon_diam': 2.8729827699891692, 'solidity': 0.9517985611510792, 'eccentricity': 0.7620363531066696, 'y0': 710.2615268329554, 'x0': 633.718820861678, 'orientation': 0.034304020404357115}\n",
      " {'axon_diam': 8.54625621053168, 'solidity': 0.9439606515078213, 'eccentricity': 0.5165218967534012, 'y0': 765.2899120184505, 'x0': 1010.9706158708465, 'orientation': 1.3799710507508933}\n",
      " {'axon_diam': 1.5069671701764564, 'solidity': 0.9503916449086162, 'eccentricity': 0.7021848936593326, 'y0': 715.2445054945055, 'x0': 1277.2087912087911, 'orientation': 1.5125242822962504}\n",
      " {'axon_diam': 0.9211334499471358, 'solidity': 0.9645390070921985, 'eccentricity': 0.6686374141582607, 'y0': 713.75, 'x0': 1307.2132352941176, 'orientation': -1.478055255715863}\n",
      " {'axon_diam': 1.8907338971290797, 'solidity': 0.9581939799331104, 'eccentricity': 0.7769865976584951, 'y0': 718.4520069808028, 'x0': 1360.1483420593368, 'orientation': 0.4864367559202944}\n",
      " {'axon_diam': 1.1952832689983268, 'solidity': 0.9385245901639344, 'eccentricity': 0.5876502215625025, 'y0': 717.6768558951965, 'x0': 1510.7816593886462, 'orientation': 1.3380441436551358}\n",
      " {'axon_diam': 1.9218255049217556, 'solidity': 0.9579288025889967, 'eccentricity': 0.6619397942871589, 'y0': 724.9949324324324, 'x0': 1411.9594594594594, 'orientation': 0.9963975963807241}\n",
      " {'axon_diam': 1.363519117292561, 'solidity': 0.946031746031746, 'eccentricity': 0.9603189408216751, 'y0': 734.5939597315436, 'x0': 1535.1912751677853, 'orientation': -1.536473476647663}\n",
      " {'axon_diam': 1.0858854186235463, 'solidity': 0.9264705882352942, 'eccentricity': 0.7456090664056659, 'y0': 725.957671957672, 'x0': 199.96296296296296, 'orientation': 0.5390969286168512}\n",
      " {'axon_diam': 1.5618577540090195, 'solidity': 0.9536585365853658, 'eccentricity': 0.6234427552280246, 'y0': 737.0332480818414, 'x0': 342.6624040920716, 'orientation': -1.2345838893110157}\n",
      " {'axon_diam': 0.9543980146163002, 'solidity': 0.9419354838709677, 'eccentricity': 0.5520485786018465, 'y0': 734.4657534246576, 'x0': 915.1301369863014, 'orientation': -0.7355889014198979}\n",
      " {'axon_diam': 2.0044537179406965, 'solidity': 0.9526627218934911, 'eccentricity': 0.788745244912704, 'y0': 744.22049689441, 'x0': 1483.7034161490683, 'orientation': -1.0084178649402216}\n",
      " {'axon_diam': 5.968581843465424, 'solidity': 0.9653423499577346, 'eccentricity': 0.736618607323124, 'y0': 768.6432574430823, 'x0': 719.3129597197899, 'orientation': 0.24194684201859468}\n",
      " {'axon_diam': 4.954792455977449, 'solidity': 0.9578870496592016, 'eccentricity': 0.6985173390303101, 'y0': 764.7186785260483, 'x0': 855.5509529860228, 'orientation': -0.26849412058968375}\n",
      " {'axon_diam': 1.8029013377759744, 'solidity': 0.9353680430879713, 'eccentricity': 0.6056475171076474, 'y0': 753.9404990403071, 'x0': 1446.0479846449136, 'orientation': -0.6614186717869095}\n",
      " {'axon_diam': 6.372995232816902, 'solidity': 0.9644444444444444, 'eccentricity': 0.787552265861779, 'y0': 794.4428571428572, 'x0': 1285.0619047619048, 'orientation': 0.767684740741001}\n",
      " {'axon_diam': 2.1105818797692835, 'solidity': 0.9394736842105263, 'eccentricity': 0.8084430548484545, 'y0': 763.3473389355743, 'x0': 1374.0560224089636, 'orientation': 1.0156809772015931}\n",
      " {'axon_diam': 3.3789257165022444, 'solidity': 0.9270516717325228, 'eccentricity': 0.7203392663599868, 'y0': 778.0562841530054, 'x0': 1178.0502732240436, 'orientation': 0.3692442561284131}\n",
      " {'axon_diam': 1.7942293233888433, 'solidity': 0.9537892791127541, 'eccentricity': 0.6066364036776989, 'y0': 769.953488372093, 'x0': 626.1763565891473, 'orientation': 1.0101752107947946}\n",
      " {'axon_diam': 2.050609889872364, 'solidity': 0.9560283687943263, 'eccentricity': 0.5625990538868371, 'y0': 772.0252225519288, 'x0': 193.70178041543028, 'orientation': 0.6030515123749983}\n",
      " {'axon_diam': 2.3983831251917445, 'solidity': 0.944672131147541, 'eccentricity': 0.6838065819641063, 'y0': 785.8383947939262, 'x0': 567.2082429501085, 'orientation': 0.8643316562056584}\n",
      " {'axon_diam': 1.8184067470390715, 'solidity': 0.9430604982206405, 'eccentricity': 0.6780359409086507, 'y0': 788.011320754717, 'x0': 1404.6773584905661, 'orientation': -1.4022073128149541}\n",
      " {'axon_diam': 1.8857778364498057, 'solidity': 0.9421487603305785, 'eccentricity': 0.7911806727812746, 'y0': 789.1771929824562, 'x0': 358.5736842105263, 'orientation': -0.5870418102461668}\n",
      " {'axon_diam': 1.1253849897470938, 'solidity': 0.9398148148148148, 'eccentricity': 0.8536881051755217, 'y0': 784.6995073891626, 'x0': 31.03448275862069, 'orientation': 0.26906008088684297}\n",
      " {'axon_diam': 0.6015435799788186, 'solidity': 0.9354838709677419, 'eccentricity': 0.7594425697938023, 'y0': 780.8965517241379, 'x0': 253.20689655172413, 'orientation': 0.032534370800396964}\n",
      " {'axon_diam': 3.9854952786810642, 'solidity': 0.9557057057057057, 'eccentricity': 0.7245374155316473, 'y0': 804.738413197172, 'x0': 109.83778476040848, 'orientation': 0.2696147569625303}\n",
      " {'axon_diam': 0.4397784520019953, 'solidity': 0.9393939393939394, 'eccentricity': 0.65897130148335, 'y0': 784.1935483870968, 'x0': 518.0, 'orientation': -0.0}\n",
      " {'axon_diam': 1.6605969426647202, 'solidity': 0.9384288747346072, 'eccentricity': 0.7594116541346337, 'y0': 792.2601809954751, 'x0': 1477.0294117647059, 'orientation': -0.5726210843779183}\n",
      " {'axon_diam': 7.101324994426194, 'solidity': 0.9475967174677609, 'eccentricity': 0.5852820519270236, 'y0': 833.3882221947297, 'x0': 281.2247927749598, 'orientation': -0.4921935138630632}\n",
      " {'axon_diam': 1.8473396958203592, 'solidity': 0.9562937062937062, 'eccentricity': 0.31095102410040126, 'y0': 806.3235831809872, 'x0': 615.4314442413163, 'orientation': 0.588099708904163}\n",
      " {'axon_diam': 1.5131644567915425, 'solidity': 0.9458762886597938, 'eccentricity': 0.6988869785612647, 'y0': 803.9591280653951, 'x0': 1366.8119891008175, 'orientation': 0.5448512923001627}\n",
      " {'axon_diam': 2.7258941026973034, 'solidity': 0.9762295081967213, 'eccentricity': 0.7917238134719524, 'y0': 828.0705289672544, 'x0': 1526.1922753988244, 'orientation': -1.5458851250879957}\n",
      " {'axon_diam': 1.8940307329321038, 'solidity': 0.9631490787269682, 'eccentricity': 0.7321305527966752, 'y0': 818.1965217391304, 'x0': 397.36347826086956, 'orientation': -0.2970707768995275}\n",
      " {'axon_diam': 1.5954499358596426, 'solidity': 0.9147982062780269, 'eccentricity': 0.7549464295142664, 'y0': 822.4754901960785, 'x0': 25.705882352941178, 'orientation': 1.1960879937396764}\n",
      " {'axon_diam': 0.8246437053922442, 'solidity': 0.8934426229508197, 'eccentricity': 0.4537566339156441, 'y0': 818.8807339449542, 'x0': 182.5045871559633, 'orientation': 0.3628660599833873}\n",
      " {'axon_diam': 1.2858077417866984, 'solidity': 0.9532374100719424, 'eccentricity': 0.3906155397756827, 'y0': 826.2603773584906, 'x0': 572.1509433962265, 'orientation': 1.131422525600205}\n",
      " {'axon_diam': 2.7236043970410853, 'solidity': 0.9596448748991122, 'eccentricity': 0.6540622896393066, 'y0': 834.2952060555089, 'x0': 458.2413793103448, 'orientation': 0.0011371950621337724}\n",
      " {'axon_diam': 2.2410473855337933, 'solidity': 0.9481743227326266, 'eccentricity': 0.7085410465954447, 'y0': 832.2658385093167, 'x0': 527.048447204969, 'orientation': 0.052736178935160284}\n",
      " {'axon_diam': 3.7232751060279585, 'solidity': 0.9379485014774166, 'eccentricity': 0.49933292023242026, 'y0': 848.8078307830783, 'x0': 1455.04500450045, 'orientation': 0.5500840583598795}\n",
      " {'axon_diam': 1.9444170088066481, 'solidity': 0.9588607594936709, 'eccentricity': 0.33631241492902675, 'y0': 837.2062706270627, 'x0': 788.3333333333334, 'orientation': -0.5924983312948829}\n",
      " {'axon_diam': 2.760011752184401, 'solidity': 0.905114899925871, 'eccentricity': 0.7796170578383053, 'y0': 850.002457002457, 'x0': 1389.4742014742014, 'orientation': 1.496211350274005}\n",
      " {'axon_diam': 2.353745930862471, 'solidity': 0.9477054429028815, 'eccentricity': 0.7356947452380859, 'y0': 848.0011261261261, 'x0': 636.1610360360361, 'orientation': 1.2428664595501757}\n",
      " {'axon_diam': 1.1001552214234345, 'solidity': 0.9150943396226415, 'eccentricity': 0.7599008670840602, 'y0': 842.6855670103092, 'x0': 1339.1288659793815, 'orientation': -0.18367187018133319}\n",
      " {'axon_diam': 1.03890575225667, 'solidity': 0.9453551912568307, 'eccentricity': 0.6771265690297554, 'y0': 846.1387283236994, 'x0': 383.04046242774564, 'orientation': 0.4871377542708013}\n",
      " {'axon_diam': 1.2185450164315421, 'solidity': 0.9153846153846154, 'eccentricity': 0.7763555296103293, 'y0': 848.3025210084033, 'x0': 594.6848739495798, 'orientation': 0.7335398191028952}\n",
      " {'axon_diam': 8.656506965392497, 'solidity': 0.9358734611189029, 'eccentricity': 0.5750666478469333, 'y0': 899.9489634501707, 'x0': 1150.5500790941637, 'orientation': -0.811938179478706}\n",
      " {'axon_diam': 5.211316294117792, 'solidity': 0.9679786524349566, 'eccentricity': 0.45784714394714343, 'y0': 875.7229496898691, 'x0': 867.7422467263956, 'orientation': 0.18768159004352908}\n",
      " {'axon_diam': 2.0927707437700893, 'solidity': 0.8908629441624365, 'eccentricity': 0.8664073621440095, 'y0': 857.531339031339, 'x0': 175.2863247863248, 'orientation': -0.46379426648123184}\n",
      " {'axon_diam': 1.2978813187979172, 'solidity': 0.9342560553633218, 'eccentricity': 0.7442537908924578, 'y0': 856.4148148148148, 'x0': 565.4814814814815, 'orientation': -0.9037773709369463}\n",
      " {'axon_diam': 1.029858505215348, 'solidity': 0.9444444444444444, 'eccentricity': 0.6738949856537968, 'y0': 856.7588235294118, 'x0': 950.2705882352941, 'orientation': -0.6760032457482792}\n",
      " {'axon_diam': 0.30591356056578217, 'solidity': 0.8333333333333334, 'eccentricity': 0.8956544020083581, 'y0': 854.0, 'x0': 1329.2, 'orientation': -0.8625575513605078}\n",
      " {'axon_diam': 0.44681535404960465, 'solidity': 0.9411764705882353, 'eccentricity': 0.5667141102435747, 'y0': 857.0, 'x0': 1344.78125, 'orientation': -0.5217497164013241}\n",
      " {'axon_diam': 7.207278474041248, 'solidity': 0.9708488805970149, 'eccentricity': 0.7081200725799847, 'y0': 897.9177276002882, 'x0': 725.670429978381, 'orientation': -0.027958730446706007}\n",
      " {'axon_diam': 1.0053345466116106, 'solidity': 0.9364161849710982, 'eccentricity': 0.5980448874832006, 'y0': 869.2530864197531, 'x0': 375.5925925925926, 'orientation': -1.1153538463401247}\n",
      " {'axon_diam': 1.8063584863732896, 'solidity': 0.9491833030852994, 'eccentricity': 0.2982633630327306, 'y0': 876.2198852772467, 'x0': 418.9483747609943, 'orientation': -1.4916185391760444}\n",
      " {'axon_diam': 1.295475605295375, 'solidity': 0.9340277777777778, 'eccentricity': 0.8338896442020757, 'y0': 871.8215613382899, 'x0': 472.6282527881041, 'orientation': 0.7319244700786501}\n",
      " {'axon_diam': 0.9478385003602307, 'solidity': 0.9473684210526315, 'eccentricity': 0.8423242821061244, 'y0': 869.3611111111111, 'x0': 116.23611111111111, 'orientation': 0.02738714427055634}\n",
      " {'axon_diam': 1.884122919205673, 'solidity': 0.964406779661017, 'eccentricity': 0.6621174322195409, 'y0': 878.5289982425307, 'x0': 1015.3796133567663, 'orientation': 0.2770109743134797}\n",
      " {'axon_diam': 1.7142081394318143, 'solidity': 0.9534412955465587, 'eccentricity': 0.45469800277420025, 'y0': 884.4755838641189, 'x0': 594.3099787685775, 'orientation': 1.1457599119466702}\n",
      " {'axon_diam': 5.174673537279068, 'solidity': 0.9588918677390528, 'eccentricity': 0.7427947279730622, 'y0': 911.8245573159367, 'x0': 1294.071761416589, 'orientation': 0.5852633321813683}\n",
      " {'axon_diam': 1.2236542422631287, 'solidity': 0.9195402298850575, 'eccentricity': 0.870666440329685, 'y0': 886.0458333333333, 'x0': 150.72916666666666, 'orientation': -0.3045806781957381}\n",
      " {'axon_diam': 4.260150677453732, 'solidity': 0.9667663675639747, 'eccentricity': 0.5396830547330689, 'y0': 911.5916122378825, 'x0': 519.7731179099347, 'orientation': 0.47990762978271007}\n",
      " {'axon_diam': 1.9022478245847287, 'solidity': 0.9570957095709571, 'eccentricity': 0.6376155024841067, 'y0': 893.4344827586207, 'x0': 974.0931034482759, 'orientation': 1.1019122923640272}\n",
      " {'axon_diam': 1.1309151704201652, 'solidity': 0.8913043478260869, 'eccentricity': 0.8504986199680507, 'y0': 888.8048780487804, 'x0': 280.64878048780486, 'orientation': -0.037689846758298715}\n",
      " {'axon_diam': 6.001418021568308, 'solidity': 0.9456183456183456, 'eccentricity': 0.7232756397631467, 'y0': 931.0362030140309, 'x0': 1497.0594145158495, 'orientation': 0.2998239629251238}\n",
      " {'axon_diam': 1.1926706248491763, 'solidity': 0.9539748953974896, 'eccentricity': 0.6281200845932335, 'y0': 896.328947368421, 'x0': 197.21052631578948, 'orientation': 0.7273472840290959}\n",
      " {'axon_diam': 1.9104295734162369, 'solidity': 0.9558823529411765, 'eccentricity': 0.7445912594563493, 'y0': 901.9897435897436, 'x0': 383.8051282051282, 'orientation': -0.6424155528205578}\n",
      " {'axon_diam': 1.171559742063761, 'solidity': 0.9565217391304348, 'eccentricity': 0.5527983567042428, 'y0': 902.9545454545455, 'x0': 942.0227272727273, 'orientation': -1.4027168351249142}\n",
      " {'axon_diam': 1.1821623087805309, 'solidity': 0.9333333333333333, 'eccentricity': 0.37803859927689515, 'y0': 904.0267857142857, 'x0': 223.20089285714286, 'orientation': -0.509735253013246}\n",
      " {'axon_diam': 0.9511239122923644, 'solidity': 0.9415584415584416, 'eccentricity': 0.544614008241157, 'y0': 906.5241379310345, 'x0': 618.3586206896551, 'orientation': -0.7594109590629268}\n",
      " {'axon_diam': 8.386347476715802, 'solidity': 0.9531580282404667, 'eccentricity': 0.7253113124699386, 'y0': 970.53739022443, 'x0': 1025.4723676040096, 'orientation': 0.9658497510666736}\n",
      " {'axon_diam': 0.15797308339337177, 'solidity': 1.0, 'eccentricity': 0.0, 'y0': 900.5, 'x0': 1357.5, 'orientation': 0.7853981633974483}\n",
      " {'axon_diam': 2.547239431221649, 'solidity': 0.9558823529411765, 'eccentricity': 0.6298756517519416, 'y0': 920.6884615384615, 'x0': 1389.621153846154, 'orientation': 1.3314186284442495}\n",
      " {'axon_diam': 1.1821623087805309, 'solidity': 0.9333333333333333, 'eccentricity': 0.31751059548751825, 'y0': 920.0357142857143, 'x0': 595.4910714285714, 'orientation': -1.220154494756941}\n",
      " {'axon_diam': 1.0973161064415502, 'solidity': 0.9414634146341463, 'eccentricity': 0.6418472124240716, 'y0': 922.3886010362694, 'x0': 449.860103626943, 'orientation': -1.0086424578208133}\n",
      " {'axon_diam': 2.1061432168546452, 'solidity': 0.948, 'eccentricity': 0.4205352181167383, 'y0': 933.0745428973277, 'x0': 206.9563994374121, 'orientation': 1.412241696435176}\n",
      " {'axon_diam': 2.6445751067564287, 'solidity': 0.8415915915915916, 'eccentricity': 0.9095944597112922, 'y0': 938.8180196253345, 'x0': 104.28456735057983, 'orientation': -0.4290800456469066}\n",
      " {'axon_diam': 1.2858077417866984, 'solidity': 0.9566787003610109, 'eccentricity': 0.49373202135417904, 'y0': 931.6037735849056, 'x0': 427.4867924528302, 'orientation': 1.4833766688836763}\n",
      " {'axon_diam': 0.8971146616944217, 'solidity': 0.9084507042253521, 'eccentricity': 0.3246064063808557, 'y0': 930.2713178294574, 'x0': 927.5736434108527, 'orientation': 0.6308081953371817}\n",
      " {'axon_diam': 3.2995203783668337, 'solidity': 0.9609030837004405, 'eccentricity': 0.5816052941738834, 'y0': 946.6383954154728, 'x0': 296.89856733524357, 'orientation': -0.10839426730399115}\n",
      " {'axon_diam': 1.0973161064415502, 'solidity': 0.9368932038834952, 'eccentricity': 0.381710744380615, 'y0': 936.1813471502591, 'x0': 400.139896373057, 'orientation': -0.27044956905360323}\n",
      " {'axon_diam': 1.39741457333188, 'solidity': 0.937125748502994, 'eccentricity': 0.38543731984124857, 'y0': 938.6038338658147, 'x0': 619.923322683706, 'orientation': 0.8891770186587805}\n",
      " {'axon_diam': 2.4358097122951508, 'solidity': 0.9538615847542627, 'eccentricity': 0.772641895445352, 'y0': 949.1808622502629, 'x0': 803.4858044164038, 'orientation': 1.0820094868305816}\n",
      " {'axon_diam': 1.535673886200605, 'solidity': 0.9356435643564357, 'eccentricity': 0.6448934951858504, 'y0': 957.5396825396825, 'x0': 236.32010582010582, 'orientation': 1.2449646938151946}\n",
      " {'axon_diam': 1.365804984978268, 'solidity': 0.9462025316455697, 'eccentricity': 0.455800737488807, 'y0': 954.6521739130435, 'x0': 367.27759197324417, 'orientation': 0.7166939221536393}\n",
      " {'axon_diam': 4.827234563181137, 'solidity': 0.9631253223310985, 'eccentricity': 0.5364994184457657, 'y0': 988.356358768407, 'x0': 875.5775100401606, 'orientation': 1.4422581706873183}\n",
      " {'axon_diam': 1.39741457333188, 'solidity': 0.9343283582089552, 'eccentricity': 0.5469083544436054, 'y0': 967.7667731629393, 'x0': 572.6070287539936, 'orientation': -1.3340793237639623}\n",
      " {'axon_diam': 6.4372820021373665, 'solidity': 0.9429301533219762, 'eccentricity': 0.942883894182081, 'y0': 1000.32219211081, 'x0': 475.45137006925626, 'orientation': -0.15260106651270533}\n",
      " {'axon_diam': 4.120191200174993, 'solidity': 0.9618239660657476, 'eccentricity': 0.5340531371896808, 'y0': 996.2973171628078, 'x0': 653.279309077545, 'orientation': -0.22597289185910505}\n",
      " {'axon_diam': 0.6269362387513939, 'solidity': 0.9402985074626866, 'eccentricity': 0.8370796490028597, 'y0': 975.5714285714286, 'x0': 1233.047619047619, 'orientation': 0.6815612623127543}\n",
      " {'axon_diam': 1.5558544348525962, 'solidity': 0.941747572815534, 'eccentricity': 0.6539198674237908, 'y0': 985.0824742268042, 'x0': 351.930412371134, 'orientation': -0.610310459736747}\n",
      " {'axon_diam': 1.4755903718348131, 'solidity': 0.8925831202046036, 'eccentricity': 0.9440171454502944, 'y0': 988.7793696275072, 'x0': 188.8137535816619, 'orientation': -0.5349940180129596}\n",
      " {'axon_diam': 3.2843588030163167, 'solidity': 0.9686274509803922, 'eccentricity': 0.6255373518963936, 'y0': 998.7721226142279, 'x0': 752.5228455754772, 'orientation': -0.524380331992437}\n",
      " {'axon_diam': 2.2796889809238268, 'solidity': 0.9563719862227325, 'eccentricity': 0.7420884846151429, 'y0': 1002.4033613445379, 'x0': 819.6434573829532, 'orientation': 1.5353668802146148}\n",
      " {'axon_diam': 3.840403310902936, 'solidity': 0.9155693261037955, 'eccentricity': 0.9542023172797707, 'y0': 1027.8481387478848, 'x0': 1208.2021996615906, 'orientation': 0.3353363348257162}\n",
      " {'axon_diam': 2.587336768639534, 'solidity': 0.9675383228133454, 'eccentricity': 0.42794907526081255, 'y0': 1034.3606710158435, 'x0': 1478.0829450139795, 'orientation': -0.14597186274186352}\n",
      " {'axon_diam': 0.8359149850018586, 'solidity': 0.8549618320610687, 'eccentricity': 0.8898338864672015, 'y0': 1035.9642857142858, 'x0': 1318.4017857142858, 'orientation': 1.3506532089253434}\n",
      " {'axon_diam': 1.1253849897470938, 'solidity': 0.9311926605504587, 'eccentricity': 0.5262108320634733, 'y0': 1038.1083743842364, 'x0': 793.4285714285714, 'orientation': -0.7464394210434356}\n",
      " {'axon_diam': 1.1874280912289887, 'solidity': 0.7243589743589743, 'eccentricity': 0.9941710630154809, 'y0': 1072.08407079646, 'x0': 1536.5442477876106, 'orientation': 1.529922447738861}\n",
      " {'axon_diam': 1.3771774126224618, 'solidity': 0.9470404984423676, 'eccentricity': 0.8317834295886452, 'y0': 1065.9309210526317, 'x0': 1238.6743421052631, 'orientation': -0.6304289854220334}\n",
      " {'axon_diam': 3.9917519470205898, 'solidity': 0.7741739921188239, 'eccentricity': 0.9820924011797313, 'y0': 1082.2509788566954, 'x0': 1371.2952231793265, 'orientation': 0.12475996639379675}\n",
      " {'axon_diam': 2.98167656212294, 'solidity': 0.9175788795878944, 'eccentricity': 0.9736120123421269, 'y0': 1085.2505263157896, 'x0': 1152.36, 'orientation': 0.10221645638439728}\n",
      " {'axon_diam': 0.4869057436811434, 'solidity': 0.926829268292683, 'eccentricity': 0.8610168589971708, 'y0': 1090.7368421052631, 'x0': 1223.5, 'orientation': -0.5099966915388378}\n",
      " {'axon_diam': 0.9412332735441976, 'solidity': 0.922077922077922, 'eccentricity': 0.964815348071317, 'y0': 1091.6760563380283, 'x0': 1485.5422535211267, 'orientation': 0.038968994430736925}\n",
      " {'axon_diam': 0.44681535404960465, 'solidity': 0.8421052631578947, 'eccentricity': 0.9173207033133357, 'y0': 1091.3125, 'x0': 214.5, 'orientation': -0.0}]\n"
     ]
    }
   ],
   "source": [
    "print stats_array"
   ]
  },
  {
   "cell_type": "code",
   "execution_count": null,
   "metadata": {},
   "outputs": [],
   "source": []
  },
  {
   "cell_type": "code",
   "execution_count": null,
   "metadata": {},
   "outputs": [],
   "source": []
  },
  {
   "cell_type": "code",
   "execution_count": 16,
   "metadata": {},
   "outputs": [
    {
     "name": "stdout",
     "output_type": "stream",
     "text": [
      "['axon_diam', 'solidity', 'eccentricity', 'y0', 'x0', 'orientation']\n"
     ]
    }
   ],
   "source": [
    "print stats.keys()"
   ]
  },
  {
   "cell_type": "code",
   "execution_count": 17,
   "metadata": {},
   "outputs": [
    {
     "name": "stdout",
     "output_type": "stream",
     "text": [
      "1.69958776035\n"
     ]
    }
   ],
   "source": [
    "# Get axon diameter value of axon object 0\n",
    "print stats_array[0]['axon_diam']"
   ]
  },
  {
   "cell_type": "code",
   "execution_count": 18,
   "metadata": {},
   "outputs": [
    {
     "name": "stdout",
     "output_type": "stream",
     "text": [
      "{'axon_diam': 1.6995877603526874, 'solidity': 0.9605809128630706, 'eccentricity': 0.9739720454622895, 'y0': 5.280777537796976, 'x0': 116.99352051835854, 'orientation': -0.02154700130228092}\n"
     ]
    }
   ],
   "source": [
    "# Get all stats for axon object 0\n",
    "print stats_array[0]"
   ]
  },
  {
   "cell_type": "code",
   "execution_count": 19,
   "metadata": {},
   "outputs": [],
   "source": [
    "# Get axon diameter value of all axons in list\n",
    "axon_diam_list = [d['axon_diam'] for d in stats_array]"
   ]
  },
  {
   "cell_type": "code",
   "execution_count": 20,
   "metadata": {},
   "outputs": [
    {
     "name": "stdout",
     "output_type": "stream",
     "text": [
      "296\n"
     ]
    }
   ],
   "source": [
    "# Get number of axons\n",
    "print np.size(axon_diam_list)"
   ]
  },
  {
   "cell_type": "code",
   "execution_count": 21,
   "metadata": {},
   "outputs": [
    {
     "name": "stdout",
     "output_type": "stream",
     "text": [
      "2.572955000815824\n"
     ]
    }
   ],
   "source": [
    "# Get mean diameter\n",
    "mean_diam = np.mean(axon_diam_list)\n",
    "print mean_diam"
   ]
  },
  {
   "cell_type": "code",
   "execution_count": 127,
   "metadata": {},
   "outputs": [],
   "source": [
    "import csv\n",
    "\n",
    "with open(os.path.join(path_folder,'stats.csv'), 'wb') as myfile:\n",
    "    wr = csv.writer(myfile, quoting=csv.QUOTE_ALL)\n",
    "    wr.writerow(stats_array)\n"
   ]
  },
  {
   "cell_type": "code",
   "execution_count": 128,
   "metadata": {},
   "outputs": [],
   "source": [
    "import csv\n",
    "toCSV = stats_array\n",
    "keys = toCSV[0].keys()\n",
    "with open(os.path.join(path_folder,'stats.csv'), 'wb') as output_file:\n",
    "    dict_writer = csv.DictWriter(output_file, keys)\n",
    "    dict_writer.writeheader()\n",
    "    dict_writer.writerows(toCSV)"
   ]
  },
  {
   "cell_type": "code",
   "execution_count": null,
   "metadata": {},
   "outputs": [],
   "source": []
  },
  {
   "cell_type": "code",
   "execution_count": null,
   "metadata": {},
   "outputs": [],
   "source": []
  },
  {
   "cell_type": "code",
   "execution_count": 129,
   "metadata": {},
   "outputs": [],
   "source": [
    "with open(os.path.join(path_folder,'stats.csv'), 'wb') as output:\n",
    "    writer = csv.writer(output)\n",
    "    for each in stats_array:\n",
    "        for key, value in each.iteritems():\n",
    "            writer.writerow([key, value])"
   ]
  },
  {
   "cell_type": "code",
   "execution_count": null,
   "metadata": {},
   "outputs": [],
   "source": []
  },
  {
   "cell_type": "code",
   "execution_count": null,
   "metadata": {},
   "outputs": [],
   "source": []
  },
  {
   "cell_type": "code",
   "execution_count": null,
   "metadata": {},
   "outputs": [],
   "source": []
  },
  {
   "cell_type": "code",
   "execution_count": null,
   "metadata": {},
   "outputs": [],
   "source": []
  },
  {
   "cell_type": "code",
   "execution_count": null,
   "metadata": {},
   "outputs": [],
   "source": []
  },
  {
   "cell_type": "code",
   "execution_count": 133,
   "metadata": {},
   "outputs": [],
   "source": [
    "class Axon:\n",
    "    def __init__(self,x0=None,y0=None,axon_diam=None):\n",
    "        self.__x0=x0\n",
    "        self.__y0=y0\n",
    "        self.__axon_diam=axon_diam\n",
    "    def getDiameter(self):\n",
    "        return self.__axon_diam\n",
    "    def getPosx(self):\n",
    "        return self.__x0\n",
    "    def getPosy(self):\n",
    "        return self.__y0\n",
    "    def __hash__(self):\n",
    "        return hash((self.__axon_diam,self.__x0,self.__y0))\n",
    "    def __eq__(self, other):\n",
    "        return self.__axon_diam,self.__x0,self.__y0==other.__axon_diam,other.__x0,other.__y0\n",
    "    def toArray(self):\n",
    "        return [self.__x0,\n",
    "            self.__y0,\n",
    "            self.__axon_diam]"
   ]
  },
  {
   "cell_type": "code",
   "execution_count": null,
   "metadata": {},
   "outputs": [],
   "source": []
  },
  {
   "cell_type": "code",
   "execution_count": null,
   "metadata": {},
   "outputs": [],
   "source": []
  },
  {
   "cell_type": "code",
   "execution_count": null,
   "metadata": {},
   "outputs": [],
   "source": []
  },
  {
   "cell_type": "code",
   "execution_count": 29,
   "metadata": {},
   "outputs": [
    {
     "data": {
      "image/png": "[encoded data removed]",
      "text/plain": [
       "<matplotlib.figure.Figure at 0x11e5c3e10>"
      ]
     },
     "metadata": {},
     "output_type": "display_data"
    }
   ],
   "source": [
    "labels = measure.label(pred_axon)\n",
    "axon_objects = regionprops(labels)\n",
    "\n",
    "\n",
    "\n",
    "plt.imshow(labels,cmap='hot')\n",
    "\n",
    "imageio.imwrite('aaa.png', labels)\n"
   ]
  },
  {
   "cell_type": "code",
   "execution_count": 171,
   "metadata": {},
   "outputs": [
    {
     "ename": "TypeError",
     "evalue": "'numpy.ndarray' object is not callable",
     "output_type": "error",
     "traceback": [
      "\u001b[0;31m---------------------------------------------------------------------------\u001b[0m",
      "\u001b[0;31mTypeError\u001b[0m                                 Traceback (most recent call last)",
      "\u001b[0;32m<ipython-input-171-50dffa3a0473>\u001b[0m in \u001b[0;36m<module>\u001b[0;34m()\u001b[0m\n\u001b[0;32m----> 1\u001b[0;31m \u001b[0mlabels\u001b[0m\u001b[0;34m(\u001b[0m\u001b[0;36m1150\u001b[0m\u001b[0;34m,\u001b[0m\u001b[0;36m600\u001b[0m\u001b[0;34m)\u001b[0m\u001b[0;34m\u001b[0m\u001b[0m\n\u001b[0m",
      "\u001b[0;31mTypeError\u001b[0m: 'numpy.ndarray' object is not callable"
     ]
    }
   ],
   "source": [
    "labels(1150,600)"
   ]
  },
  {
   "cell_type": "code",
   "execution_count": 172,
   "metadata": {},
   "outputs": [
    {
     "name": "stdout",
     "output_type": "stream",
     "text": [
      "0\n"
     ]
    }
   ],
   "source": [
    "print np.min(labels)"
   ]
  },
  {
   "cell_type": "code",
   "execution_count": 23,
   "metadata": {},
   "outputs": [
    {
     "ename": "IndexError",
     "evalue": "list index out of range",
     "output_type": "error",
     "traceback": [
      "\u001b[0;31m---------------------------------------------------------------------------\u001b[0m",
      "\u001b[0;31mIndexError\u001b[0m                                Traceback (most recent call last)",
      "\u001b[0;32m<ipython-input-23-f730e9468dbd>\u001b[0m in \u001b[0;36m<module>\u001b[0;34m()\u001b[0m\n\u001b[1;32m      8\u001b[0m \u001b[0;32mfor\u001b[0m \u001b[0mpix_x\u001b[0m \u001b[0;32min\u001b[0m \u001b[0mnp\u001b[0m\u001b[0;34m.\u001b[0m\u001b[0marange\u001b[0m\u001b[0;34m(\u001b[0m\u001b[0mnp\u001b[0m\u001b[0;34m.\u001b[0m\u001b[0mshape\u001b[0m\u001b[0;34m(\u001b[0m\u001b[0mlabels\u001b[0m\u001b[0;34m)\u001b[0m\u001b[0;34m[\u001b[0m\u001b[0;36m0\u001b[0m\u001b[0;34m]\u001b[0m\u001b[0;34m)\u001b[0m\u001b[0;34m:\u001b[0m\u001b[0;34m\u001b[0m\u001b[0m\n\u001b[1;32m      9\u001b[0m        \u001b[0;32mfor\u001b[0m \u001b[0mpix_y\u001b[0m \u001b[0;32min\u001b[0m \u001b[0mnp\u001b[0m\u001b[0;34m.\u001b[0m\u001b[0marange\u001b[0m\u001b[0;34m(\u001b[0m\u001b[0mnp\u001b[0m\u001b[0;34m.\u001b[0m\u001b[0mshape\u001b[0m\u001b[0;34m(\u001b[0m\u001b[0mlabels\u001b[0m\u001b[0;34m)\u001b[0m\u001b[0;34m[\u001b[0m\u001b[0;36m1\u001b[0m\u001b[0;34m]\u001b[0m\u001b[0;34m)\u001b[0m\u001b[0;34m:\u001b[0m\u001b[0;34m\u001b[0m\u001b[0m\n\u001b[0;32m---> 10\u001b[0;31m             \u001b[0mlabels\u001b[0m\u001b[0;34m[\u001b[0m\u001b[0mpix_x\u001b[0m\u001b[0;34m,\u001b[0m\u001b[0mpix_y\u001b[0m\u001b[0;34m]\u001b[0m \u001b[0;34m=\u001b[0m \u001b[0maxon_diam_list\u001b[0m\u001b[0;34m[\u001b[0m\u001b[0mlabels\u001b[0m\u001b[0;34m[\u001b[0m\u001b[0mpix_x\u001b[0m\u001b[0;34m,\u001b[0m\u001b[0mpix_y\u001b[0m\u001b[0;34m]\u001b[0m\u001b[0;34m]\u001b[0m\u001b[0;34m\u001b[0m\u001b[0m\n\u001b[0m\u001b[1;32m     11\u001b[0m \u001b[0;34m\u001b[0m\u001b[0m\n\u001b[1;32m     12\u001b[0m \u001b[0;34m\u001b[0m\u001b[0m\n",
      "\u001b[0;31mIndexError\u001b[0m: list index out of range"
     ]
    }
   ],
   "source": [
    "\n",
    "\n",
    "axon_diam_list = [d['axon_diam'] for d in stats_array]\n",
    "\n",
    "axon_iter = np.arange(np.size(axon_diam_list))\n",
    "\n",
    "\n",
    "for pix_x in np.arange(np.shape(labels)[0]):\n",
    "       for pix_y in np.arange(np.shape(labels)[1]):\n",
    "            labels[pix_x,pix_y] = axon_diam_list[labels[pix_x,pix_y]]\n",
    "\n",
    "\n"
   ]
  },
  {
   "cell_type": "code",
   "execution_count": 25,
   "metadata": {},
   "outputs": [
    {
     "data": {
      "text/plain": [
       "array([[False, False, False, ..., False, False, False],\n",
       "       [False, False, False, ..., False, False, False],\n",
       "       [False, False, False, ..., False, False, False],\n",
       "       ...,\n",
       "       [False, False, False, ..., False, False, False],\n",
       "       [False, False, False, ..., False, False, False],\n",
       "       [False, False, False, ..., False, False, False]])"
      ]
     },
     "execution_count": 25,
     "metadata": {},
     "output_type": "execute_result"
    }
   ],
   "source": [
    "labels==2"
   ]
  },
  {
   "cell_type": "code",
   "execution_count": 26,
   "metadata": {},
   "outputs": [],
   "source": [
    "axon_iter = np.arange(np.size(axon_diam_list))"
   ]
  },
  {
   "cell_type": "code",
   "execution_count": null,
   "metadata": {},
   "outputs": [],
   "source": []
  },
  {
   "cell_type": "code",
   "execution_count": 24,
   "metadata": {},
   "outputs": [
    {
     "data": {
      "text/plain": [
       "1688936"
      ]
     },
     "execution_count": 24,
     "metadata": {},
     "output_type": "execute_result"
    }
   ],
   "source": [
    "np.size(pred_axon)"
   ]
  },
  {
   "cell_type": "code",
   "execution_count": null,
   "metadata": {},
   "outputs": [],
   "source": []
  },
  {
   "cell_type": "code",
   "execution_count": null,
   "metadata": {},
   "outputs": [],
   "source": []
  },
  {
   "cell_type": "code",
   "execution_count": null,
   "metadata": {},
   "outputs": [],
   "source": []
  },
  {
   "cell_type": "code",
   "execution_count": null,
   "metadata": {},
   "outputs": [],
   "source": []
  },
  {
   "cell_type": "code",
   "execution_count": null,
   "metadata": {},
   "outputs": [],
   "source": []
  }
 ],
 "metadata": {
  "anaconda-cloud": {},
  "kernelspec": {
   "display_name": "Python 2",
   "language": "python",
   "name": "python2"
  },
  "language_info": {
   "codemirror_mode": {
    "name": "ipython",
    "version": 2
   },
   "file_extension": ".py",
   "mimetype": "text/x-python",
   "name": "python",
   "nbconvert_exporter": "python",
   "pygments_lexer": "ipython2",
   "version": "2.7.10"
  }
 },
 "nbformat": 4,
 "nbformat_minor": 2
}
