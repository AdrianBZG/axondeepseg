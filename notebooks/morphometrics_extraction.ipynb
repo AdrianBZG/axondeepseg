{
 "cells": [
  {
   "cell_type": "markdown",
   "metadata": {},
   "source": [
    "### Jupyter Notebook to compute morphological metrics from axon and myelin segmentation of a microscopy sample.\n",
    "\n",
    "- To use it, you need the paths of the microscopy image and the segmentation prediction (output of AxonDeepSeg).\n"
   ]
  },
  {
   "cell_type": "markdown",
   "metadata": {},
   "source": [
    "#### Imports"
   ]
  },
  {
   "cell_type": "code",
   "execution_count": 149,
   "metadata": {},
   "outputs": [],
   "source": [
    "import numpy as np\n",
    "from skimage import io\n",
    "from scipy.misc import imread, imsave\n",
    "import os\n",
    "import imageio\n",
    "import json\n",
    "from skimage import transform\n",
    "from skimage.filters import gaussian\n",
    "import matplotlib.pyplot as plt\n",
    "from shutil import copy\n",
    "import math\n",
    "from AxonDeepSeg.apply_model import axon_segmentation\n",
    "from AxonDeepSeg.testing.segmentation_scoring import *\n",
    "from scipy.misc import imread, imsave\n",
    "from skimage import measure\n",
    "from skimage.measure import regionprops\n",
    "%matplotlib inline"
   ]
  },
  {
   "cell_type": "markdown",
   "metadata": {},
   "source": [
    "#### Read image and segmented prediction"
   ]
  },
  {
   "cell_type": "code",
   "execution_count": 150,
   "metadata": {},
   "outputs": [],
   "source": [
    "# Change the image and segmentation paths here for your sample:\n",
    "path_img = '/Users/rudinakaprata/Documents/Aldo/axondeepseg/AxonDeepSeg/data_test/image.png'\n",
    "path_pred = '/Users/rudinakaprata/Documents/Aldo/axondeepseg/AxonDeepSeg/data_test/AxonDeepSeg.png'"
   ]
  },
  {
   "cell_type": "code",
   "execution_count": 151,
   "metadata": {},
   "outputs": [],
   "source": [
    "# Read paths and compute axon/myelin masks\n",
    "img = imageio.imread(path_img)\n",
    "pred = imageio.imread(path_pred)\n",
    "pred_axon = pred > 200\n",
    "pred_myelin = np.logical_and(pred >= 50, pred <= 200)\n",
    "path_folder, file_name = os.path.split(path_img)"
   ]
  },
  {
   "cell_type": "markdown",
   "metadata": {},
   "source": [
    "#### Function definitions"
   ]
  },
  {
   "cell_type": "code",
   "execution_count": 152,
   "metadata": {},
   "outputs": [],
   "source": [
    "def get_pixelsize(path_pixelsize_file):\n",
    "\n",
    "    text_file = open(path_pixelsize_file, \"r\")\n",
    "    pixelsize = float(text_file.read())\n",
    "    text_file.close()\n",
    "    return pixelsize"
   ]
  },
  {
   "cell_type": "code",
   "execution_count": 153,
   "metadata": {},
   "outputs": [],
   "source": [
    "def get_axon_morphometrics(pred_axon):\n",
    "    \n",
    "    # Array for keeping axon-wise metrics\n",
    "    stats_array = np.empty(0)\n",
    "\n",
    "    # Label each axon object\n",
    "    labels = measure.label(pred_axon)\n",
    "    axon_objects = regionprops(labels)\n",
    "\n",
    "    # Get axon morphometrics of interest\n",
    "    for props in axon_objects:\n",
    "    \n",
    "        # Centroid\n",
    "        y0, x0 = props.centroid\n",
    "        # Solidity\n",
    "        solidity = props.solidity\n",
    "        # Eccentricity\n",
    "        eccentricity = props.eccentricity\n",
    "        # Axon equivalent diameter in micrometers\n",
    "        axon_diam = (props.equivalent_diameter)*get_pixelsize(os.path.join(path_folder,'pixel_size_in_micrometer.txt'))\n",
    "        # Axon orientation angle\n",
    "        orientation = props.orientation\n",
    "    \n",
    "        # Add metrics to list of dictionaries\n",
    "        stats = {'y0': y0, 'x0': x0, 'axon_diam': axon_diam, 'solidity':solidity,'eccentricity': eccentricity,\n",
    "                 'orientation':orientation}\n",
    "        stats_array = np.append(stats_array, [stats], axis=0)\n",
    "        \n",
    "    return stats_array"
   ]
  },
  {
   "cell_type": "code",
   "execution_count": 154,
   "metadata": {},
   "outputs": [],
   "source": [
    "def save_axon_morphometrics(path_folder,stats_array):\n",
    "\n",
    "    np.save(os.path.join(path_folder,'axonlist.npy'),stats_array)"
   ]
  },
  {
   "cell_type": "code",
   "execution_count": 155,
   "metadata": {},
   "outputs": [],
   "source": [
    "def load_axon_morphometrics(path_folder):\n",
    "\n",
    "    stats_array = np.load(os.path.join(path_folder,'axonlist.npy'))\n",
    "    return stats_array"
   ]
  },
  {
   "cell_type": "code",
   "execution_count": 171,
   "metadata": {},
   "outputs": [],
   "source": [
    "def get_aggregate_morphometrics(pred_axon, pred_myelin):\n",
    "    \n",
    "    # Compute AVF (axon volume fraction) = area occupied by axons in sample\n",
    "    avf = np.count_nonzero(pred_axon)/float((pred_axon.size))\n",
    "    # Compute MVF (myelin volume fraction) = area occupied by myelin sheaths in sample\n",
    "    mvf = np.count_nonzero(pred_myelin)/float((pred_myelin.size))\n",
    "    \n",
    "    # Estimate aggregate g-ratio = sqrt(1/(1+MVF/AVF))\n",
    "    gratio = math.sqrt(1/(1+(float(mvf)/float(avf))))\n",
    "    \n",
    "    # Get individual axons metrics and compute mean axon diameter\n",
    "    stats_array = get_axon_morphometrics(pred_axon)\n",
    "    axon_diam_list = [d['axon_diam'] for d in stats_array]\n",
    "    mean_axon_diam = np.mean(axon_diam_list)\n",
    "    \n",
    "    # Estimate mean myelin diameter (axon+myelin diameter) by using aggregate g-ratio = mean_axon_diam/mean_myelin_diam\n",
    "    mean_myelin_diam = mean_axon_diam/gratio\n",
    "    \n",
    "    # Estimate mean myelin thickness = mean_myelin_radius - mean_axon_radius\n",
    "    mean_myelin_thickness = (float(mean_myelin_diam)/2) - (float(mean_axon_diam)/2)\n",
    "    \n",
    "    # Compute axon density (number of axons per mm2)\n",
    "    y, x = pred_axon.shape\n",
    "    img_area_mm2 = float(pred_axon.size)*get_pixelsize(os.path.join(path_folder,'pixel_size_in_micrometer.txt'))*get_pixelsize(os.path.join(path_folder,'pixel_size_in_micrometer.txt'))/(float(1000000))\n",
    "    axon_density_mm2 = float(len(axon_diam_list))/float(img_area_mm2)\n",
    "    \n",
    "    # Create disctionary to store aggregate metrics\n",
    "    aggregate_metrics = {'avf': avf, 'mvf': mvf, 'gratio': gratio, 'mean_axon_diam': mean_axon_diam,\n",
    "                         'mean_myelin_diam': mean_myelin_diam,'mean_myelin_thickness': mean_myelin_thickness,\n",
    "                         'axon_density_mm2': axon_density_mm2}\n",
    "\n",
    "    return aggregate_metrics"
   ]
  },
  {
   "cell_type": "code",
   "execution_count": 157,
   "metadata": {},
   "outputs": [],
   "source": [
    "def write_aggregate_morphometrics(path_folder,aggregate_metrics):\n",
    "    \n",
    "    f = open(os.path.join(path_folder,'aggregate_morphometrics.txt'), 'w')\n",
    "    f.write('aggregate_metrics: ' + repr(aggregate_metrics) + '\\n')\n",
    "    f.close()"
   ]
  },
  {
   "cell_type": "code",
   "execution_count": null,
   "metadata": {},
   "outputs": [],
   "source": []
  },
  {
   "cell_type": "code",
   "execution_count": null,
   "metadata": {},
   "outputs": [],
   "source": []
  },
  {
   "cell_type": "code",
   "execution_count": null,
   "metadata": {},
   "outputs": [],
   "source": []
  },
  {
   "cell_type": "markdown",
   "metadata": {},
   "source": [
    "### Step-by-step use case: extract morphometrics from a segmented microscopy sample"
   ]
  },
  {
   "cell_type": "markdown",
   "metadata": {},
   "source": [
    "#### 1) Get axon morphometrics"
   ]
  },
  {
   "cell_type": "code",
   "execution_count": 164,
   "metadata": {},
   "outputs": [],
   "source": [
    "# Compute axon morphometrics\n",
    "stats_array = get_axon_morphometrics(pred_axon)"
   ]
  },
  {
   "cell_type": "markdown",
   "metadata": {},
   "source": [
    "#### 2) Save axon morphometrics and load back"
   ]
  },
  {
   "cell_type": "code",
   "execution_count": 165,
   "metadata": {},
   "outputs": [],
   "source": [
    "save_axon_morphometrics(path_folder,stats_array)\n",
    "stats_array = load_axon_morphometrics(path_folder)"
   ]
  },
  {
   "cell_type": "markdown",
   "metadata": {},
   "source": [
    "#### 3) Extract and plot axon diameter distribution"
   ]
  },
  {
   "cell_type": "code",
   "execution_count": 166,
   "metadata": {},
   "outputs": [],
   "source": [
    "# Get axon diameter distribution\n",
    "axon_diam_list = [d['axon_diam'] for d in stats_array]"
   ]
  },
  {
   "cell_type": "code",
   "execution_count": 167,
   "metadata": {},
   "outputs": [
    {
     "data": {
      "image/png": "[encoded data removed]",
      "text/plain": [
       "<matplotlib.figure.Figure at 0x11ccd7b10>"
      ]
     },
     "metadata": {},
     "output_type": "display_data"
    }
   ],
   "source": [
    "# Plot histogram of axon diameter distribution\n",
    "plt.figure(figsize=(8,6))\n",
    "n, bins, patches = plt.hist(axon_diam_list,30, facecolor='g', alpha=0.7)\n",
    "plt.xlabel('Axon equivalent diameter in um',fontsize=10)\n",
    "plt.ylabel('Frequency',fontsize=10)\n",
    "plt.title('Axon diameter distribution',fontsize=11)\n",
    "plt.grid(True)"
   ]
  },
  {
   "cell_type": "markdown",
   "metadata": {},
   "source": [
    "#### 4) Display boxplots of other axonal morphometrics (example with solidity and eccentricity)"
   ]
  },
  {
   "cell_type": "code",
   "execution_count": 168,
   "metadata": {},
   "outputs": [],
   "source": [
    "# Get axon solidity distribution (measure of compactness of the axon)\n",
    "axon_solidity_list = [d['solidity'] for d in stats_array]\n",
    "# Get axon eccentricity distribution (measure of ellipticity/extent of the axon)\n",
    "axon_eccentricity_list = [d['eccentricity'] for d in stats_array]"
   ]
  },
  {
   "cell_type": "code",
   "execution_count": 169,
   "metadata": {},
   "outputs": [
    {
     "data": {
      "text/plain": [
       "[Text(0,0,u'Solidity'), Text(0,0,u'Eccentricity')]"
      ]
     },
     "execution_count": 169,
     "metadata": {},
     "output_type": "execute_result"
    },
    {
     "data": {
      "image/png": "[encoded data removed]",
      "text/plain": [
       "<matplotlib.figure.Figure at 0x11ce80ed0>"
      ]
     },
     "metadata": {},
     "output_type": "display_data"
    }
   ],
   "source": [
    "# Plot boxplots of solidity and eccentricity\n",
    "plt.figure(figsize=(6,6))\n",
    "data_to_plot = [axon_solidity_list,axon_eccentricity_list]\n",
    "plt.boxplot(data_to_plot,patch_artist=True)\n",
    "plt.title('Solidity and eccentricity distributions of axons',fontsize=11)\n",
    "plt.grid(True)\n",
    "frame1 = plt.gca()\n",
    "frame1.set_xticklabels(['Solidity', 'Eccentricity'],fontsize=11)"
   ]
  },
  {
   "cell_type": "markdown",
   "metadata": {},
   "source": [
    "#### 5) Display and save axon mask overlay labelled for axon diameter"
   ]
  },
  {
   "cell_type": "code",
   "execution_count": null,
   "metadata": {},
   "outputs": [],
   "source": []
  },
  {
   "cell_type": "markdown",
   "metadata": {},
   "source": [
    "#### 6) Compute aggregate axon/myelin morphometrics"
   ]
  },
  {
   "cell_type": "code",
   "execution_count": 172,
   "metadata": {},
   "outputs": [
    {
     "name": "stdout",
     "output_type": "stream",
     "text": [
      "{'mean_axon_diam': 2.5575044164131997, 'mean_myelin_thickness': 0.5939360324353604, 'mvf': 0.3438579081741404, 'mean_myelin_diam': 3.7453764812839205, 'axon_density_mm2': 36008.66257253812, 'avf': 0.30040214667696113, 'gratio': 0.6828430811143673}\n"
     ]
    }
   ],
   "source": [
    "# Compute aggregate metrics\n",
    "aggregate_metrics = get_aggregate_morphometrics(pred_axon,pred_myelin)\n",
    "print aggregate_metrics"
   ]
  },
  {
   "cell_type": "markdown",
   "metadata": {},
   "source": [
    "#### 7) Save aggregate metrics"
   ]
  },
  {
   "cell_type": "code",
   "execution_count": 173,
   "metadata": {},
   "outputs": [],
   "source": [
    "write_aggregate_morphometrics(path_folder,aggregate_metrics)"
   ]
  },
  {
   "cell_type": "markdown",
   "metadata": {},
   "source": [
    "#### 8) "
   ]
  },
  {
   "cell_type": "code",
   "execution_count": null,
   "metadata": {},
   "outputs": [],
   "source": []
  },
  {
   "cell_type": "code",
   "execution_count": null,
   "metadata": {},
   "outputs": [],
   "source": []
  },
  {
   "cell_type": "code",
   "execution_count": 19,
   "metadata": {},
   "outputs": [],
   "source": []
  },
  {
   "cell_type": "code",
   "execution_count": 21,
   "metadata": {},
   "outputs": [
    {
     "name": "stdout",
     "output_type": "stream",
     "text": [
      "2.572955000815824\n"
     ]
    }
   ],
   "source": []
  },
  {
   "cell_type": "code",
   "execution_count": null,
   "metadata": {},
   "outputs": [],
   "source": []
  },
  {
   "cell_type": "code",
   "execution_count": null,
   "metadata": {},
   "outputs": [],
   "source": []
  },
  {
   "cell_type": "code",
   "execution_count": null,
   "metadata": {},
   "outputs": [],
   "source": []
  },
  {
   "cell_type": "code",
   "execution_count": null,
   "metadata": {},
   "outputs": [],
   "source": []
  },
  {
   "cell_type": "code",
   "execution_count": null,
   "metadata": {},
   "outputs": [],
   "source": []
  },
  {
   "cell_type": "code",
   "execution_count": null,
   "metadata": {},
   "outputs": [],
   "source": []
  },
  {
   "cell_type": "code",
   "execution_count": null,
   "metadata": {},
   "outputs": [],
   "source": []
  },
  {
   "cell_type": "code",
   "execution_count": null,
   "metadata": {},
   "outputs": [],
   "source": []
  },
  {
   "cell_type": "code",
   "execution_count": 29,
   "metadata": {},
   "outputs": [
    {
     "data": {
      "image/png": "[encoded data removed]",
      "text/plain": [
       "<matplotlib.figure.Figure at 0x11e5c3e10>"
      ]
     },
     "metadata": {},
     "output_type": "display_data"
    }
   ],
   "source": [
    "labels = measure.label(pred_axon)\n",
    "axon_objects = regionprops(labels)\n",
    "\n",
    "\n",
    "\n",
    "plt.imshow(labels,cmap='hot')\n",
    "\n",
    "imageio.imwrite('aaa.png', labels)\n"
   ]
  },
  {
   "cell_type": "code",
   "execution_count": 171,
   "metadata": {},
   "outputs": [
    {
     "ename": "TypeError",
     "evalue": "'numpy.ndarray' object is not callable",
     "output_type": "error",
     "traceback": [
      "\u001b[0;31m---------------------------------------------------------------------------\u001b[0m",
      "\u001b[0;31mTypeError\u001b[0m                                 Traceback (most recent call last)",
      "\u001b[0;32m<ipython-input-171-50dffa3a0473>\u001b[0m in \u001b[0;36m<module>\u001b[0;34m()\u001b[0m\n\u001b[0;32m----> 1\u001b[0;31m \u001b[0mlabels\u001b[0m\u001b[0;34m(\u001b[0m\u001b[0;36m1150\u001b[0m\u001b[0;34m,\u001b[0m\u001b[0;36m600\u001b[0m\u001b[0;34m)\u001b[0m\u001b[0;34m\u001b[0m\u001b[0m\n\u001b[0m",
      "\u001b[0;31mTypeError\u001b[0m: 'numpy.ndarray' object is not callable"
     ]
    }
   ],
   "source": [
    "labels(1150,600)"
   ]
  },
  {
   "cell_type": "code",
   "execution_count": 172,
   "metadata": {},
   "outputs": [
    {
     "name": "stdout",
     "output_type": "stream",
     "text": [
      "0\n"
     ]
    }
   ],
   "source": [
    "print np.min(labels)"
   ]
  },
  {
   "cell_type": "code",
   "execution_count": 23,
   "metadata": {},
   "outputs": [
    {
     "ename": "IndexError",
     "evalue": "list index out of range",
     "output_type": "error",
     "traceback": [
      "\u001b[0;31m---------------------------------------------------------------------------\u001b[0m",
      "\u001b[0;31mIndexError\u001b[0m                                Traceback (most recent call last)",
      "\u001b[0;32m<ipython-input-23-f730e9468dbd>\u001b[0m in \u001b[0;36m<module>\u001b[0;34m()\u001b[0m\n\u001b[1;32m      8\u001b[0m \u001b[0;32mfor\u001b[0m \u001b[0mpix_x\u001b[0m \u001b[0;32min\u001b[0m \u001b[0mnp\u001b[0m\u001b[0;34m.\u001b[0m\u001b[0marange\u001b[0m\u001b[0;34m(\u001b[0m\u001b[0mnp\u001b[0m\u001b[0;34m.\u001b[0m\u001b[0mshape\u001b[0m\u001b[0;34m(\u001b[0m\u001b[0mlabels\u001b[0m\u001b[0;34m)\u001b[0m\u001b[0;34m[\u001b[0m\u001b[0;36m0\u001b[0m\u001b[0;34m]\u001b[0m\u001b[0;34m)\u001b[0m\u001b[0;34m:\u001b[0m\u001b[0;34m\u001b[0m\u001b[0m\n\u001b[1;32m      9\u001b[0m        \u001b[0;32mfor\u001b[0m \u001b[0mpix_y\u001b[0m \u001b[0;32min\u001b[0m \u001b[0mnp\u001b[0m\u001b[0;34m.\u001b[0m\u001b[0marange\u001b[0m\u001b[0;34m(\u001b[0m\u001b[0mnp\u001b[0m\u001b[0;34m.\u001b[0m\u001b[0mshape\u001b[0m\u001b[0;34m(\u001b[0m\u001b[0mlabels\u001b[0m\u001b[0;34m)\u001b[0m\u001b[0;34m[\u001b[0m\u001b[0;36m1\u001b[0m\u001b[0;34m]\u001b[0m\u001b[0;34m)\u001b[0m\u001b[0;34m:\u001b[0m\u001b[0;34m\u001b[0m\u001b[0m\n\u001b[0;32m---> 10\u001b[0;31m             \u001b[0mlabels\u001b[0m\u001b[0;34m[\u001b[0m\u001b[0mpix_x\u001b[0m\u001b[0;34m,\u001b[0m\u001b[0mpix_y\u001b[0m\u001b[0;34m]\u001b[0m \u001b[0;34m=\u001b[0m \u001b[0maxon_diam_list\u001b[0m\u001b[0;34m[\u001b[0m\u001b[0mlabels\u001b[0m\u001b[0;34m[\u001b[0m\u001b[0mpix_x\u001b[0m\u001b[0;34m,\u001b[0m\u001b[0mpix_y\u001b[0m\u001b[0;34m]\u001b[0m\u001b[0;34m]\u001b[0m\u001b[0;34m\u001b[0m\u001b[0m\n\u001b[0m\u001b[1;32m     11\u001b[0m \u001b[0;34m\u001b[0m\u001b[0m\n\u001b[1;32m     12\u001b[0m \u001b[0;34m\u001b[0m\u001b[0m\n",
      "\u001b[0;31mIndexError\u001b[0m: list index out of range"
     ]
    }
   ],
   "source": [
    "\n",
    "\n",
    "axon_diam_list = [d['axon_diam'] for d in stats_array]\n",
    "\n",
    "axon_iter = np.arange(np.size(axon_diam_list))\n",
    "\n",
    "\n",
    "for pix_x in np.arange(np.shape(labels)[0]):\n",
    "       for pix_y in np.arange(np.shape(labels)[1]):\n",
    "            labels[pix_x,pix_y] = axon_diam_list[labels[pix_x,pix_y]]\n",
    "\n",
    "\n"
   ]
  },
  {
   "cell_type": "code",
   "execution_count": 25,
   "metadata": {},
   "outputs": [
    {
     "data": {
      "text/plain": [
       "array([[False, False, False, ..., False, False, False],\n",
       "       [False, False, False, ..., False, False, False],\n",
       "       [False, False, False, ..., False, False, False],\n",
       "       ...,\n",
       "       [False, False, False, ..., False, False, False],\n",
       "       [False, False, False, ..., False, False, False],\n",
       "       [False, False, False, ..., False, False, False]])"
      ]
     },
     "execution_count": 25,
     "metadata": {},
     "output_type": "execute_result"
    }
   ],
   "source": [
    "labels==2"
   ]
  },
  {
   "cell_type": "code",
   "execution_count": 26,
   "metadata": {},
   "outputs": [],
   "source": [
    "axon_iter = np.arange(np.size(axon_diam_list))"
   ]
  },
  {
   "cell_type": "code",
   "execution_count": null,
   "metadata": {},
   "outputs": [],
   "source": []
  },
  {
   "cell_type": "code",
   "execution_count": 24,
   "metadata": {},
   "outputs": [
    {
     "data": {
      "text/plain": [
       "1688936"
      ]
     },
     "execution_count": 24,
     "metadata": {},
     "output_type": "execute_result"
    }
   ],
   "source": [
    "np.size(pred_axon)"
   ]
  },
  {
   "cell_type": "code",
   "execution_count": null,
   "metadata": {},
   "outputs": [],
   "source": []
  },
  {
   "cell_type": "code",
   "execution_count": null,
   "metadata": {},
   "outputs": [],
   "source": []
  },
  {
   "cell_type": "code",
   "execution_count": null,
   "metadata": {},
   "outputs": [],
   "source": []
  },
  {
   "cell_type": "markdown",
   "metadata": {},
   "source": [
    "#### Other useful code snippets"
   ]
  },
  {
   "cell_type": "code",
   "execution_count": 175,
   "metadata": {},
   "outputs": [
    {
     "name": "stdout",
     "output_type": "stream",
     "text": [
      "['axon_diam', 'solidity', 'eccentricity', 'y0', 'x0', 'orientation']\n"
     ]
    }
   ],
   "source": [
    "# Show metrics available for axons\n",
    "print stats_array[0].keys()"
   ]
  },
  {
   "cell_type": "code",
   "execution_count": 176,
   "metadata": {},
   "outputs": [
    {
     "name": "stdout",
     "output_type": "stream",
     "text": [
      "1.69958776035\n"
     ]
    }
   ],
   "source": [
    "# Get axon diameter value of axon object 0\n",
    "print stats_array[0]['axon_diam']"
   ]
  },
  {
   "cell_type": "code",
   "execution_count": 177,
   "metadata": {},
   "outputs": [
    {
     "name": "stdout",
     "output_type": "stream",
     "text": [
      "0.9677523379554982\n"
     ]
    }
   ],
   "source": [
    "# Get solidity value of axon object 50\n",
    "print stats_array[49]['solidity']"
   ]
  },
  {
   "cell_type": "code",
   "execution_count": 179,
   "metadata": {},
   "outputs": [
    {
     "name": "stdout",
     "output_type": "stream",
     "text": [
      "{'axon_diam': 6.660677996480354, 'solidity': 0.9674829931972789, 'eccentricity': 0.4595592043543096, 'y0': 39.49430459850935, 'x0': 1491.883279426241, 'orientation': 0.2026448234414792}\n"
     ]
    }
   ],
   "source": [
    "# Display all stats for axon object 10\n",
    "print stats_array[9]"
   ]
  },
  {
   "cell_type": "code",
   "execution_count": 180,
   "metadata": {},
   "outputs": [],
   "source": [
    "# Get axon diameter value of all axons in list\n",
    "axon_diam_list = [d['axon_diam'] for d in stats_array]"
   ]
  },
  {
   "cell_type": "code",
   "execution_count": 181,
   "metadata": {},
   "outputs": [
    {
     "name": "stdout",
     "output_type": "stream",
     "text": [
      "298\n"
     ]
    }
   ],
   "source": [
    "# Get number of axons in sample\n",
    "print np.size(axon_diam_list)"
   ]
  },
  {
   "cell_type": "code",
   "execution_count": 182,
   "metadata": {},
   "outputs": [
    {
     "name": "stdout",
     "output_type": "stream",
     "text": [
      "2.5575044164131997\n"
     ]
    }
   ],
   "source": [
    "# Get mean diameter\n",
    "mean_diam = np.mean(axon_diam_list)\n",
    "print mean_diam"
   ]
  },
  {
   "cell_type": "code",
   "execution_count": 183,
   "metadata": {},
   "outputs": [
    {
     "name": "stdout",
     "output_type": "stream",
     "text": [
      "10.661720314980407\n"
     ]
    }
   ],
   "source": [
    "# Get max diameter\n",
    "max_diam = np.max(axon_diam_list)\n",
    "print max_diam"
   ]
  }
 ],
 "metadata": {
  "anaconda-cloud": {},
  "kernelspec": {
   "display_name": "Python 2",
   "language": "python",
   "name": "python2"
  },
  "language_info": {
   "codemirror_mode": {
    "name": "ipython",
    "version": 2
   },
   "file_extension": ".py",
   "mimetype": "text/x-python",
   "name": "python",
   "nbconvert_exporter": "python",
   "pygments_lexer": "ipython2",
   "version": "2.7.10"
  }
 },
 "nbformat": 4,
 "nbformat_minor": 2
}
