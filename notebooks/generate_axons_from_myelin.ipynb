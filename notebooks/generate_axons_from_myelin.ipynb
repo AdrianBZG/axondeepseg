{
 "cells": [
  {
   "cell_type": "markdown",
   "metadata": {},
   "source": [
    "Jupyter Notebook to generate corrected axon+myelin image after correcting the myelin mask.\n",
    "\n",
    "Instructions:\n",
    "\n",
    "-Enter the paths of the following inputs:\n",
    "    - path of the prediction: image of axon+myelin segmentation (output of AxonDeepSeg)\n",
    "    - path of corrected myelin by the user: myelin mask (uint8 type with myelin=255, background=0)\n",
    "\n",
    "-Run all the cells one by one.\n",
    "\n",
    "-The corrected axon-myelin image will be generated and saved in the same folder as the inputs."
   ]
  },
  {
   "cell_type": "code",
   "execution_count": 96,
   "metadata": {
    "collapsed": false
   },
   "outputs": [],
   "source": [
    "import numpy as np\n",
    "from skimage import io\n",
    "from scipy.misc import imread, imsave\n",
    "import os\n",
    "import imageio"
   ]
  },
  {
   "cell_type": "code",
   "execution_count": 97,
   "metadata": {
    "collapsed": true
   },
   "outputs": [],
   "source": [
    "%matplotlib inline"
   ]
  },
  {
   "cell_type": "code",
   "execution_count": 98,
   "metadata": {
    "collapsed": false
   },
   "outputs": [],
   "source": [
    "def generate_axons_from_myelin(path_prediction,path_myelin_corrected):\n",
    "\n",
    "    # read output from axondeepseg and myelin mask corrected by user\n",
    "    prediction = imageio.imread(path_prediction)\n",
    "    myelin_corrected = imageio.imread(path_myelin_corrected)\n",
    "\n",
    "    # compute the axon mask from axondeepseg (axon=255, myelin=127, background=0)\n",
    "    axon_ads = prediction > 200\n",
    "    \n",
    "    # get the myelin mask corrected by user (myelin=255, background=0)\n",
    "    myelin_corrected = myelin_corrected > 200\n",
    "    \n",
    "    # compute logical OR between axondeepseg axon mask and myelin corrected mask\n",
    "    fused = np.logical_or(axon_ads, myelin_corrected)   \n",
    "    \n",
    "    # compute new axon mask by logical XOR between corrected myelin mask and fused\n",
    "    new_axon_mask = np.logical_xor(myelin_corrected, fused)\n",
    "    \n",
    "    # merge corrected myelin mask and generated axon mask\n",
    "    both = new_axon_mask*255 + myelin_corrected*127\n",
    "    \n",
    "    # get main path to save images\n",
    "    path_folder, file_name = os.path.split(path_prediction)\n",
    "\n",
    "    # save the corrected axon+myelin image\n",
    "    imageio.imwrite(os.path.join(path_folder,'axon_myelin_mask_corrected.png'),both)\n",
    "\n",
    "    return both\n"
   ]
  },
  {
   "cell_type": "code",
   "execution_count": 99,
   "metadata": {
    "collapsed": true
   },
   "outputs": [],
   "source": [
    "# Change the paths here:\n",
    "\n",
    "path_prediction = '/Users/alzaia/Documents/test_mask/axon_myelin_mask.png'\n",
    "path_myelin_corrected = '/Users/alzaia/Documents/test_mask/myelin_corrected.png'"
   ]
  },
  {
   "cell_type": "code",
   "execution_count": 100,
   "metadata": {
    "collapsed": false
   },
   "outputs": [],
   "source": [
    "both = generate_axons_from_myelin(path_prediction,path_myelin_corrected)"
   ]
  },
  {
   "cell_type": "code",
   "execution_count": null,
   "metadata": {
    "collapsed": true
   },
   "outputs": [],
   "source": []
  }
 ],
 "metadata": {
  "anaconda-cloud": {},
  "kernelspec": {
   "display_name": "Python [default]",
   "language": "python",
   "name": "python2"
  },
  "language_info": {
   "codemirror_mode": {
    "name": "ipython",
    "version": 2
   },
   "file_extension": ".py",
   "mimetype": "text/x-python",
   "name": "python",
   "nbconvert_exporter": "python",
   "pygments_lexer": "ipython2",
   "version": "2.7.12"
  }
 },
 "nbformat": 4,
 "nbformat_minor": 2
}
