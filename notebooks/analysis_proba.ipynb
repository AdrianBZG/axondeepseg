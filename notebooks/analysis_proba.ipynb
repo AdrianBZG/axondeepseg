{
 "cells": [
  {
   "cell_type": "code",
   "execution_count": null,
   "metadata": {
    "collapsed": true
   },
   "outputs": [],
   "source": [
    "%matplotlib inline\n",
    "import mpld3\n",
    "mpld3.enable_notebook()"
   ]
  },
  {
   "cell_type": "markdown",
   "metadata": {},
   "source": [
    "# 1/ Imports"
   ]
  },
  {
   "cell_type": "code",
   "execution_count": null,
   "metadata": {
    "collapsed": true
   },
   "outputs": [],
   "source": [
    "from AxonDeepSeg.visualization.visualize import visualize_training\n",
    "import json\n",
    "import os\n",
    "import matplotlib.pyplot as plt\n",
    "import numpy as np\n",
    "from scipy.misc import imread\n",
    "import pickle"
   ]
  },
  {
   "cell_type": "markdown",
   "metadata": {},
   "source": [
    "# 2/ Loading data and predictions"
   ]
  },
  {
   "cell_type": "markdown",
   "metadata": {},
   "source": [
    "Defining some useful parameters"
   ]
  },
  {
   "cell_type": "code",
   "execution_count": null,
   "metadata": {
    "collapsed": true
   },
   "outputs": [],
   "source": [
    "path_testing = '../data/pilou/'"
   ]
  },
  {
   "cell_type": "markdown",
   "metadata": {},
   "source": [
    "Loading images and pred proba"
   ]
  },
  {
   "cell_type": "code",
   "execution_count": null,
   "metadata": {
    "collapsed": true
   },
   "outputs": [],
   "source": [
    "imorg = imread(path_testing + '/image.png')\n",
    "mask = imread(path_testing + '/mask.png', mode='L')"
   ]
  },
  {
   "cell_type": "code",
   "execution_count": null,
   "metadata": {
    "collapsed": true
   },
   "outputs": [],
   "source": [
    "with open(path_testing + '/pred_proba.pkl', 'r') as handle:\n",
    "    pred_proba = pickle.load(handle)"
   ]
  },
  {
   "cell_type": "markdown",
   "metadata": {},
   "source": [
    "Defining parameters of the model"
   ]
  },
  {
   "cell_type": "code",
   "execution_count": null,
   "metadata": {
    "collapsed": true
   },
   "outputs": [],
   "source": [
    "n_classes = 3"
   ]
  },
  {
   "cell_type": "markdown",
   "metadata": {},
   "source": [
    "# 3/ Display prediction and probabilities for each class"
   ]
  },
  {
   "cell_type": "code",
   "execution_count": null,
   "metadata": {},
   "outputs": [],
   "source": [
    "plt.figure(figsize=(13,8))\n",
    "plt.clf()\n",
    "\n",
    "# First we show the regular prediction\n",
    "plt.subplot(2,2,1)\n",
    "plt.title('Argmax pred')\n",
    "plt.imshow(np.argmax(pred_proba, axis=-1))\n",
    "plt.colorbar()\n",
    "\n",
    "# Then we calculate the probability prediction for each class\n",
    "for i in range(n_classes):\n",
    "    plt.subplot(2,2,i+2)\n",
    "    plt.title('class ' + str(i))\n",
    "    plt.imshow(pred_proba[:,:,i])\n",
    "    plt.colorbar()\n",
    "plt.show();\n",
    "\n",
    "plt.close('all')"
   ]
  },
  {
   "cell_type": "markdown",
   "metadata": {
    "collapsed": true
   },
   "source": [
    "### Zoom on myelin"
   ]
  },
  {
   "cell_type": "code",
   "execution_count": null,
   "metadata": {},
   "outputs": [],
   "source": [
    "plt.figure(figsize=(10,8))\n",
    "plt.imshow(imorg, cmap='gray', alpha=1)\n",
    "plt.imshow(pred_proba[:,:,1], cmap='Reds', alpha=0.2)\n",
    "plt.title('Predictions myelin')\n",
    "plt.show();"
   ]
  },
  {
   "cell_type": "markdown",
   "metadata": {},
   "source": [
    "### Displaying the difference between the myelin ground truth and the probability of having myelin somewhere"
   ]
  },
  {
   "cell_type": "code",
   "execution_count": null,
   "metadata": {},
   "outputs": [],
   "source": [
    "# Computing the difference between mask and myelin\n",
    "myelin = pred_proba[:,:,1]\n",
    "mask_myelin = (mask == 128).astype(np.int)\n",
    "d = mask_myelin - myelin\n",
    "\n",
    "# Displaying the results\n",
    "plt.figure(figsize=(13,8))\n",
    "plt.imshow(d, cmap='jet')\n",
    "plt.colorbar()\n",
    "plt.title('mask - myelin')\n",
    "plt.show();"
   ]
  },
  {
   "cell_type": "markdown",
   "metadata": {},
   "source": [
    "Choose the threshold"
   ]
  },
  {
   "cell_type": "code",
   "execution_count": null,
   "metadata": {
    "collapsed": true
   },
   "outputs": [],
   "source": [
    "thresh = 0.66"
   ]
  },
  {
   "cell_type": "markdown",
   "metadata": {},
   "source": [
    "Playing with the myelin prediction threshold"
   ]
  },
  {
   "cell_type": "code",
   "execution_count": null,
   "metadata": {
    "collapsed": true
   },
   "outputs": [],
   "source": [
    "pred_myelin_argmax = np.zeros_like(pred_proba[:,:,0])\n",
    "pred_myelin_argmax_id = np.argmax(pred_proba, axis=-1) == 1\n",
    "pred_myelin_argmax[pred_myelin_argmax_id] = 255\n",
    "\n",
    "pred_myelin_thresh = np.zeros_like(pred_proba[:,:,0])\n",
    "pred_myelin_thresh_id = pred_proba[:,:,1] >= thresh\n",
    "pred_myelin_thresh[pred_myelin_thresh_id] = 255\n",
    "\n",
    "mask_myelin[mask_myelin == 1] = 255"
   ]
  },
  {
   "cell_type": "markdown",
   "metadata": {},
   "source": [
    "Displaying the two side by side"
   ]
  },
  {
   "cell_type": "code",
   "execution_count": null,
   "metadata": {},
   "outputs": [],
   "source": [
    "plt.close('all')\n",
    "plt.figure(figsize=(8,24))\n",
    "plt.clf()\n",
    "plt.subplot(4,1,1)\n",
    "plt.imshow(pred_myelin_argmax)\n",
    "plt.title('Argmax')\n",
    "\n",
    "plt.subplot(4,1,2)\n",
    "plt.imshow(pred_myelin_thresh)\n",
    "plt.title('Threshold = ' + str(thresh))\n",
    "\n",
    "plt.subplot(4,1,3)\n",
    "plt.imshow(pred_myelin_argmax - pred_myelin_thresh)\n",
    "plt.title('Argmax - Threshold')\n",
    "\n",
    "plt.subplot(4,1,4)\n",
    "d = mask_myelin - pred_myelin_thresh\n",
    "plt.imshow(d)\n",
    "plt.title('Mask - Threshold')\n",
    "plt.colorbar()\n",
    "\n",
    "\n",
    "plt.show();"
   ]
  },
  {
   "cell_type": "markdown",
   "metadata": {},
   "source": [
    "Random tests"
   ]
  },
  {
   "cell_type": "code",
   "execution_count": null,
   "metadata": {},
   "outputs": [],
   "source": [
    "plt.figure(figsize=(10,8))\n",
    "plt.imshow(imorg, cmap='gray', alpha=1)\n",
    "plt.imshow(pred_myelin_thresh, cmap='Reds', alpha=0.2)\n",
    "plt.title('Predictions myelin')\n",
    "plt.show();"
   ]
  },
  {
   "cell_type": "code",
   "execution_count": null,
   "metadata": {
    "collapsed": true
   },
   "outputs": [],
   "source": []
  },
  {
   "cell_type": "code",
   "execution_count": null,
   "metadata": {
    "collapsed": true
   },
   "outputs": [],
   "source": []
  },
  {
   "cell_type": "code",
   "execution_count": null,
   "metadata": {
    "collapsed": true
   },
   "outputs": [],
   "source": []
  }
 ],
 "metadata": {
  "kernelspec": {
   "display_name": "Python 2",
   "language": "python",
   "name": "python2"
  },
  "language_info": {
   "codemirror_mode": {
    "name": "ipython",
    "version": 2
   },
   "file_extension": ".py",
   "mimetype": "text/x-python",
   "name": "python",
   "nbconvert_exporter": "python",
   "pygments_lexer": "ipython2",
   "version": "2.7.13"
  }
 },
 "nbformat": 4,
 "nbformat_minor": 2
}
