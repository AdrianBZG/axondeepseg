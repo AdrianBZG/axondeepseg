{
 "cells": [
  {
   "cell_type": "markdown",
   "metadata": {},
   "source": [
    "Jupyter Notebook to merge axon and myelin masks into a single image.\n",
    "\n",
    "Instructions:\n",
    "\n",
    "-Enter the path of the axon and myelin images ('axon_mask.png' and 'myelin_mask.png').\n",
    "\n",
    "-Run all the cells one by one.\n",
    "\n",
    "-The combined axon-myelin image will be saved in the same folder as the inputs."
   ]
  },
  {
   "cell_type": "code",
   "execution_count": 1,
   "metadata": {
    "collapsed": false
   },
   "outputs": [],
   "source": [
    "import numpy as np\n",
    "from skimage import io\n",
    "from scipy.misc import imread, imsave\n",
    "import os\n",
    "import imageio"
   ]
  },
  {
   "cell_type": "code",
   "execution_count": 2,
   "metadata": {
    "collapsed": true
   },
   "outputs": [],
   "source": [
    "%matplotlib inline"
   ]
  },
  {
   "cell_type": "code",
   "execution_count": 3,
   "metadata": {
    "collapsed": true
   },
   "outputs": [],
   "source": [
    "def merge_masks(path_axon,path_myelin):\n",
    "\n",
    "    axon = imageio.imread(path_axon)\n",
    "    myelin = imageio.imread(path_myelin)\n",
    "    \n",
    "    both = (axon/255)*255 + (myelin/255)*127\n",
    "    \n",
    "    # get main path\n",
    "    path_folder, file_name = os.path.split(path_axon)\n",
    "\n",
    "    # save the masks\n",
    "    imageio.imwrite(os.path.join(path_folder,'axon_myelin_mask.png'),both)\n",
    "\n",
    "    return both"
   ]
  },
  {
   "cell_type": "code",
   "execution_count": 4,
   "metadata": {
    "collapsed": true
   },
   "outputs": [],
   "source": [
    "path_axon = '/Users/alzaia/Documents/test_mask/axon_mask.png'\n",
    "path_myelin = '/Users/alzaia/Documents/test_mask/myelin_mask.png'"
   ]
  },
  {
   "cell_type": "code",
   "execution_count": 5,
   "metadata": {
    "collapsed": false
   },
   "outputs": [],
   "source": [
    "both = merge_masks(path_axon,path_myelin)"
   ]
  },
  {
   "cell_type": "code",
   "execution_count": null,
   "metadata": {
    "collapsed": true
   },
   "outputs": [],
   "source": []
  },
  {
   "cell_type": "code",
   "execution_count": null,
   "metadata": {
    "collapsed": true
   },
   "outputs": [],
   "source": []
  },
  {
   "cell_type": "code",
   "execution_count": null,
   "metadata": {
    "collapsed": true
   },
   "outputs": [],
   "source": []
  }
 ],
 "metadata": {
  "anaconda-cloud": {},
  "kernelspec": {
   "display_name": "Python [default]",
   "language": "python",
   "name": "python2"
  },
  "language_info": {
   "codemirror_mode": {
    "name": "ipython",
    "version": 2
   },
   "file_extension": ".py",
   "mimetype": "text/x-python",
   "name": "python",
   "nbconvert_exporter": "python",
   "pygments_lexer": "ipython2",
   "version": "2.7.12"
  }
 },
 "nbformat": 4,
 "nbformat_minor": 2
}
