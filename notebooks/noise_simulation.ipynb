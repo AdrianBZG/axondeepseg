{
 "cells": [
  {
   "cell_type": "markdown",
   "metadata": {},
   "source": [
    "#### Jupyter Notebook to generate noisy images, segment, and evaluate error.\n"
   ]
  },
  {
   "cell_type": "markdown",
   "metadata": {},
   "source": [
    "#### Imports"
   ]
  },
  {
   "cell_type": "code",
   "execution_count": 228,
   "metadata": {},
   "outputs": [],
   "source": [
    "import numpy as np\n",
    "from skimage import io\n",
    "from scipy.misc import imread, imsave\n",
    "import os\n",
    "import imageio\n",
    "import json\n",
    "from skimage import transform\n",
    "from skimage.filters import gaussian\n",
    "import matplotlib.pyplot as plt\n",
    "from shutil import copy\n",
    "from AxonDeepSeg.apply_model import axon_segmentation\n",
    "from AxonDeepSeg.testing.segmentation_scoring import *\n",
    "%matplotlib inline"
   ]
  },
  {
   "cell_type": "markdown",
   "metadata": {},
   "source": [
    "#### Function definitions"
   ]
  },
  {
   "cell_type": "code",
   "execution_count": 208,
   "metadata": {},
   "outputs": [],
   "source": [
    "def add_additive_gaussian_noise(img,mu=0,sigma=10):\n",
    "\n",
    "    # Generate random gaussian noise with specified mean and sigma values\n",
    "    noise = np.random.normal(mu, sigma, img.shape)\n",
    "    \n",
    "    # Add generated noise to input image\n",
    "    img_noise = np.add(img,noise)\n",
    "\n",
    "    # Clip noisy image between 0-255\n",
    "    img_noise[img_noise < 0] = 0\n",
    "    img_noise[img_noise > 255] = 255\n",
    "\n",
    "    return img_noise.astype(np.uint8)"
   ]
  },
  {
   "cell_type": "code",
   "execution_count": 209,
   "metadata": {},
   "outputs": [],
   "source": [
    "def add_multiplicative_gaussian_noise(img,mu=1,sigma=0.05):\n",
    "\n",
    "    # Generate random gaussian noise with specified mean and sigma values\n",
    "    noise = np.random.normal(mu, sigma, img.shape)\n",
    "    \n",
    "    # Add generated noise to input image\n",
    "    img_noise = np.multiply(img,noise)\n",
    "\n",
    "    # Clip noisy image between 0-255\n",
    "    img_noise[img_noise < 0] = 0\n",
    "    img_noise[img_noise > 255] = 255\n",
    "\n",
    "    return img_noise.astype(np.uint8)"
   ]
  },
  {
   "cell_type": "code",
   "execution_count": 210,
   "metadata": {},
   "outputs": [],
   "source": [
    "def change_illumination(img,value_percentage=0.2):\n",
    "\n",
    "    # Add generated noise to input image\n",
    "    img_noise = img+(value_percentage*255)\n",
    "\n",
    "    # Clip noisy image between 0-255\n",
    "    img_noise[img_noise < 0] = 0\n",
    "    img_noise[img_noise > 255] = 255\n",
    "\n",
    "    return img_noise.astype(np.uint8)"
   ]
  },
  {
   "cell_type": "markdown",
   "metadata": {},
   "source": [
    "#### Path to change (put path to image to segment)"
   ]
  },
  {
   "cell_type": "code",
   "execution_count": 211,
   "metadata": {},
   "outputs": [],
   "source": [
    "path_img = '/Users/Documents/Aldo/axondeepseg/AxonDeepSeg/data_test/image.png'"
   ]
  },
  {
   "cell_type": "markdown",
   "metadata": {},
   "source": [
    "#### Set paths for AxonDeepSeg segmentation tools"
   ]
  },
  {
   "cell_type": "code",
   "execution_count": 221,
   "metadata": {},
   "outputs": [],
   "source": [
    "img = imageio.imread(path_img)\n",
    "path_folder, file_name = os.path.split(path_img)\n",
    "\n",
    "model_name = 'default_SEM_model_v1'\n",
    "path_model = os.path.join('..','AxonDeepSeg','models',model_name)\n",
    "path_configfile = os.path.join(path_model,'config_network.json')\n",
    "with open(path_configfile, 'r') as fd:\n",
    "    config_network = json.loads(fd.read())\n",
    "    \n",
    "mask = imread(os.path.join(path_folder,'mask.png'),flatten=True)\n",
    "gt_axon = mask > 200\n",
    "gt_myelin = np.logical_and(mask >= 50, mask <= 200)"
   ]
  },
  {
   "cell_type": "markdown",
   "metadata": {},
   "source": [
    "#### 1) Batch for simulation of illumination change:\n",
    "\n",
    "- For all noise values, generates noisy image, creates sub-folder, saves noisy image, launches AxonDeepSeg segmentation on noisy image, computes and saves prediction accuracy."
   ]
  },
  {
   "cell_type": "code",
   "execution_count": 222,
   "metadata": {},
   "outputs": [],
   "source": [
    "values = np.linspace(0,0.7,11)\n",
    "\n",
    "for value_percentage in values:\n",
    "    \n",
    "    # Generate and save noisy image\n",
    "    img_noise = change_illumination(img,value_percentage)\n",
    "    file_name = 'image_' + str(int(value_percentage*100)) + '.png'\n",
    "    directory_name = 'image_' + str(int(value_percentage*100))\n",
    "    os.makedirs(os.path.join(path_folder,directory_name))\n",
    "    copy(os.path.join(path_folder,'pixel_size_in_micrometer.txt'), os.path.join(path_folder,directory_name))\n",
    "    imageio.imwrite(os.path.join(path_folder,directory_name,file_name),img_noise)\n",
    "    \n",
    "    # Segment noisy image with AxonDeepSeg\n",
    "    path_testing = os.path.join(path_folder,directory_name)\n",
    "    prediction = axon_segmentation(path_testing, file_name, path_model, config_network,verbosity_level=0)\n",
    "    \n",
    "    # Compute prediction accuracy\n",
    "    prediction = imread(os.path.join(path_folder,directory_name,'AxonDeepSeg.png'),flatten=True)\n",
    "    pred_axon = prediction > 200\n",
    "    pred_myelin = np.logical_and(prediction >= 50, prediction <= 200)\n",
    "    dice_axon, dice_myelin = pw_dice(pred_axon, gt_axon),pw_dice(pred_myelin, gt_myelin)\n",
    "    dict_metrics = {'dice_axon': dice_axon, 'dice_myelin': dice_myelin}\n",
    "    f = open(os.path.join(path_folder,directory_name,'metrics.txt'), 'w')\n",
    "    f.write('segmentation metrics: ' + repr(dict_metrics) + '\\n')\n",
    "    f.close()"
   ]
  },
  {
   "cell_type": "markdown",
   "metadata": {},
   "source": [
    "#### 2) Batch for simulation of gaussian additive noise:\n",
    "\n",
    "- For all noise values, generates noisy image, creates sub-folder, saves noisy image, launches AxonDeepSeg segmentation on noisy image, computes and saves prediction accuracy."
   ]
  },
  {
   "cell_type": "code",
   "execution_count": 224,
   "metadata": {},
   "outputs": [],
   "source": [
    "values = np.linspace(0,30,4)\n",
    "\n",
    "for sigma_values in values:\n",
    "    \n",
    "    # Generate and save noisy image\n",
    "    img_noise = add_additive_gaussian_noise(img,0,sigma_values)\n",
    "    file_name = 'image_' + str(int(sigma_values)) + '.png'\n",
    "    directory_name = 'image_add_' + str(int(sigma_values))\n",
    "    os.makedirs(os.path.join(path_folder,directory_name))\n",
    "    copy(os.path.join(path_folder,'pixel_size_in_micrometer.txt'), os.path.join(path_folder,directory_name))\n",
    "    imageio.imwrite(os.path.join(path_folder,directory_name,file_name),img_noise)\n",
    "    \n",
    "    # Segment noisy image with AxonDeepSeg\n",
    "    path_testing = os.path.join(path_folder,directory_name)\n",
    "    prediction = axon_segmentation(path_testing, file_name, path_model, config_network,verbosity_level=0)\n",
    "    \n",
    "    # Compute prediction accuracy\n",
    "    prediction = imread(os.path.join(path_folder,directory_name,'AxonDeepSeg.png'),flatten=True)\n",
    "    pred_axon = prediction > 200\n",
    "    pred_myelin = np.logical_and(prediction >= 50, prediction <= 200)\n",
    "    dice_axon, dice_myelin = pw_dice(pred_axon, gt_axon),pw_dice(pred_myelin, gt_myelin)\n",
    "    dict_metrics = {'dice_axon': dice_axon, 'dice_myelin': dice_myelin}\n",
    "    f = open(os.path.join(path_folder,directory_name,'metrics.txt'), 'w')\n",
    "    f.write('segmentation metrics: ' + repr(dict_metrics) + '\\n')\n",
    "    f.close()"
   ]
  },
  {
   "cell_type": "markdown",
   "metadata": {},
   "source": [
    "#### 3) Batch for simulation of gaussian multiplicative noise:\n",
    "\n",
    "- For all noise values, generates noisy image, creates sub-folder, saves noisy image, launches AxonDeepSeg segmentation on noisy image, computes and saves prediction accuracy."
   ]
  },
  {
   "cell_type": "code",
   "execution_count": 227,
   "metadata": {},
   "outputs": [],
   "source": [
    "values = np.linspace(0,0.5,4)\n",
    "\n",
    "for sigma_values in values:\n",
    "    \n",
    "    # Generate and save noisy image\n",
    "    img_noise = add_multiplicative_gaussian_noise(img,1,sigma_values)\n",
    "    file_name = 'image_' + str(int(sigma_values*100)) + '.png'\n",
    "    directory_name = 'image_mul_' + str(int(sigma_values*100))\n",
    "    os.makedirs(os.path.join(path_folder,directory_name))\n",
    "    copy(os.path.join(path_folder,'pixel_size_in_micrometer.txt'), os.path.join(path_folder,directory_name))\n",
    "    imageio.imwrite(os.path.join(path_folder,directory_name,file_name),img_noise)\n",
    "    \n",
    "    # Segment noisy image with AxonDeepSeg\n",
    "    path_testing = os.path.join(path_folder,directory_name)\n",
    "    prediction = axon_segmentation(path_testing, file_name, path_model, config_network,verbosity_level=0)\n",
    "    \n",
    "    # Compute prediction accuracy\n",
    "    prediction = imread(os.path.join(path_folder,directory_name,'AxonDeepSeg.png'),flatten=True)\n",
    "    pred_axon = prediction > 200\n",
    "    pred_myelin = np.logical_and(prediction >= 50, prediction <= 200)\n",
    "    dice_axon, dice_myelin = pw_dice(pred_axon, gt_axon),pw_dice(pred_myelin, gt_myelin)\n",
    "    dict_metrics = {'dice_axon': dice_axon, 'dice_myelin': dice_myelin}\n",
    "    f = open(os.path.join(path_folder,directory_name,'metrics.txt'), 'w')\n",
    "    f.write('segmentation metrics: ' + repr(dict_metrics) + '\\n')\n",
    "    f.close()"
   ]
  },
  {
   "cell_type": "code",
   "execution_count": null,
   "metadata": {},
   "outputs": [],
   "source": []
  }
 ],
 "metadata": {
  "anaconda-cloud": {},
  "kernelspec": {
   "display_name": "Python 2",
   "language": "python",
   "name": "python2"
  },
  "language_info": {
   "codemirror_mode": {
    "name": "ipython",
    "version": 2
   },
   "file_extension": ".py",
   "mimetype": "text/x-python",
   "name": "python",
   "nbconvert_exporter": "python",
   "pygments_lexer": "ipython2",
   "version": "2.7.10"
  }
 },
 "nbformat": 4,
 "nbformat_minor": 2
}
