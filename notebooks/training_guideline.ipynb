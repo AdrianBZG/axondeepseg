{
 "cells": [
  {
   "cell_type": "markdown",
   "metadata": {},
   "source": [
    "# Train a new model\n",
    "\n",
    "In this notebook we will learn how to train a new model for axon & myelin segmentation. It covers the following scenario:\n",
    "\n",
    "* Train a model from scratch by defining the parameters of the network\n",
    "* Make inference using the trained model\n"
   ]
  },
  {
   "cell_type": "markdown",
   "metadata": {},
   "source": [
    "### Imports"
   ]
  },
  {
   "cell_type": "code",
   "execution_count": 1,
   "metadata": {},
   "outputs": [],
   "source": [
    "import json\n",
    "import os\n",
    "import time\n",
    "import tensorflow as tf\n",
    "import numpy as np\n",
    "from skimage import io\n",
    "from scipy.misc import imread, imsave\n",
    "import imageio\n",
    "import matplotlib.pyplot as plt\n",
    "from shutil import copy\n",
    "\n",
    "from AxonDeepSeg.train_network import train_model\n",
    "from AxonDeepSeg.apply_model import axon_segmentation\n",
    "\n",
    "# reset the tensorflow graph for new training\n",
    "tf.reset_default_graph()\n",
    "\n",
    "%matplotlib inline"
   ]
  },
  {
   "cell_type": "markdown",
   "metadata": {},
   "source": [
    "### 1. Train a new model"
   ]
  },
  {
   "cell_type": "markdown",
   "metadata": {},
   "source": [
    "#### 1.1. Create subfolder to save new model and its parameters.\n",
    "\n",
    "For simplicity, the new model will be created under the `models/` folder in the AxonDeepSeg repository. The name of the model folder will be generated automatically using the date and time (to avoid multiple instances). If you want to use a specific name for the model folder, uncomment the 2nd line of the next cell."
   ]
  },
  {
   "cell_type": "code",
   "execution_count": 1,
   "metadata": {},
   "outputs": [
    {
     "ename": "NameError",
     "evalue": "name 'time' is not defined",
     "output_type": "error",
     "traceback": [
      "\u001b[0;31m---------------------------------------------------------------------------\u001b[0m",
      "\u001b[0;31mNameError\u001b[0m                                 Traceback (most recent call last)",
      "\u001b[0;32m<ipython-input-1-56b5c86f9205>\u001b[0m in \u001b[0;36m<module>\u001b[0;34m\u001b[0m\n\u001b[0;32m----> 1\u001b[0;31m \u001b[0mdir_name\u001b[0m \u001b[0;34m=\u001b[0m \u001b[0mtime\u001b[0m\u001b[0;34m.\u001b[0m\u001b[0mstrftime\u001b[0m\u001b[0;34m(\u001b[0m\u001b[0;34m\"%Y-%m-%d\"\u001b[0m\u001b[0;34m)\u001b[0m \u001b[0;34m+\u001b[0m \u001b[0;34m'_'\u001b[0m \u001b[0;34m+\u001b[0m \u001b[0mtime\u001b[0m\u001b[0;34m.\u001b[0m\u001b[0mstrftime\u001b[0m\u001b[0;34m(\u001b[0m\u001b[0;34m\"%H-%M-%S\"\u001b[0m\u001b[0;34m)\u001b[0m\u001b[0;34m\u001b[0m\u001b[0m\n\u001b[0m\u001b[1;32m      2\u001b[0m \u001b[0;31m# dir_name = 'the_name_of_my_model_folder'\u001b[0m\u001b[0;34m\u001b[0m\u001b[0;34m\u001b[0m\u001b[0m\n\u001b[1;32m      3\u001b[0m \u001b[0;34m\u001b[0m\u001b[0m\n\u001b[1;32m      4\u001b[0m \u001b[0mpath_model\u001b[0m \u001b[0;34m=\u001b[0m \u001b[0mos\u001b[0m\u001b[0;34m.\u001b[0m\u001b[0mpath\u001b[0m\u001b[0;34m.\u001b[0m\u001b[0mjoin\u001b[0m\u001b[0;34m(\u001b[0m\u001b[0;34m'../models/'\u001b[0m\u001b[0;34m,\u001b[0m \u001b[0mdir_name\u001b[0m\u001b[0;34m)\u001b[0m\u001b[0;34m\u001b[0m\u001b[0m\n\u001b[1;32m      5\u001b[0m \u001b[0;34m\u001b[0m\u001b[0m\n",
      "\u001b[0;31mNameError\u001b[0m: name 'time' is not defined"
     ]
    }
   ],
   "source": [
    "dir_name = time.strftime(\"%Y-%m-%d\") + '_' + time.strftime(\"%H-%M-%S\")\n",
    "# dir_name = 'the_name_of_my_model_folder'\n",
    "\n",
    "path_model = os.path.join('../models/', dir_name)\n",
    "\n",
    "if not os.path.exists(path_model):\n",
    "    os.makedirs(path_model)\n",
    "    \n",
    "filename = '/config_network.json'"
   ]
  },
  {
   "cell_type": "markdown",
   "metadata": {},
   "source": [
    "#### 1.2. Define the name and path of the training set\n",
    "\n",
    "Here we assume that the training data folder has already been created by following the guidelines detailed in [guide_dataset_building.ipynb](https://github.com/neuropoly/axondeepseg/blob/master/notebooks/guide_dataset_building.ipynb).\n",
    "\n",
    "The expected structure of the training data folder (specified here by `path_training`) is the following:\n",
    "\n",
    "~~~\n",
    "data_training\n",
    " └── Train\n",
    "      └── image_0.png\n",
    "         * *mask_0.png*\n",
    "         * *image_1.png*\n",
    "         * *mask_1.png*\n",
    "         \n",
    "         ...\n",
    "         * *image_n.png*\n",
    "         * *mask_n.png*\n",
    "         \n",
    "    * **Validation**\n",
    "         * *image_0.png*\n",
    "         * *mask_0.png*\n",
    "         * *image_1.png*\n",
    "         * *mask_1.png*\n",
    "         \n",
    "         ...\n",
    "         * *image_m.png*\n",
    "         * *mask_m.png*   \n",
    "\n",
    "~~~"
   ]
  },
  {
   "cell_type": "code",
   "execution_count": 3,
   "metadata": {},
   "outputs": [],
   "source": [
    "trainingset_name = 'SEM_3c_256'\n",
    "path_training = '/Users/Dropbox/SEM_3c_256/training'"
   ]
  },
  {
   "cell_type": "markdown",
   "metadata": {},
   "source": [
    "#### 1.3. Define the configuration parameters of the training.\n",
    "\n",
    "The network and training parameters (i.e. hyperparameters) are defined in the next cell. A shallow network is defined here for testing purposes (depth of 2, 2 convolutions per layer, 3x3 kernels, 5 and 10 feature channels, standard max pooling for feature downsampling). **Note that this \"toy\" architecture is used for testing purposes here and is not necessarily expected to generate good results on a test microscopy sample.**\n",
    "\n",
    "Here is a quick guide on the main parameters. For more information, please refer to the paper.\n",
    "\n",
    "##### General parameters:\n",
    "* **\"n_classes\":** Number of classes. For this application, the number of classes should be set to **3** (i.e. axon pixel, myelin pixel, or background pixel).\n",
    "* **\"thresholds\":** Thresholds for the 3-class classification problem. Do not modify.\n",
    "* **\"trainingset_patchsize\":** Patch size of the training set in pixels (note that the patches have the same size in both dimensions).\n",
    "* **\"trainingset\":** Name of the training set.\n",
    "* **\"batch_size\":** Batch size, i.e. the number of training patches used in one iteration of the training. Note that a larger batch size will take more memory.\n",
    "\n",
    "##### Network architecture parameters:\n",
    "* **\"depth\":** Depth of the network (i.e. number of blocks of the U-net).\n",
    "* **\"convolution_per_layer\":** Number of convolution layers used at each block.\n",
    "* **\"size_of_convolutions_per_layer\":** Kernel size of each convolution layer of the network.\n",
    "* **\"features_per_convolution\":** Number of features of each convolution layer.\n",
    "* **\"downsampling\":** Type of downsampling to use in the downsampling layers of the network. Option \"maxpooling\" for standard max pooling layer or option \"convolution\" for learned convolutional downsampling.\n",
    "* **\"dropout\":** Dropout to use for the training. Note: In TensorFlow, the keep probability is used instead. For instance, setting this param. to 0.75 means that 75% of the neurons of the network will be kept (i.e. dropout of 25%).\n",
    "\n",
    "##### Learning rate parameters:\n",
    "* **\"learning_rate\":** Learning rate to use in the training.\n",
    "* **\"learning_rate_decay_activate\":** Set to \"True\" to use a decay on the learning rate.\n",
    "* **\"learning_rate_decay_period\":** Period of the learning rate decay, expressed in number of images (samples) seen.\n",
    "* **\"learning_rate_decay_type\":** Type of decay to use. An exponential decay will be used by default unless this param. is set to \"polynomial\" (to use a polynomial decay).\n",
    "* **\"learning_rate_decay_rate\":** Rate of the decay to use for the exponential decay. This only applies when the user does not set the decay type to \"polynomial\".\n",
    "\n",
    "##### Batch normalization parameters:\n",
    "* **\"batch_norm_activate\":** Set to \"True\" to use batch normalization during the training.     \n",
    "* **\"batch_norm_decay_decay_activate\":** Set to \"True\" to activate an exponential decay for the batch normalization step of the training.    \n",
    "* **\"batch_norm_decay_starting_decay\":** The starting decay value for the batch normalization. \n",
    "* **\"batch_norm_decay_ending_decay\":** The ending decay value for the batch normalization. \n",
    "* **\"batch_norm_decay_decay_period\":** Period of the batch normalization decay, expressed in number of images (samples) seen.\n",
    "\n",
    "##### Weighted cost parameters:\n",
    "* **\"weighted_cost-activate\":** Set to \"True\" to use weights based on the class in the cost function for the training. \n",
    "* **\"weighted_cost-balanced_activate\":** Set to \"True\" to use weights in the cost function to correct class imbalance. \n",
    "* **\"weighted_cost-balanced_weights\":** Values of the weights for the class imbalance. Typically, larger weights are assigned to classes with less pixels to add more penalty in the cost function when there is a misclassification. Order of the classes in the weights list: background, myelin, axon.\n",
    "* **\"weighted_cost-boundaries_activate\":** Set to \"True\" to add weights to the boundaries (e.g. penalize more when misclassification happens in the axon-myelin interface).\n",
    "* **\"weighted_cost-boundaries_sigma\":** Value to control the distribution of the boundary weights (if activated).  \n",
    "\n",
    "##### Data augmentation parameters (+):\n",
    "* **\"da-type\":** Type of data augmentation procedure. Option **\"all\"** applies all selected data augmentation transformations sequentially, while option **\"random\"** only applies one of the selected transformations (randomly) to the sample(s).\n",
    "* List of available data augmentation transformations: 'random_rotation', 'noise_addition', 'elastic', 'shifting', 'rescaling' and 'flipping'. For each type of data augmentation, the order needs to be specified if you decide to apply more than one transformation sequentially. For instance, setting the \"da-0-shifting-activate\" parameter to 'True' means that the shifting is the first transformation that will be applied to the sample(s) during training. \n",
    "\n",
    "(+) You can find more information about the range of transformations applied to the patches for each the data augmentation techniques used in the `data_augmentation.py` file of the repository. You will also be able to change the data augmentation parameters of each technique. The default ranges of transformations for the data augmentation techniques used are:\n",
    "* **Shifing:** Random horizontal and vertical shifting between 0 and 10% of the patch size, sampled from a uniform distribution.\n",
    "* **Rotation:** Random rotation, angle between 5 and 89 degrees, sampled from a uniform distribution.\n",
    "* **Rescaling:** Random rescaling of a randomly sampled factor between 1/1.2 and 1.2.\n",
    "* **Flipping:** Random fipping: vertical fipping or horizontal fipping.\n",
    "* **Blurring:** Gaussian blur with the standard deviation of the gaussian kernel being uniformly sampled between 0 and 4.\n",
    "* **Elastic deformation:**: Random elastic deformation with uniformly sampled deformation coefficient α=[1–8] and fixed standard deviation σ=4."
   ]
  },
  {
   "cell_type": "code",
   "execution_count": 4,
   "metadata": {},
   "outputs": [],
   "source": [
    "config = {\n",
    "    \n",
    "# General parameters:    \n",
    "  \"n_classes\": 3,\n",
    "  \"thresholds\": [0, 0.2, 0.8],    \n",
    "  \"trainingset_patchsize\": 256,    \n",
    "  \"trainingset\": \"SEM_3c_256\",    \n",
    "  \"batch_size\": 8,\n",
    "\n",
    "# Network architecture parameters:     \n",
    "  \"depth\": 2,\n",
    "  \"convolution_per_layer\": [2, 2],\n",
    "  \"size_of_convolutions_per_layer\": [[3, 3], [3, 3]],\n",
    "  \"features_per_convolution\": [[[1, 5], [5, 5]], [[5, 10], [10, 10]]],\n",
    "  \"downsampling\": \"maxpooling\",\n",
    "  \"dropout\": 0.75, \n",
    "     \n",
    "# Learning rate parameters:    \n",
    "  \"learning_rate\": 0.001,    \n",
    "  \"learning_rate_decay_activate\": True,    \n",
    "  \"learning_rate_decay_period\": 24000, \n",
    "  \"learning_rate_decay_type\": \"polynomial\", \n",
    "  \"learning_rate_decay_rate\": 0.99,\n",
    "    \n",
    "# Batch normalization parameters:     \n",
    "  \"batch_norm_activate\": True,     \n",
    "  \"batch_norm_decay_decay_activate\": True,    \n",
    "  \"batch_norm_decay_starting_decay\": 0.7, \n",
    "  \"batch_norm_decay_ending_decay\": 0.9, \n",
    "  \"batch_norm_decay_decay_period\": 16000,\n",
    "        \n",
    "# Weighted cost parameters:    \n",
    "  \"weighted_cost-activate\": True, \n",
    "  \"weighted_cost-balanced_activate\": True, \n",
    "  \"weighted_cost-balanced_weights\": [1.1, 1, 1.3], \n",
    "  \"weighted_cost-boundaries_sigma\": 2, \n",
    "  \"weighted_cost-boundaries_activate\": False, \n",
    "    \n",
    "# Data augmentation parameters:    \n",
    "  \"da-type\": \"all\", \n",
    "  \"da-2-random_rotation-activate\": False, \n",
    "  \"da-5-noise_addition-activate\": False, \n",
    "  \"da-3-elastic-activate\": True, \n",
    "  \"da-0-shifting-activate\": True, \n",
    "  \"da-4-flipping-activate\": True, \n",
    "  \"da-1-rescaling-activate\": False    \n",
    "}"
   ]
  },
  {
   "cell_type": "markdown",
   "metadata": {},
   "source": [
    "#### 1.4. Save config. parameters of the network as configuration file (.json).\n",
    "\n",
    "After the config. parameters of the network to be trained are defined, they are saved into a .json file in the model folder. This .json file keeps tract of the network and model parameters in a structured way."
   ]
  },
  {
   "cell_type": "code",
   "execution_count": 5,
   "metadata": {},
   "outputs": [],
   "source": [
    "if os.path.exists(path_model+filename):\n",
    "    with open(path_model+filename, 'r') as fd:\n",
    "        config_network = json.loads(fd.read())\n",
    "else: # There is no config file for the moment\n",
    "    with open(path_model+filename, 'w') as f:\n",
    "        json.dump(config, f, indent=2)\n",
    "    with open(path_model+filename, 'r') as fd:\n",
    "        config_network = json.loads(fd.read())"
   ]
  },
  {
   "cell_type": "markdown",
   "metadata": {},
   "source": [
    "#### 1.5. Launch the training procedure.\n",
    "\n",
    "The training can be launched by calling the *'train_model'* function. After each epoch, the function will display the loss and accuracy of the model. The model is automatically saved at every 5 epochs."
   ]
  },
  {
   "cell_type": "code",
   "execution_count": null,
   "metadata": {},
   "outputs": [],
   "source": [
    "train_model(path_training, path_model, config)"
   ]
  },
  {
   "cell_type": "markdown",
   "metadata": {},
   "source": [
    "#### 1.6. Monitor the training with Tensorboard.\n",
    "\n",
    "In order to monitor the training procedure (loss and accuracy graphs, gradients, activations, ...), it is strongly suggested to use TensorBoard, a user interface that allows visualization of the main training and validation graphs. In order to to that, launch the following command on the terminal (make sure the virtual env. created for AxonDeepSeg is activated):\n",
    "```\n",
    "tensorboard --logdir path_of_the_model_folder --port 6006\n",
    "```\n",
    "Here, the `path_of_the_model_folder` parameter is the path to the folder than contains the model that is being trained, while the `port` parameter (not mandatory) is the port number where the TensorBoard interface is going to launch on a web server (typically port 6006). To access the TensorBoard interface, you can then go to the following address on a web server (example here with port 6006 used):\n",
    "```\n",
    "http://localhost:6006/\n",
    "```\n",
    "\n",
    "Using TensorBoard can also help identify bugs or errors during the training procedure."
   ]
  },
  {
   "cell_type": "markdown",
   "metadata": {},
   "source": [
    "### STEP 2: TEST THE TRAINED MODEL."
   ]
  },
  {
   "cell_type": "markdown",
   "metadata": {},
   "source": [
    "#### 2.1. Set the path of the test image to be segmented with the trained model."
   ]
  },
  {
   "cell_type": "code",
   "execution_count": 7,
   "metadata": {},
   "outputs": [],
   "source": [
    "# reset the tensorflow graph for new testing\n",
    "tf.reset_default_graph()\n",
    "\n",
    "path_img = '/Users/Documents/Aldo/ads_feb/axondeepseg/AxonDeepSeg/data_test/image.png'"
   ]
  },
  {
   "cell_type": "markdown",
   "metadata": {},
   "source": [
    "#### 2.2. Set the folder name of the trained model."
   ]
  },
  {
   "cell_type": "code",
   "execution_count": 8,
   "metadata": {},
   "outputs": [],
   "source": [
    "model_name = dir_name\n",
    "\n",
    "img = imageio.imread(path_img)\n",
    "path_folder, file_name = os.path.split(path_img)\n",
    "\n",
    "path_model = os.path.join('..','models',model_name)\n",
    "path_configfile = os.path.join(path_model,'config_network.json')\n",
    "with open(path_configfile, 'r') as fd:\n",
    "    config_network = json.loads(fd.read())"
   ]
  },
  {
   "cell_type": "markdown",
   "metadata": {},
   "source": [
    "#### 2.3. Launch the image segmentation."
   ]
  },
  {
   "cell_type": "code",
   "execution_count": 9,
   "metadata": {},
   "outputs": [
    {
     "name": "stdout",
     "output_type": "stream",
     "text": [
      "Loading acquisitions ...\n",
      "Rescaling acquisitions to the target resolution ...\n",
      "Graph construction ...\n",
      "Beginning inference ...\n",
      "processing patch 1 of 20\n",
      "processing patch 2 of 20\n",
      "processing patch 3 of 20\n",
      "processing patch 4 of 20\n",
      "processing patch 5 of 20\n",
      "processing patch 6 of 20\n",
      "processing patch 7 of 20\n",
      "processing patch 8 of 20\n",
      "processing patch 9 of 20\n",
      "processing patch 10 of 20\n",
      "processing patch 11 of 20\n",
      "processing patch 12 of 20\n",
      "processing patch 13 of 20\n",
      "processing patch 14 of 20\n",
      "processing patch 15 of 20\n",
      "processing patch 16 of 20\n",
      "processing patch 17 of 20\n",
      "processing patch 18 of 20\n",
      "processing patch 19 of 20\n",
      "processing patch 20 of 20\n"
     ]
    },
    {
     "name": "stderr",
     "output_type": "stream",
     "text": [
      "WARNING:root:Lossy conversion from int64 to uint8. Range [0, 1]. Convert image to uint8 prior to saving to suppress this warning.\n",
      "WARNING:root:Lossy conversion from int64 to uint8. Range [0, 1]. Convert image to uint8 prior to saving to suppress this warning.\n"
     ]
    }
   ],
   "source": [
    "prediction = axon_segmentation(path_folder, file_name, path_model, config_network, verbosity_level=3)"
   ]
  },
  {
   "cell_type": "markdown",
   "metadata": {},
   "source": [
    "#### 2.4. Load the segmented image and display it."
   ]
  },
  {
   "cell_type": "code",
   "execution_count": 10,
   "metadata": {},
   "outputs": [
    {
     "data": {
      "text/plain": [
       "<matplotlib.image.AxesImage at 0x1196e0cd0>"
      ]
     },
     "execution_count": 10,
     "metadata": {},
     "output_type": "execute_result"
    },
    {
     "data": {
      "image/png": "[encoded data removed]",
      "text/plain": [
       "<Figure size 936x720 with 1 Axes>"
      ]
     },
     "metadata": {},
     "output_type": "display_data"
    }
   ],
   "source": [
    "pred_img_path = '/Users/Documents/Aldo/ads_feb/axondeepseg/AxonDeepSeg/data_test/AxonDeepSeg.png'\n",
    "pred_img = imageio.imread(pred_img_path)\n",
    "\n",
    "plt.figure(figsize=(13,10))\n",
    "plt.title('Prediction with the trained model')\n",
    "plt.imshow(pred_img,cmap='gray')"
   ]
  },
  {
   "cell_type": "code",
   "execution_count": null,
   "metadata": {},
   "outputs": [],
   "source": []
  }
 ],
 "metadata": {
  "kernelspec": {
   "display_name": "Python 3",
   "language": "python",
   "name": "python3"
  },
  "language_info": {
   "codemirror_mode": {
    "name": "ipython",
    "version": 3
   },
   "file_extension": ".py",
   "mimetype": "text/x-python",
   "name": "python",
   "nbconvert_exporter": "python",
   "pygments_lexer": "ipython3",
   "version": "3.6.6"
  }
 },
 "nbformat": 4,
 "nbformat_minor": 2
}
