{
 "cells": [
  {
   "cell_type": "markdown",
   "metadata": {},
   "source": [
    "Jupyter Notebook to save axon and myelin masks separately from segmented image.\n",
    "\n",
    "Instructions:\n",
    "\n",
    "-Enter the path of the segmented image (output of AxonDeepSeg).\n",
    "\n",
    "-Run all the cells one by one.\n",
    "\n",
    "-The axon and myelin masks will be saved in the same folder as the input."
   ]
  },
  {
   "cell_type": "code",
   "execution_count": 1,
   "metadata": {},
   "outputs": [],
   "source": [
    "# Enter path of segmented image.\n",
    "# Example: path_prediction = '/Users/abc/Documents/test/image_segmented.png'\n",
    "\n",
    "path_prediction = '/Users/alzaia/Documents/test_mask/mask.png'"
   ]
  },
  {
   "cell_type": "code",
   "execution_count": 2,
   "metadata": {},
   "outputs": [],
   "source": [
    "from skimage import measure\n",
    "from skimage.measure import regionprops\n",
    "import matplotlib.pyplot as plt\n",
    "import numpy as np\n",
    "import pandas as pd\n",
    "from skimage import io\n",
    "from scipy.misc import imread, imsave\n",
    "import os\n",
    "import imageio"
   ]
  },
  {
   "cell_type": "code",
   "execution_count": 3,
   "metadata": {},
   "outputs": [],
   "source": [
    "%matplotlib inline"
   ]
  },
  {
   "cell_type": "code",
   "execution_count": 4,
   "metadata": {},
   "outputs": [],
   "source": [
    "def get_masks(path_prediction):\n",
    "\n",
    "    prediction = imageio.imread(path_prediction)\n",
    "\n",
    "    # compute the axon mask\n",
    "    axon_prediction = prediction > 200\n",
    "\n",
    "    # compute the myelin mask\n",
    "    myelin_prediction = prediction > 100\n",
    "    myelin_prediction = myelin_prediction ^ axon_prediction\n",
    "    \n",
    "    # get main path\n",
    "    path_folder, file_name = os.path.split(path_prediction)\n",
    "\n",
    "    # save the masks\n",
    "    imageio.imwrite(os.path.join(path_folder,'axon_mask.png'),axon_prediction)\n",
    "    imageio.imwrite(os.path.join(path_folder,'myelin_mask.png'),myelin_prediction)\n",
    "\n",
    "    return axon_prediction, myelin_prediction"
   ]
  },
  {
   "cell_type": "code",
   "execution_count": 6,
   "metadata": {},
   "outputs": [],
   "source": [
    "# Run this cell the save the axon and myelin masks separately in the same folder as your image input.\n",
    "\n",
    "axon_prediction, myelin_prediction = get_masks(path_prediction)"
   ]
  }
 ],
 "metadata": {
  "kernelspec": {
   "display_name": "Python 2",
   "language": "python",
   "name": "python2"
  },
  "language_info": {
   "codemirror_mode": {
    "name": "ipython",
    "version": 2
   },
   "file_extension": ".py",
   "mimetype": "text/x-python",
   "name": "python",
   "nbconvert_exporter": "python",
   "pygments_lexer": "ipython2",
   "version": "2.7.12"
  }
 },
 "nbformat": 4,
 "nbformat_minor": 2
}
