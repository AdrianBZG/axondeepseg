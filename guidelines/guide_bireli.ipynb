{
 "cells": [
  {
   "cell_type": "markdown",
   "metadata": {},
   "source": [
    "# IMPORTS"
   ]
  },
  {
   "cell_type": "code",
   "execution_count": 1,
   "metadata": {},
   "outputs": [],
   "source": [
    "import json\n",
    "import os\n",
    "import time\n",
    "from AxonDeepSeg.config import *"
   ]
  },
  {
   "cell_type": "markdown",
   "metadata": {},
   "source": [
    "## Setting hyperparameters and creating the file _config_"
   ]
  },
  {
   "cell_type": "markdown",
   "metadata": {},
   "source": [
    "Quick explanations"
   ]
  },
  {
   "cell_type": "code",
   "execution_count": 2,
   "metadata": {
    "collapsed": true
   },
   "outputs": [],
   "source": [
    "# Description du fichier config :\n",
    "# network_learning_rate : float : No idea, but certainly linked to the back propagation ? Default : 0.0005.\n",
    "# network_n_classes : int : number of labels in the output. Default : 2.\n",
    "# dropout : float : between 0 and 1 : percentage of neurons we want to keep. Default : 0.75.\n",
    "# network_depth : int : number of layers WARNING : factualy, there will be 2*network_depth layers. Default : 6.\n",
    "# network_convolution_per_layer : list of int, length = network_depth : number of convolution per layer. Default : [1 for i in range(network_depth)].\n",
    "# network_size_of_convolutions_per_layer : list of lists of int [number of layers[number_of_convolutions_per_layer]] : Describe the size of each convolution filter.\n",
    "# Default : [[3 for k in range(network_convolution_per_layer[i])] for i in range(network_depth)].\n",
    "\n",
    "# network_features_per_convolution : list of lists of int [number of layers[number_of_convolutions_per_layer[2]] : Numer of different filters that are going to be used.\n",
    "# Default : [[[64,64] for k in range(network_convolution_per_layer[i])] for i in range(network_depth)]. WARNING ! network_features_per_convolution[k][1] = network_features_per_convolution[k+1][0].\n",
    "\n",
    "# network_trainingset : string : String describing the dataset used for the training."
   ]
  },
  {
   "cell_type": "markdown",
   "metadata": {},
   "source": [
    "Name of the .json file where the network configuration will be stored"
   ]
  },
  {
   "cell_type": "code",
   "execution_count": 3,
   "metadata": {
    "collapsed": true
   },
   "outputs": [],
   "source": [
    "filename = '/config_network.json'"
   ]
  },
  {
   "cell_type": "markdown",
   "metadata": {},
   "source": [
    "## Setting the main parameters of the network"
   ]
  },
  {
   "cell_type": "markdown",
   "metadata": {},
   "source": [
    "If multiple training sets are available, you can select which one you want to use here."
   ]
  },
  {
   "cell_type": "code",
   "execution_count": 4,
   "metadata": {
    "collapsed": true
   },
   "outputs": [],
   "source": [
    "trainingset_name = 'SEM_2classes_reduced'"
   ]
  },
  {
   "cell_type": "markdown",
   "metadata": {},
   "source": [
    "We then set the main parameters and the architecture of the network"
   ]
  },
  {
   "cell_type": "code",
   "execution_count": 5,
   "metadata": {},
   "outputs": [],
   "source": [
    "network_learning_rate = 0.001\n",
    "network_n_classes = 2\n",
    "dropout = 0.75\n",
    "network_depth = 4\n",
    "network_convolution_per_layer = [3 for i in range(network_depth)]\n",
    "network_size_of_convolutions_per_layer = [[5,5,5],[3,3,3],[3,3,3],[3,3,3]]#[[3 for k in range(network_convolution_per_layer[i])] for i in range(network_depth)]\n",
    "network_features_per_convolution = [[[1,10],[10,20],[20,30]],[[30,40],[40,50],[50,60]],[[60,70],[70,80],[80,90]],[[90,100],[100,110],[110,120]],\n",
    "                                    ]\n",
    "network_batch_size = 8\n",
    "network_batch_norm_decay = 0.90\n",
    "network_batch_norm = True\n",
    "downsampling = 'convolution'\n",
    "\n",
    "\n",
    "# Note: type can be all (we will do all transformations set to True (default) on each patch) or random (we will choose one random transformation\n",
    "# (among the ones set to True) and apply each to the current patch)\n",
    "# You can also set 'type' to 'none' (string), then we won't do any transformation.\n",
    "\n",
    "network_data_augmentation = {'type':'all', \n",
    "                                      'transformations':{'shifting':False, 'rescaling':False,\n",
    "                                                         'random_rotation':True, 'elastic':False, 'flipping':False,\n",
    "                                                         'noise_addition':False}\n",
    "                            }\n",
    "\n",
    "\n",
    "\n",
    "thresholds = [0,0.5]\n",
    "\n",
    "weighted_cost = False\n",
    "\n",
    "config = {\n",
    "    'network_n_classes': network_n_classes,\n",
    "    'network_thresholds': thresholds,\n",
    "    'network_learning_rate': network_learning_rate,\n",
    "    'network_batch_size': network_batch_size,\n",
    "    'network_dropout': dropout,\n",
    "    'network_depth': network_depth,\n",
    "    'network_batch_norm_decay': network_batch_norm_decay,\n",
    "    'network_convolution_per_layer': network_convolution_per_layer,\n",
    "    'network_size_of_convolutions_per_layer': network_size_of_convolutions_per_layer,\n",
    "    'network_features_per_convolution': network_features_per_convolution,\n",
    "    'network_trainingset': trainingset_name,\n",
    "    'network_downsampling': downsampling,\n",
    "    'network_weighted_cost': weighted_cost,\n",
    "    'network_batch_norm': network_batch_norm,\n",
    "    'network_data_augmentation': network_data_augmentation\n",
    "}\n",
    "\n",
    "\n"
   ]
  },
  {
   "cell_type": "markdown",
   "metadata": {},
   "source": [
    "## Preparing the training phase"
   ]
  },
  {
   "cell_type": "code",
   "execution_count": 6,
   "metadata": {
    "collapsed": true
   },
   "outputs": [],
   "source": [
    "path_training = '../data/'+trainingset_name+'/training/'"
   ]
  },
  {
   "cell_type": "markdown",
   "metadata": {},
   "source": [
    "## Actually training the model"
   ]
  },
  {
   "cell_type": "markdown",
   "metadata": {},
   "source": [
    "By default, the name is the current date. You can uncomment the second line dir_name if you want to give a specific name to the folder, but beware: it will erase the contents of the folder if it already exists !\n",
    "\n",
    "The model data will be stored in a folder with this name, as well as the summaries that are going to be readable on tensorboard."
   ]
  },
  {
   "cell_type": "code",
   "execution_count": 7,
   "metadata": {
    "scrolled": false
   },
   "outputs": [
    {
     "name": "stdout",
     "output_type": "stream",
     "text": [
      "None\n",
      "('Input features layer : ', 220)\n",
      "('Input features layer : ', 180)\n",
      "('Input features layer : ', 140)\n",
      "('Input features layer : ', 100)\n",
      "('Input features layer : ', 60)\n",
      "('Layer: ', 0, ' Conv: ', 0, 'Features: ', [1, 10])\n",
      "('Size:', 3)\n",
      "('Layer: ', 0, ' Conv: ', 1, 'Features: ', [20, 30])\n",
      "('Size:', 3)\n",
      "('Layer: ', 1, ' Conv: ', 0, 'Features: ', [30, 40])\n",
      "('Size:', 3)\n",
      "('Layer: ', 1, ' Conv: ', 1, 'Features: ', [40, 50])\n",
      "('Size:', 3)\n",
      "('Layer: ', 2, ' Conv: ', 0, 'Features: ', [50, 60])\n",
      "('Size:', 3)\n",
      "('Layer: ', 2, ' Conv: ', 1, 'Features: ', [60, 70])\n",
      "('Size:', 3)\n",
      "('Layer: ', 3, ' Conv: ', 0, 'Features: ', [70, 80])\n",
      "('Size:', 3)\n",
      "('Layer: ', 3, ' Conv: ', 1, 'Features: ', [80, 90])\n",
      "('Size:', 3)\n",
      "('Layer: ', 4, ' Conv: ', 0, 'Features: ', [90, 100])\n",
      "('Size:', 3)\n",
      "('Layer: ', 4, ' Conv: ', 1, 'Features: ', [100, 110])\n",
      "('Size:', 3)\n",
      "('Layer: ', 0, ' Conv: ', 0, 'Features: ', [1, 10])\n",
      "('Size:', 3)\n",
      "('Layer: ', 0, ' Conv: ', 1, 'Features: ', [20, 30])\n",
      "('Size:', 3)\n",
      "('Layer: ', 1, ' Conv: ', 0, 'Features: ', [30, 40])\n",
      "('Size:', 3)\n",
      "('Layer: ', 1, ' Conv: ', 1, 'Features: ', [40, 50])\n",
      "('Size:', 3)\n",
      "('Layer: ', 2, ' Conv: ', 0, 'Features: ', [50, 60])\n",
      "('Size:', 3)\n",
      "('Layer: ', 2, ' Conv: ', 1, 'Features: ', [60, 70])\n",
      "('Size:', 3)\n",
      "('Layer: ', 3, ' Conv: ', 0, 'Features: ', [70, 80])\n",
      "('Size:', 3)\n",
      "('Layer: ', 3, ' Conv: ', 1, 'Features: ', [80, 90])\n",
      "('Size:', 3)\n",
      "('Layer: ', 4, ' Conv: ', 0, 'Features: ', [90, 100])\n",
      "('Size:', 3)\n",
      "('Layer: ', 4, ' Conv: ', 1, 'Features: ', [100, 110])\n",
      "('Size:', 3)\n",
      "('tot_param = ', 2667232)\n",
      "training start\n",
      "Default cost selected\n"
     ]
    },
    {
     "name": "stderr",
     "output_type": "stream",
     "text": [
      "/home/GRAMES.POLYMTL.CA/mawab/ads/tf11-ads/local/lib/python2.7/site-packages/skimage/transform/_warps.py:84: UserWarning: The default mode, 'constant', will be changed to 'reflect' in skimage 0.15.\n",
      "  warn(\"The default mode, 'constant', will be changed to 'reflect' in \"\n"
     ]
    },
    {
     "ename": "KeyboardInterrupt",
     "evalue": "",
     "output_type": "error",
     "traceback": [
      "\u001b[0;31m---------------------------------------------------------------------------\u001b[0m",
      "\u001b[0;31mKeyboardInterrupt\u001b[0m                         Traceback (most recent call last)",
      "\u001b[0;32m<ipython-input-7-d12d640908a2>\u001b[0m in \u001b[0;36m<module>\u001b[0;34m()\u001b[0m\n\u001b[1;32m     24\u001b[0m \u001b[0;31m# Note : possible values for gpu: None, '/gpu:0'. If used withing CUDA_VISIBLE_DEVICES=?, then it will use gpu number ? by default\u001b[0m\u001b[0;34m\u001b[0m\u001b[0;34m\u001b[0m\u001b[0m\n\u001b[1;32m     25\u001b[0m \u001b[0;32mfrom\u001b[0m \u001b[0mAxonDeepSeg\u001b[0m\u001b[0;34m.\u001b[0m\u001b[0mtrain_network\u001b[0m \u001b[0;32mimport\u001b[0m \u001b[0mtrain_model\u001b[0m\u001b[0;34m\u001b[0m\u001b[0m\n\u001b[0;32m---> 26\u001b[0;31m \u001b[0mtrain_model\u001b[0m\u001b[0;34m(\u001b[0m\u001b[0mpath_training\u001b[0m\u001b[0;34m,\u001b[0m \u001b[0mpath_model\u001b[0m\u001b[0;34m,\u001b[0m \u001b[0mconfig_network\u001b[0m\u001b[0;34m,\u001b[0m\u001b[0mpath_model_init\u001b[0m\u001b[0;34m=\u001b[0m\u001b[0mpath_model_init\u001b[0m\u001b[0;34m,\u001b[0m\u001b[0mgpu\u001b[0m\u001b[0;34m=\u001b[0m\u001b[0;34m'/gpu:0'\u001b[0m\u001b[0;34m,\u001b[0m \u001b[0maugmented_data\u001b[0m\u001b[0;34m=\u001b[0m\u001b[0mTrue\u001b[0m\u001b[0;34m)\u001b[0m\u001b[0;34m\u001b[0m\u001b[0m\n\u001b[0m",
      "\u001b[0;32m/home/GRAMES.POLYMTL.CA/mawab/ads/axondeepseg/AxonDeepSeg/train_network.pyc\u001b[0m in \u001b[0;36mtrain_model\u001b[0;34m(path_trainingset, path_model, config, path_model_init, save_trainable, augmented_data, gpu, batch_size)\u001b[0m\n\u001b[1;32m    552\u001b[0m \u001b[0;34m\u001b[0m\u001b[0m\n\u001b[1;32m    553\u001b[0m             \u001b[0;32melse\u001b[0m\u001b[0;34m:\u001b[0m \u001b[0;31m# no weighted cost\u001b[0m\u001b[0;34m\u001b[0m\u001b[0m\n\u001b[0;32m--> 554\u001b[0;31m                 \u001b[0mbatch_x\u001b[0m\u001b[0;34m,\u001b[0m \u001b[0mbatch_y\u001b[0m \u001b[0;34m=\u001b[0m \u001b[0mdata_train\u001b[0m\u001b[0;34m.\u001b[0m\u001b[0mnext_batch\u001b[0m\u001b[0;34m(\u001b[0m\u001b[0mbatch_size\u001b[0m\u001b[0;34m,\u001b[0m \u001b[0mrnd\u001b[0m\u001b[0;34m=\u001b[0m\u001b[0mTrue\u001b[0m\u001b[0;34m,\u001b[0m \u001b[0maugmented_data\u001b[0m\u001b[0;34m=\u001b[0m\u001b[0maugmented_data\u001b[0m\u001b[0;34m)\u001b[0m\u001b[0;34m\u001b[0m\u001b[0m\n\u001b[0m\u001b[1;32m    555\u001b[0m \u001b[0;34m\u001b[0m\u001b[0m\n\u001b[1;32m    556\u001b[0m                 \u001b[0;31m# if were just finished an epoch, we summarize the performance of the\u001b[0m\u001b[0;34m\u001b[0m\u001b[0;34m\u001b[0m\u001b[0m\n",
      "\u001b[0;32m/home/GRAMES.POLYMTL.CA/mawab/ads/axondeepseg/AxonDeepSeg/data/input_data.pyc\u001b[0m in \u001b[0;36mnext_batch\u001b[0;34m(self, batch_size, rnd, augmented_data)\u001b[0m\n\u001b[1;32m    115\u001b[0m             \u001b[0;31m# Online data augmentation\u001b[0m\u001b[0;34m\u001b[0m\u001b[0;34m\u001b[0m\u001b[0m\n\u001b[1;32m    116\u001b[0m             \u001b[0;32mif\u001b[0m \u001b[0maugmented_data\u001b[0m\u001b[0;34m:\u001b[0m\u001b[0;34m\u001b[0m\u001b[0m\n\u001b[0;32m--> 117\u001b[0;31m                 \u001b[0;34m[\u001b[0m\u001b[0mimage\u001b[0m\u001b[0;34m,\u001b[0m \u001b[0mmask\u001b[0m\u001b[0;34m]\u001b[0m \u001b[0;34m=\u001b[0m \u001b[0mrandom_transformation\u001b[0m\u001b[0;34m(\u001b[0m\u001b[0;34m[\u001b[0m\u001b[0mimage\u001b[0m\u001b[0;34m,\u001b[0m \u001b[0mmask\u001b[0m\u001b[0;34m]\u001b[0m\u001b[0;34m,\u001b[0m \u001b[0mthresh_indices\u001b[0m \u001b[0;34m=\u001b[0m \u001b[0mself\u001b[0m\u001b[0;34m.\u001b[0m\u001b[0mthresh_indices\u001b[0m\u001b[0;34m)\u001b[0m\u001b[0;34m\u001b[0m\u001b[0m\n\u001b[0m\u001b[1;32m    118\u001b[0m             \u001b[0mmask\u001b[0m \u001b[0;34m=\u001b[0m \u001b[0mpatch_to_mask\u001b[0m\u001b[0;34m(\u001b[0m\u001b[0mmask\u001b[0m\u001b[0;34m,\u001b[0m \u001b[0mself\u001b[0m\u001b[0;34m.\u001b[0m\u001b[0mthresh_indices\u001b[0m\u001b[0;34m)\u001b[0m\u001b[0;34m\u001b[0m\u001b[0m\n\u001b[1;32m    119\u001b[0m \u001b[0;34m\u001b[0m\u001b[0m\n",
      "\u001b[0;32m/home/GRAMES.POLYMTL.CA/mawab/ads/axondeepseg/AxonDeepSeg/data/input_data.pyc\u001b[0m in \u001b[0;36mrandom_transformation\u001b[0;34m(patch, thresh_indices)\u001b[0m\n\u001b[1;32m     18\u001b[0m     \u001b[0mpatch\u001b[0m \u001b[0;34m=\u001b[0m \u001b[0mrescaling\u001b[0m\u001b[0;34m(\u001b[0m\u001b[0mpatch\u001b[0m\u001b[0;34m,\u001b[0m \u001b[0mthresh_indices\u001b[0m \u001b[0;34m=\u001b[0m \u001b[0mthresh_indices\u001b[0m\u001b[0;34m)\u001b[0m\u001b[0;34m\u001b[0m\u001b[0m\n\u001b[1;32m     19\u001b[0m     \u001b[0mpatch\u001b[0m \u001b[0;34m=\u001b[0m \u001b[0mrandom_rotation\u001b[0m\u001b[0;34m(\u001b[0m\u001b[0mpatch\u001b[0m\u001b[0;34m,\u001b[0m \u001b[0mthresh_indices\u001b[0m \u001b[0;34m=\u001b[0m \u001b[0mthresh_indices\u001b[0m\u001b[0;34m)\u001b[0m\u001b[0;34m\u001b[0m\u001b[0m\n\u001b[0;32m---> 20\u001b[0;31m     \u001b[0mpatch\u001b[0m \u001b[0;34m=\u001b[0m \u001b[0melastic\u001b[0m\u001b[0;34m(\u001b[0m\u001b[0mpatch\u001b[0m\u001b[0;34m,\u001b[0m \u001b[0mthresh_indices\u001b[0m \u001b[0;34m=\u001b[0m \u001b[0mthresh_indices\u001b[0m\u001b[0;34m)\u001b[0m\u001b[0;34m\u001b[0m\u001b[0m\n\u001b[0m\u001b[1;32m     21\u001b[0m     \u001b[0mpatch\u001b[0m \u001b[0;34m=\u001b[0m \u001b[0mflipping\u001b[0m\u001b[0;34m(\u001b[0m\u001b[0mpatch\u001b[0m\u001b[0;34m)\u001b[0m \u001b[0;31m# used until now, the output is not really realistic.\u001b[0m\u001b[0;34m\u001b[0m\u001b[0m\n\u001b[1;32m     22\u001b[0m \u001b[0;34m\u001b[0m\u001b[0m\n",
      "\u001b[0;32m/home/GRAMES.POLYMTL.CA/mawab/ads/axondeepseg/AxonDeepSeg/data/data_augmentation.pyc\u001b[0m in \u001b[0;36melastic\u001b[0;34m(patch, thresh_indices)\u001b[0m\n\u001b[1;32m    160\u001b[0m     \"\"\"\n\u001b[1;32m    161\u001b[0m     \u001b[0malpha\u001b[0m \u001b[0;34m=\u001b[0m \u001b[0mrandom\u001b[0m\u001b[0;34m.\u001b[0m\u001b[0mchoice\u001b[0m\u001b[0;34m(\u001b[0m\u001b[0;34m[\u001b[0m\u001b[0;36m1\u001b[0m\u001b[0;34m,\u001b[0m\u001b[0;36m2\u001b[0m\u001b[0;34m,\u001b[0m\u001b[0;36m3\u001b[0m\u001b[0;34m,\u001b[0m\u001b[0;36m4\u001b[0m\u001b[0;34m,\u001b[0m\u001b[0;36m5\u001b[0m\u001b[0;34m,\u001b[0m\u001b[0;36m6\u001b[0m\u001b[0;34m,\u001b[0m\u001b[0;36m7\u001b[0m\u001b[0;34m,\u001b[0m\u001b[0;36m8\u001b[0m\u001b[0;34m,\u001b[0m\u001b[0;36m9\u001b[0m\u001b[0;34m]\u001b[0m\u001b[0;34m)\u001b[0m\u001b[0;34m\u001b[0m\u001b[0m\n\u001b[0;32m--> 162\u001b[0;31m     \u001b[0mpatch_deformed\u001b[0m \u001b[0;34m=\u001b[0m \u001b[0melastic_transform\u001b[0m\u001b[0;34m(\u001b[0m\u001b[0mpatch\u001b[0m\u001b[0;34m[\u001b[0m\u001b[0;36m0\u001b[0m\u001b[0;34m]\u001b[0m\u001b[0;34m,\u001b[0m\u001b[0mpatch\u001b[0m\u001b[0;34m[\u001b[0m\u001b[0;36m1\u001b[0m\u001b[0;34m]\u001b[0m\u001b[0;34m,\u001b[0m \u001b[0malpha\u001b[0m \u001b[0;34m=\u001b[0m \u001b[0malpha\u001b[0m\u001b[0;34m,\u001b[0m \u001b[0msigma\u001b[0m \u001b[0;34m=\u001b[0m \u001b[0;36m4\u001b[0m\u001b[0;34m,\u001b[0m\u001b[0mthresh_indices\u001b[0m \u001b[0;34m=\u001b[0m \u001b[0mthresh_indices\u001b[0m\u001b[0;34m)\u001b[0m\u001b[0;34m\u001b[0m\u001b[0m\n\u001b[0m\u001b[1;32m    163\u001b[0m     \u001b[0;32mreturn\u001b[0m \u001b[0mpatch_deformed\u001b[0m\u001b[0;34m\u001b[0m\u001b[0m\n\u001b[1;32m    164\u001b[0m \u001b[0;34m\u001b[0m\u001b[0m\n",
      "\u001b[0;32m/home/GRAMES.POLYMTL.CA/mawab/ads/axondeepseg/AxonDeepSeg/data/data_augmentation.pyc\u001b[0m in \u001b[0;36melastic_transform\u001b[0;34m(image, gt, alpha, sigma, thresh_indices)\u001b[0m\n\u001b[1;32m    136\u001b[0m     \u001b[0mindices\u001b[0m \u001b[0;34m=\u001b[0m \u001b[0mnp\u001b[0m\u001b[0;34m.\u001b[0m\u001b[0mreshape\u001b[0m\u001b[0;34m(\u001b[0m\u001b[0my\u001b[0m\u001b[0;34m+\u001b[0m\u001b[0mdy\u001b[0m\u001b[0;34m,\u001b[0m \u001b[0;34m(\u001b[0m\u001b[0;34m-\u001b[0m\u001b[0;36m1\u001b[0m\u001b[0;34m,\u001b[0m \u001b[0;36m1\u001b[0m\u001b[0;34m)\u001b[0m\u001b[0;34m)\u001b[0m\u001b[0;34m,\u001b[0m \u001b[0mnp\u001b[0m\u001b[0;34m.\u001b[0m\u001b[0mreshape\u001b[0m\u001b[0;34m(\u001b[0m\u001b[0mx\u001b[0m\u001b[0;34m+\u001b[0m\u001b[0mdx\u001b[0m\u001b[0;34m,\u001b[0m \u001b[0;34m(\u001b[0m\u001b[0;34m-\u001b[0m\u001b[0;36m1\u001b[0m\u001b[0;34m,\u001b[0m \u001b[0;36m1\u001b[0m\u001b[0;34m)\u001b[0m\u001b[0;34m)\u001b[0m\u001b[0;34m\u001b[0m\u001b[0m\n\u001b[1;32m    137\u001b[0m \u001b[0;34m\u001b[0m\u001b[0m\n\u001b[0;32m--> 138\u001b[0;31m     \u001b[0melastic_image\u001b[0m \u001b[0;34m=\u001b[0m \u001b[0mmap_coordinates\u001b[0m\u001b[0;34m(\u001b[0m\u001b[0mimage\u001b[0m\u001b[0;34m,\u001b[0m \u001b[0mindices\u001b[0m\u001b[0;34m,\u001b[0m \u001b[0morder\u001b[0m\u001b[0;34m=\u001b[0m\u001b[0;36m1\u001b[0m\u001b[0;34m)\u001b[0m\u001b[0;34m.\u001b[0m\u001b[0mreshape\u001b[0m\u001b[0;34m(\u001b[0m\u001b[0mshape\u001b[0m\u001b[0;34m)\u001b[0m\u001b[0;34m\u001b[0m\u001b[0m\n\u001b[0m\u001b[1;32m    139\u001b[0m     \u001b[0melastic_gt\u001b[0m \u001b[0;34m=\u001b[0m \u001b[0mmap_coordinates\u001b[0m\u001b[0;34m(\u001b[0m\u001b[0mgt\u001b[0m\u001b[0;34m,\u001b[0m \u001b[0mindices\u001b[0m\u001b[0;34m,\u001b[0m \u001b[0morder\u001b[0m\u001b[0;34m=\u001b[0m\u001b[0;36m1\u001b[0m\u001b[0;34m)\u001b[0m\u001b[0;34m.\u001b[0m\u001b[0mreshape\u001b[0m\u001b[0;34m(\u001b[0m\u001b[0mshape\u001b[0m\u001b[0;34m)\u001b[0m\u001b[0;34m\u001b[0m\u001b[0m\n\u001b[1;32m    140\u001b[0m     \u001b[0melastic_gt\u001b[0m \u001b[0;34m=\u001b[0m \u001b[0mnp\u001b[0m\u001b[0;34m.\u001b[0m\u001b[0marray\u001b[0m\u001b[0;34m(\u001b[0m\u001b[0melastic_gt\u001b[0m\u001b[0;34m)\u001b[0m\u001b[0;34m\u001b[0m\u001b[0m\n",
      "\u001b[0;32m/home/GRAMES.POLYMTL.CA/mawab/ads/tf11-ads/local/lib/python2.7/site-packages/scipy/ndimage/interpolation.pyc\u001b[0m in \u001b[0;36mmap_coordinates\u001b[0;34m(input, coordinates, output, order, mode, cval, prefilter)\u001b[0m\n\u001b[1;32m    355\u001b[0m                                                    shape=output_shape)\n\u001b[1;32m    356\u001b[0m     _geometric_transform(filtered, None, coordinates, None, None,\n\u001b[0;32m--> 357\u001b[0;31m                          output, order, mode, cval, None, None)\n\u001b[0m\u001b[1;32m    358\u001b[0m     \u001b[0;32mreturn\u001b[0m \u001b[0mreturn_value\u001b[0m\u001b[0;34m\u001b[0m\u001b[0m\n\u001b[1;32m    359\u001b[0m \u001b[0;34m\u001b[0m\u001b[0m\n",
      "\u001b[0;32m/home/GRAMES.POLYMTL.CA/mawab/ads/tf11-ads/local/lib/python2.7/site-packages/scipy/ndimage/interpolation.pyc\u001b[0m in \u001b[0;36m_geometric_transform\u001b[0;34m(input, mapping, coordinates, matrix, offset, output, order, mode, cval, extra_arguments, extra_keywords)\u001b[0m\n\u001b[1;32m    130\u001b[0m     _nd_image.geometric_transform(\n\u001b[1;32m    131\u001b[0m         \u001b[0minput\u001b[0m\u001b[0;34m,\u001b[0m \u001b[0mmapping\u001b[0m\u001b[0;34m,\u001b[0m \u001b[0mcoordinates\u001b[0m\u001b[0;34m,\u001b[0m \u001b[0mmatrix\u001b[0m\u001b[0;34m,\u001b[0m \u001b[0moffset\u001b[0m\u001b[0;34m,\u001b[0m \u001b[0moutput\u001b[0m\u001b[0;34m,\u001b[0m\u001b[0;34m\u001b[0m\u001b[0m\n\u001b[0;32m--> 132\u001b[0;31m         order, mode, cval, extra_arguments, extra_keywords)\n\u001b[0m\u001b[1;32m    133\u001b[0m \u001b[0;34m\u001b[0m\u001b[0m\n\u001b[1;32m    134\u001b[0m     \u001b[0;32mif\u001b[0m \u001b[0moutput\u001b[0m \u001b[0;32mis\u001b[0m \u001b[0;32mnot\u001b[0m \u001b[0mNone\u001b[0m \u001b[0;32mand\u001b[0m \u001b[0;32mnot\u001b[0m \u001b[0moutput\u001b[0m\u001b[0;34m.\u001b[0m\u001b[0mdtype\u001b[0m\u001b[0;34m.\u001b[0m\u001b[0misnative\u001b[0m\u001b[0;34m:\u001b[0m\u001b[0;34m\u001b[0m\u001b[0m\n",
      "\u001b[0;31mKeyboardInterrupt\u001b[0m: "
     ]
    }
   ],
   "source": [
    "dir_name = time.strftime(\"%Y-%m-%d\") + '_' + time.strftime(\"%H-%M-%S\") \n",
    "dir_name = 'cv_2c_nw_d5_2_b8_p10-10'\n",
    "path_model = os.path.join('../models/', dir_name)\n",
    "\n",
    "if not os.path.exists(path_model):\n",
    "    os.makedirs(path_model)\n",
    "    \n",
    "path_model_init = None \n",
    "\n",
    "\n",
    "# Specify here the path to the initial model if needed.\n",
    "\n",
    "if os.path.exists(path_model+filename): # if there is already a configfile\n",
    "    with open(path_model+filename, 'r') as fd:\n",
    "        config_network = json.loads(fd.read())\n",
    "else: # There is no config file for the moment\n",
    "    with open(path_model+filename, 'w') as f:\n",
    "        json.dump(config, f, indent=2)\n",
    "    with open(path_model+filename, 'r') as fd:\n",
    "        config_network = json.loads(fd.read())\n",
    "        \n",
    "        \n",
    "# Ensure that the config file has all the necessary parameters\n",
    "\n",
    "config_network = update_config(default_configuration(), config_network)\n",
    "    \n",
    "################################################### Training phase ###################################################\n",
    "\n",
    "# Note : possible values for gpu: None, '/gpu:0'. If used withing CUDA_VISIBLE_DEVICES=?, then it will use gpu number ? by default\n",
    "from AxonDeepSeg.train_network import train_model\n",
    "train_model(path_training, path_model, config_network,path_model_init=path_model_init,gpu='/gpu:0')"
   ]
  },
  {
   "cell_type": "code",
   "execution_count": null,
   "metadata": {
    "collapsed": true
   },
   "outputs": [],
   "source": []
  },
  {
   "cell_type": "code",
   "execution_count": null,
   "metadata": {
    "collapsed": true
   },
   "outputs": [],
   "source": []
  }
 ],
 "metadata": {
  "kernelspec": {
   "display_name": "Python 2",
   "language": "python",
   "name": "python2"
  },
  "language_info": {
   "codemirror_mode": {
    "name": "ipython",
    "version": 2
   },
   "file_extension": ".py",
   "mimetype": "text/x-python",
   "name": "python",
   "nbconvert_exporter": "python",
   "pygments_lexer": "ipython2",
   "version": "2.7.12"
  }
 },
 "nbformat": 4,
 "nbformat_minor": 2
}
