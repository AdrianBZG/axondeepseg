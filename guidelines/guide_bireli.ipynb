{
 "cells": [
  {
   "cell_type": "markdown",
   "metadata": {},
   "source": [
    "# IMPORTS"
   ]
  },
  {
   "cell_type": "code",
   "execution_count": 1,
   "metadata": {
    "collapsed": true
   },
   "outputs": [],
   "source": [
    "import json\n",
    "import os\n",
    "import time"
   ]
  },
  {
   "cell_type": "markdown",
   "metadata": {},
   "source": [
    "## Setting hyperparameters and creating the file _config_"
   ]
  },
  {
   "cell_type": "markdown",
   "metadata": {},
   "source": [
    "Quick explanations"
   ]
  },
  {
   "cell_type": "code",
   "execution_count": 2,
   "metadata": {
    "collapsed": true
   },
   "outputs": [],
   "source": [
    "# Description du fichier config :\n",
    "# network_learning_rate : float : No idea, but certainly linked to the back propagation ? Default : 0.0005.\n",
    "# network_n_classes : int : number of labels in the output. Default : 2.\n",
    "# dropout : float : between 0 and 1 : percentage of neurons we want to keep. Default : 0.75.\n",
    "# network_depth : int : number of layers WARNING : factualy, there will be 2*network_depth layers. Default : 6.\n",
    "# network_convolution_per_layer : list of int, length = network_depth : number of convolution per layer. Default : [1 for i in range(network_depth)].\n",
    "# network_size_of_convolutions_per_layer : list of lists of int [number of layers[number_of_convolutions_per_layer]] : Describe the size of each convolution filter.\n",
    "# Default : [[3 for k in range(network_convolution_per_layer[i])] for i in range(network_depth)].\n",
    "\n",
    "# network_features_per_convolution : list of lists of int [number of layers[number_of_convolutions_per_layer[2]] : Numer of different filters that are going to be used.\n",
    "# Default : [[[64,64] for k in range(network_convolution_per_layer[i])] for i in range(network_depth)]. WARNING ! network_features_per_convolution[k][1] = network_features_per_convolution[k+1][0].\n",
    "\n",
    "# network_trainingset : string : String describing the dataset used for the training."
   ]
  },
  {
   "cell_type": "markdown",
   "metadata": {},
   "source": [
    "Name of the .json file where the network configuration will be stored"
   ]
  },
  {
   "cell_type": "code",
   "execution_count": 3,
   "metadata": {
    "collapsed": true
   },
   "outputs": [],
   "source": [
    "filename = '/config_network.json'"
   ]
  },
  {
   "cell_type": "markdown",
   "metadata": {},
   "source": [
    "## Setting the main parameters of the network"
   ]
  },
  {
   "cell_type": "markdown",
   "metadata": {},
   "source": [
    "If multiple training sets are available, you can select which one you want to use here."
   ]
  },
  {
   "cell_type": "code",
   "execution_count": 4,
   "metadata": {
    "collapsed": true
   },
   "outputs": [],
   "source": [
    "trainingset_name = 'SEM_2classes_reduced'"
   ]
  },
  {
   "cell_type": "markdown",
   "metadata": {},
   "source": [
    "We then set the main parameters and the architecture of the network"
   ]
  },
  {
   "cell_type": "code",
   "execution_count": 5,
   "metadata": {
    "collapsed": true
   },
   "outputs": [],
   "source": [
    "network_learning_rate = 0.0005\n",
    "network_n_classes = 2\n",
    "dropout = 0.75\n",
    "network_depth = 4\n",
    "network_convolution_per_layer = [3 for i in range(network_depth)]\n",
    "network_size_of_convolutions_per_layer = [[5,5,5],[3,3,3],[3,3,3],[3,3,3]]#[[3 for k in range(network_convolution_per_layer[i])] for i in range(network_depth)]\n",
    "network_features_per_convolution = [[[1,10],[10,20],[20,30]],[[30,40],[40,50],[50,60]],[[60,70],[70,80],[80,90]],[[90,100],[100,110],[110,120]],\n",
    "                                    ]\n",
    "network_size_of_convolutions_bottom_layer = 3\n",
    "network_features_per_convolution_bottom_layer = 120\n",
    "network_batch_size = 1\n",
    "\n",
    "\n",
    "downsampling = 'convolution'\n",
    "\n",
    "thresholds = [0,0.5]\n",
    "\n",
    "weighted_cost = False\n",
    "\n",
    "config = {\n",
    "    'network_learning_rate': network_learning_rate,\n",
    "    'network_n_classes': network_n_classes,\n",
    "    'network_dropout': dropout,\n",
    "    'network_depth': network_depth,\n",
    "    'network_convolution_per_layer': network_convolution_per_layer,\n",
    "    'network_size_of_convolutions_per_layer': network_size_of_convolutions_per_layer,\n",
    "    'network_features_per_convolution': network_features_per_convolution,\n",
    "    'network_trainingset': trainingset_name,\n",
    "    'network_downsampling': downsampling,\n",
    "    'network_thresholds': thresholds,\n",
    "    'network_weighted_cost': weighted_cost,\n",
    "    'network_batch_size': network_batch_size\n",
    "}"
   ]
  },
  {
   "cell_type": "markdown",
   "metadata": {},
   "source": [
    "## Preparing the training phase"
   ]
  },
  {
   "cell_type": "code",
   "execution_count": 6,
   "metadata": {
    "collapsed": true
   },
   "outputs": [],
   "source": [
    "path_training = '../data/'+trainingset_name+'/training/'"
   ]
  },
  {
   "cell_type": "markdown",
   "metadata": {},
   "source": [
    "## Actually training the model"
   ]
  },
  {
   "cell_type": "markdown",
   "metadata": {},
   "source": [
    "By default, the name is the current date. You can uncomment the second line dir_name if you want to give a specific name to the folder, but beware: it will erase the contents of the folder if it already exists !\n",
    "\n",
    "The model data will be stored in a folder with this name, as well as the summaries that are going to be readable on tensorboard."
   ]
  },
  {
   "cell_type": "code",
   "execution_count": 7,
   "metadata": {
    "scrolled": false
   },
   "outputs": [
    {
     "name": "stdout",
     "output_type": "stream",
     "text": [
      "('Layer: ', 0, ' Conv: ', 0, 'Features: ', [1, 10])\n",
      "('Size:', 5)\n",
      "('Layer: ', 0, ' Conv: ', 1, 'Features: ', [10, 20])\n",
      "('Size:', 5)\n",
      "('Layer: ', 0, ' Conv: ', 2, 'Features: ', [20, 30])\n",
      "('Size:', 5)\n",
      "('Layer: ', 1, ' Conv: ', 0, 'Features: ', [30, 40])\n",
      "('Size:', 3)\n",
      "('Layer: ', 1, ' Conv: ', 1, 'Features: ', [40, 50])\n",
      "('Size:', 3)\n",
      "('Layer: ', 1, ' Conv: ', 2, 'Features: ', [50, 60])\n",
      "('Size:', 3)\n",
      "('Layer: ', 2, ' Conv: ', 0, 'Features: ', [60, 70])\n",
      "('Size:', 3)\n",
      "('Layer: ', 2, ' Conv: ', 1, 'Features: ', [70, 80])\n",
      "('Size:', 3)\n",
      "('Layer: ', 2, ' Conv: ', 2, 'Features: ', [80, 90])\n",
      "('Size:', 3)\n",
      "('Layer: ', 3, ' Conv: ', 0, 'Features: ', [90, 100])\n",
      "('Size:', 3)\n",
      "('Layer: ', 3, ' Conv: ', 1, 'Features: ', [100, 110])\n",
      "('Size:', 3)\n",
      "('Layer: ', 3, ' Conv: ', 2, 'Features: ', [110, 120])\n",
      "('Size:', 3)\n",
      "('Layer: ', 0, ' Conv: ', 0, 'Features: ', [1, 10])\n",
      "('Size:', 5)\n",
      "('Layer: ', 0, ' Conv: ', 1, 'Features: ', [10, 20])\n",
      "('Size:', 5)\n",
      "('Layer: ', 0, ' Conv: ', 2, 'Features: ', [20, 30])\n",
      "('Size:', 5)\n",
      "('Layer: ', 1, ' Conv: ', 0, 'Features: ', [30, 40])\n",
      "('Size:', 3)\n",
      "('Layer: ', 1, ' Conv: ', 1, 'Features: ', [40, 50])\n",
      "('Size:', 3)\n",
      "('Layer: ', 1, ' Conv: ', 2, 'Features: ', [50, 60])\n",
      "('Size:', 3)\n",
      "('Layer: ', 2, ' Conv: ', 0, 'Features: ', [60, 70])\n",
      "('Size:', 3)\n",
      "('Layer: ', 2, ' Conv: ', 1, 'Features: ', [70, 80])\n",
      "('Size:', 3)\n",
      "('Layer: ', 2, ' Conv: ', 2, 'Features: ', [80, 90])\n",
      "('Size:', 3)\n",
      "('Layer: ', 3, ' Conv: ', 0, 'Features: ', [90, 100])\n",
      "('Size:', 3)\n",
      "('Layer: ', 3, ' Conv: ', 1, 'Features: ', [100, 110])\n",
      "('Size:', 3)\n",
      "('Layer: ', 3, ' Conv: ', 2, 'Features: ', [110, 120])\n",
      "('Size:', 3)\n",
      "('tot_param = ', 2382112)\n",
      "INFO:tensorflow:Summary name cconv-d0-c0/convolution/weights:0_grad is illegal; using cconv-d0-c0/convolution/weights_0_grad instead.\n",
      "INFO:tensorflow:Summary name cconv-d0-c0/convolution/bn/beta:0_grad is illegal; using cconv-d0-c0/convolution/bn/beta_0_grad instead.\n",
      "INFO:tensorflow:Summary name cconv-d0-c0/convolution/bn/gamma:0_grad is illegal; using cconv-d0-c0/convolution/bn/gamma_0_grad instead.\n",
      "INFO:tensorflow:Summary name cconv-d0-c1/convolution/weights:0_grad is illegal; using cconv-d0-c1/convolution/weights_0_grad instead.\n",
      "INFO:tensorflow:Summary name cconv-d0-c1/convolution/bn/beta:0_grad is illegal; using cconv-d0-c1/convolution/bn/beta_0_grad instead.\n",
      "INFO:tensorflow:Summary name cconv-d0-c1/convolution/bn/gamma:0_grad is illegal; using cconv-d0-c1/convolution/bn/gamma_0_grad instead.\n",
      "INFO:tensorflow:Summary name cconv-d0-c2/convolution/weights:0_grad is illegal; using cconv-d0-c2/convolution/weights_0_grad instead.\n",
      "INFO:tensorflow:Summary name cconv-d0-c2/convolution/bn/beta:0_grad is illegal; using cconv-d0-c2/convolution/bn/beta_0_grad instead.\n",
      "INFO:tensorflow:Summary name cconv-d0-c2/convolution/bn/gamma:0_grad is illegal; using cconv-d0-c2/convolution/bn/gamma_0_grad instead.\n",
      "INFO:tensorflow:Summary name downconv-d0/convolution/weights:0_grad is illegal; using downconv-d0/convolution/weights_0_grad instead.\n",
      "INFO:tensorflow:Summary name downconv-d0/convolution/bn/beta:0_grad is illegal; using downconv-d0/convolution/bn/beta_0_grad instead.\n",
      "INFO:tensorflow:Summary name downconv-d0/convolution/bn/gamma:0_grad is illegal; using downconv-d0/convolution/bn/gamma_0_grad instead.\n",
      "INFO:tensorflow:Summary name cconv-d1-c0/convolution/weights:0_grad is illegal; using cconv-d1-c0/convolution/weights_0_grad instead.\n",
      "INFO:tensorflow:Summary name cconv-d1-c0/convolution/bn/beta:0_grad is illegal; using cconv-d1-c0/convolution/bn/beta_0_grad instead.\n",
      "INFO:tensorflow:Summary name cconv-d1-c0/convolution/bn/gamma:0_grad is illegal; using cconv-d1-c0/convolution/bn/gamma_0_grad instead.\n",
      "INFO:tensorflow:Summary name cconv-d1-c1/convolution/weights:0_grad is illegal; using cconv-d1-c1/convolution/weights_0_grad instead.\n",
      "INFO:tensorflow:Summary name cconv-d1-c1/convolution/bn/beta:0_grad is illegal; using cconv-d1-c1/convolution/bn/beta_0_grad instead.\n",
      "INFO:tensorflow:Summary name cconv-d1-c1/convolution/bn/gamma:0_grad is illegal; using cconv-d1-c1/convolution/bn/gamma_0_grad instead.\n",
      "INFO:tensorflow:Summary name cconv-d1-c2/convolution/weights:0_grad is illegal; using cconv-d1-c2/convolution/weights_0_grad instead.\n",
      "INFO:tensorflow:Summary name cconv-d1-c2/convolution/bn/beta:0_grad is illegal; using cconv-d1-c2/convolution/bn/beta_0_grad instead.\n",
      "INFO:tensorflow:Summary name cconv-d1-c2/convolution/bn/gamma:0_grad is illegal; using cconv-d1-c2/convolution/bn/gamma_0_grad instead.\n",
      "INFO:tensorflow:Summary name downconv-d1/convolution/weights:0_grad is illegal; using downconv-d1/convolution/weights_0_grad instead.\n",
      "INFO:tensorflow:Summary name downconv-d1/convolution/bn/beta:0_grad is illegal; using downconv-d1/convolution/bn/beta_0_grad instead.\n",
      "INFO:tensorflow:Summary name downconv-d1/convolution/bn/gamma:0_grad is illegal; using downconv-d1/convolution/bn/gamma_0_grad instead.\n",
      "INFO:tensorflow:Summary name cconv-d2-c0/convolution/weights:0_grad is illegal; using cconv-d2-c0/convolution/weights_0_grad instead.\n",
      "INFO:tensorflow:Summary name cconv-d2-c0/convolution/bn/beta:0_grad is illegal; using cconv-d2-c0/convolution/bn/beta_0_grad instead.\n",
      "INFO:tensorflow:Summary name cconv-d2-c0/convolution/bn/gamma:0_grad is illegal; using cconv-d2-c0/convolution/bn/gamma_0_grad instead.\n",
      "INFO:tensorflow:Summary name cconv-d2-c1/convolution/weights:0_grad is illegal; using cconv-d2-c1/convolution/weights_0_grad instead.\n",
      "INFO:tensorflow:Summary name cconv-d2-c1/convolution/bn/beta:0_grad is illegal; using cconv-d2-c1/convolution/bn/beta_0_grad instead.\n",
      "INFO:tensorflow:Summary name cconv-d2-c1/convolution/bn/gamma:0_grad is illegal; using cconv-d2-c1/convolution/bn/gamma_0_grad instead.\n",
      "INFO:tensorflow:Summary name cconv-d2-c2/convolution/weights:0_grad is illegal; using cconv-d2-c2/convolution/weights_0_grad instead.\n",
      "INFO:tensorflow:Summary name cconv-d2-c2/convolution/bn/beta:0_grad is illegal; using cconv-d2-c2/convolution/bn/beta_0_grad instead.\n",
      "INFO:tensorflow:Summary name cconv-d2-c2/convolution/bn/gamma:0_grad is illegal; using cconv-d2-c2/convolution/bn/gamma_0_grad instead.\n",
      "INFO:tensorflow:Summary name downconv-d2/convolution/weights:0_grad is illegal; using downconv-d2/convolution/weights_0_grad instead.\n",
      "INFO:tensorflow:Summary name downconv-d2/convolution/bn/beta:0_grad is illegal; using downconv-d2/convolution/bn/beta_0_grad instead.\n",
      "INFO:tensorflow:Summary name downconv-d2/convolution/bn/gamma:0_grad is illegal; using downconv-d2/convolution/bn/gamma_0_grad instead.\n",
      "INFO:tensorflow:Summary name cconv-d3-c0/convolution/weights:0_grad is illegal; using cconv-d3-c0/convolution/weights_0_grad instead.\n",
      "INFO:tensorflow:Summary name cconv-d3-c0/convolution/bn/beta:0_grad is illegal; using cconv-d3-c0/convolution/bn/beta_0_grad instead.\n",
      "INFO:tensorflow:Summary name cconv-d3-c0/convolution/bn/gamma:0_grad is illegal; using cconv-d3-c0/convolution/bn/gamma_0_grad instead.\n",
      "INFO:tensorflow:Summary name cconv-d3-c1/convolution/weights:0_grad is illegal; using cconv-d3-c1/convolution/weights_0_grad instead.\n",
      "INFO:tensorflow:Summary name cconv-d3-c1/convolution/bn/beta:0_grad is illegal; using cconv-d3-c1/convolution/bn/beta_0_grad instead.\n",
      "INFO:tensorflow:Summary name cconv-d3-c1/convolution/bn/gamma:0_grad is illegal; using cconv-d3-c1/convolution/bn/gamma_0_grad instead.\n",
      "INFO:tensorflow:Summary name cconv-d3-c2/convolution/weights:0_grad is illegal; using cconv-d3-c2/convolution/weights_0_grad instead.\n",
      "INFO:tensorflow:Summary name cconv-d3-c2/convolution/bn/beta:0_grad is illegal; using cconv-d3-c2/convolution/bn/beta_0_grad instead.\n",
      "INFO:tensorflow:Summary name cconv-d3-c2/convolution/bn/gamma:0_grad is illegal; using cconv-d3-c2/convolution/bn/gamma_0_grad instead.\n",
      "INFO:tensorflow:Summary name downconv-d3/convolution/weights:0_grad is illegal; using downconv-d3/convolution/weights_0_grad instead.\n",
      "INFO:tensorflow:Summary name downconv-d3/convolution/bn/beta:0_grad is illegal; using downconv-d3/convolution/bn/beta_0_grad instead.\n",
      "INFO:tensorflow:Summary name downconv-d3/convolution/bn/gamma:0_grad is illegal; using downconv-d3/convolution/bn/gamma_0_grad instead.\n",
      "INFO:tensorflow:Summary name deepconv1/convolution/weights:0_grad is illegal; using deepconv1/convolution/weights_0_grad instead.\n"
     ]
    },
    {
     "name": "stdout",
     "output_type": "stream",
     "text": [
      "INFO:tensorflow:Summary name deepconv1/convolution/bn/beta:0_grad is illegal; using deepconv1/convolution/bn/beta_0_grad instead.\n",
      "INFO:tensorflow:Summary name deepconv1/convolution/bn/gamma:0_grad is illegal; using deepconv1/convolution/bn/gamma_0_grad instead.\n",
      "INFO:tensorflow:Summary name deepconv2/convolution/weights:0_grad is illegal; using deepconv2/convolution/weights_0_grad instead.\n",
      "INFO:tensorflow:Summary name deepconv2/convolution/bn/beta:0_grad is illegal; using deepconv2/convolution/bn/beta_0_grad instead.\n",
      "INFO:tensorflow:Summary name deepconv2/convolution/bn/gamma:0_grad is illegal; using deepconv2/convolution/bn/gamma_0_grad instead.\n",
      "INFO:tensorflow:Summary name upconv-d3/convolution/weights:0_grad is illegal; using upconv-d3/convolution/weights_0_grad instead.\n",
      "INFO:tensorflow:Summary name upconv-d3/convolution/bn/beta:0_grad is illegal; using upconv-d3/convolution/bn/beta_0_grad instead.\n",
      "INFO:tensorflow:Summary name upconv-d3/convolution/bn/gamma:0_grad is illegal; using upconv-d3/convolution/bn/gamma_0_grad instead.\n",
      "INFO:tensorflow:Summary name econv-d0-c0/convolution/weights:0_grad is illegal; using econv-d0-c0/convolution/weights_0_grad instead.\n",
      "INFO:tensorflow:Summary name econv-d0-c0/convolution/bn/beta:0_grad is illegal; using econv-d0-c0/convolution/bn/beta_0_grad instead.\n",
      "INFO:tensorflow:Summary name econv-d0-c0/convolution/bn/gamma:0_grad is illegal; using econv-d0-c0/convolution/bn/gamma_0_grad instead.\n",
      "INFO:tensorflow:Summary name econv-d0-c1/convolution/weights:0_grad is illegal; using econv-d0-c1/convolution/weights_0_grad instead.\n",
      "INFO:tensorflow:Summary name econv-d0-c1/convolution/bn/beta:0_grad is illegal; using econv-d0-c1/convolution/bn/beta_0_grad instead.\n",
      "INFO:tensorflow:Summary name econv-d0-c1/convolution/bn/gamma:0_grad is illegal; using econv-d0-c1/convolution/bn/gamma_0_grad instead.\n",
      "INFO:tensorflow:Summary name econv-d0-c2/convolution/weights:0_grad is illegal; using econv-d0-c2/convolution/weights_0_grad instead.\n",
      "INFO:tensorflow:Summary name econv-d0-c2/convolution/bn/beta:0_grad is illegal; using econv-d0-c2/convolution/bn/beta_0_grad instead.\n",
      "INFO:tensorflow:Summary name econv-d0-c2/convolution/bn/gamma:0_grad is illegal; using econv-d0-c2/convolution/bn/gamma_0_grad instead.\n",
      "INFO:tensorflow:Summary name upconv-d2/convolution/weights:0_grad is illegal; using upconv-d2/convolution/weights_0_grad instead.\n",
      "INFO:tensorflow:Summary name upconv-d2/convolution/bn/beta:0_grad is illegal; using upconv-d2/convolution/bn/beta_0_grad instead.\n",
      "INFO:tensorflow:Summary name upconv-d2/convolution/bn/gamma:0_grad is illegal; using upconv-d2/convolution/bn/gamma_0_grad instead.\n",
      "INFO:tensorflow:Summary name econv-d1-c0/convolution/weights:0_grad is illegal; using econv-d1-c0/convolution/weights_0_grad instead.\n",
      "INFO:tensorflow:Summary name econv-d1-c0/convolution/bn/beta:0_grad is illegal; using econv-d1-c0/convolution/bn/beta_0_grad instead.\n",
      "INFO:tensorflow:Summary name econv-d1-c0/convolution/bn/gamma:0_grad is illegal; using econv-d1-c0/convolution/bn/gamma_0_grad instead.\n",
      "INFO:tensorflow:Summary name econv-d1-c1/convolution/weights:0_grad is illegal; using econv-d1-c1/convolution/weights_0_grad instead.\n",
      "INFO:tensorflow:Summary name econv-d1-c1/convolution/bn/beta:0_grad is illegal; using econv-d1-c1/convolution/bn/beta_0_grad instead.\n",
      "INFO:tensorflow:Summary name econv-d1-c1/convolution/bn/gamma:0_grad is illegal; using econv-d1-c1/convolution/bn/gamma_0_grad instead.\n",
      "INFO:tensorflow:Summary name econv-d1-c2/convolution/weights:0_grad is illegal; using econv-d1-c2/convolution/weights_0_grad instead.\n",
      "INFO:tensorflow:Summary name econv-d1-c2/convolution/bn/beta:0_grad is illegal; using econv-d1-c2/convolution/bn/beta_0_grad instead.\n",
      "INFO:tensorflow:Summary name econv-d1-c2/convolution/bn/gamma:0_grad is illegal; using econv-d1-c2/convolution/bn/gamma_0_grad instead.\n",
      "INFO:tensorflow:Summary name upconv-d1/convolution/weights:0_grad is illegal; using upconv-d1/convolution/weights_0_grad instead.\n",
      "INFO:tensorflow:Summary name upconv-d1/convolution/bn/beta:0_grad is illegal; using upconv-d1/convolution/bn/beta_0_grad instead.\n",
      "INFO:tensorflow:Summary name upconv-d1/convolution/bn/gamma:0_grad is illegal; using upconv-d1/convolution/bn/gamma_0_grad instead.\n",
      "INFO:tensorflow:Summary name econv-d2-c0/convolution/weights:0_grad is illegal; using econv-d2-c0/convolution/weights_0_grad instead.\n",
      "INFO:tensorflow:Summary name econv-d2-c0/convolution/bn/beta:0_grad is illegal; using econv-d2-c0/convolution/bn/beta_0_grad instead.\n",
      "INFO:tensorflow:Summary name econv-d2-c0/convolution/bn/gamma:0_grad is illegal; using econv-d2-c0/convolution/bn/gamma_0_grad instead.\n",
      "INFO:tensorflow:Summary name econv-d2-c1/convolution/weights:0_grad is illegal; using econv-d2-c1/convolution/weights_0_grad instead.\n",
      "INFO:tensorflow:Summary name econv-d2-c1/convolution/bn/beta:0_grad is illegal; using econv-d2-c1/convolution/bn/beta_0_grad instead.\n",
      "INFO:tensorflow:Summary name econv-d2-c1/convolution/bn/gamma:0_grad is illegal; using econv-d2-c1/convolution/bn/gamma_0_grad instead.\n",
      "INFO:tensorflow:Summary name econv-d2-c2/convolution/weights:0_grad is illegal; using econv-d2-c2/convolution/weights_0_grad instead.\n",
      "INFO:tensorflow:Summary name econv-d2-c2/convolution/bn/beta:0_grad is illegal; using econv-d2-c2/convolution/bn/beta_0_grad instead.\n",
      "INFO:tensorflow:Summary name econv-d2-c2/convolution/bn/gamma:0_grad is illegal; using econv-d2-c2/convolution/bn/gamma_0_grad instead.\n",
      "INFO:tensorflow:Summary name upconv-d0/convolution/weights:0_grad is illegal; using upconv-d0/convolution/weights_0_grad instead.\n",
      "INFO:tensorflow:Summary name upconv-d0/convolution/bn/beta:0_grad is illegal; using upconv-d0/convolution/bn/beta_0_grad instead.\n",
      "INFO:tensorflow:Summary name upconv-d0/convolution/bn/gamma:0_grad is illegal; using upconv-d0/convolution/bn/gamma_0_grad instead.\n",
      "INFO:tensorflow:Summary name econv-d3-c0/convolution/weights:0_grad is illegal; using econv-d3-c0/convolution/weights_0_grad instead.\n",
      "INFO:tensorflow:Summary name econv-d3-c0/convolution/bn/beta:0_grad is illegal; using econv-d3-c0/convolution/bn/beta_0_grad instead.\n",
      "INFO:tensorflow:Summary name econv-d3-c0/convolution/bn/gamma:0_grad is illegal; using econv-d3-c0/convolution/bn/gamma_0_grad instead.\n",
      "INFO:tensorflow:Summary name econv-d3-c1/convolution/weights:0_grad is illegal; using econv-d3-c1/convolution/weights_0_grad instead.\n",
      "INFO:tensorflow:Summary name econv-d3-c1/convolution/bn/beta:0_grad is illegal; using econv-d3-c1/convolution/bn/beta_0_grad instead.\n",
      "INFO:tensorflow:Summary name econv-d3-c1/convolution/bn/gamma:0_grad is illegal; using econv-d3-c1/convolution/bn/gamma_0_grad instead.\n",
      "INFO:tensorflow:Summary name econv-d3-c2/convolution/weights:0_grad is illegal; using econv-d3-c2/convolution/weights_0_grad instead.\n",
      "INFO:tensorflow:Summary name econv-d3-c2/convolution/bn/beta:0_grad is illegal; using econv-d3-c2/convolution/bn/beta_0_grad instead.\n",
      "INFO:tensorflow:Summary name econv-d3-c2/convolution/bn/gamma:0_grad is illegal; using econv-d3-c2/convolution/bn/gamma_0_grad instead.\n",
      "INFO:tensorflow:Summary name finalconv/weights:0_grad is illegal; using finalconv/weights_0_grad instead.\n",
      "INFO:tensorflow:Summary name finalconv/biases:0_grad is illegal; using finalconv/biases_0_grad instead.\n",
      "training start\n",
      "Default cost selected\n"
     ]
    },
    {
     "name": "stderr",
     "output_type": "stream",
     "text": [
      "/home/GRAMES.POLYMTL.CA/mawab/ads/tf11-ads/local/lib/python2.7/site-packages/skimage/transform/_warps.py:84: UserWarning: The default mode, 'constant', will be changed to 'reflect' in skimage 0.15.\n",
      "  warn(\"The default mode, 'constant', will be changed to 'reflect' in \"\n"
     ]
    },
    {
     "name": "stdout",
     "output_type": "stream",
     "text": [
      "\n",
      "\n",
      "----Scores on validation:---\n",
      "----\n",
      " Last epoch: 1\n",
      " Accuracy: 0.75934;\n",
      " Loss: 0.632962;\n",
      "\n",
      "\n",
      "----Scores on validation:---\n",
      "----\n",
      " Last epoch: 2\n",
      " Accuracy: 0.73483;\n",
      " Loss: 0.575312;\n",
      "\n",
      "\n",
      "----Scores on validation:---\n",
      "----\n",
      " Last epoch: 3\n",
      " Accuracy: 0.722143;\n",
      " Loss: 0.560989;\n",
      "\n",
      "\n",
      "----Scores on validation:---\n",
      "----\n",
      " Last epoch: 4\n",
      " Accuracy: 0.717248;\n",
      " Loss: 0.555235;\n",
      "\n",
      "\n",
      "----Scores on validation:---\n",
      "----\n",
      " Last epoch: 5\n",
      " Accuracy: 0.830019;\n",
      " Loss: 0.441115;\n",
      "\n",
      "\n",
      "----Scores on validation:---\n",
      "----\n",
      " Last epoch: 6\n",
      " Accuracy: 0.771741;\n",
      " Loss: 0.48885;\n",
      "Model saved in file: ../models/2017-06-21_09-44-40/model.ckpt\n",
      "\n",
      "\n",
      "----Scores on validation:---\n",
      "----\n",
      " Last epoch: 7\n",
      " Accuracy: 0.828824;\n",
      " Loss: 0.408461;\n"
     ]
    },
    {
     "ename": "KeyboardInterrupt",
     "evalue": "",
     "output_type": "error",
     "traceback": [
      "\u001b[0;31m---------------------------------------------------------------------------\u001b[0m",
      "\u001b[0;31mKeyboardInterrupt\u001b[0m                         Traceback (most recent call last)",
      "\u001b[0;32m<ipython-input-7-15a41b620cc3>\u001b[0m in \u001b[0;36m<module>\u001b[0;34m()\u001b[0m\n\u001b[1;32m     24\u001b[0m \u001b[0;31m# Note : possible values for gpu: None, '/gpu:0'. If used withing CUDA_VISIBLE_DEVICES=?, then it will use gpu number ? by default\u001b[0m\u001b[0;34m\u001b[0m\u001b[0;34m\u001b[0m\u001b[0m\n\u001b[1;32m     25\u001b[0m \u001b[0;32mfrom\u001b[0m \u001b[0mAxonDeepSeg\u001b[0m\u001b[0;34m.\u001b[0m\u001b[0mtrain_network\u001b[0m \u001b[0;32mimport\u001b[0m \u001b[0mtrain_model\u001b[0m\u001b[0;34m\u001b[0m\u001b[0m\n\u001b[0;32m---> 26\u001b[0;31m \u001b[0mtrain_model\u001b[0m\u001b[0;34m(\u001b[0m\u001b[0mpath_training\u001b[0m\u001b[0;34m,\u001b[0m \u001b[0mpath_model\u001b[0m\u001b[0;34m,\u001b[0m \u001b[0mconfig_network\u001b[0m\u001b[0;34m,\u001b[0m\u001b[0mpath_model_init\u001b[0m\u001b[0;34m=\u001b[0m\u001b[0mpath_model_init\u001b[0m\u001b[0;34m,\u001b[0m\u001b[0mgpu\u001b[0m\u001b[0;34m=\u001b[0m\u001b[0;34m'/gpu:0'\u001b[0m\u001b[0;34m,\u001b[0m \u001b[0maugmented_data\u001b[0m\u001b[0;34m=\u001b[0m\u001b[0mTrue\u001b[0m\u001b[0;34m)\u001b[0m\u001b[0;34m\u001b[0m\u001b[0m\n\u001b[0m",
      "\u001b[0;32m/home/GRAMES.POLYMTL.CA/mawab/ads/axondeepseg/AxonDeepSeg/train_network.pyc\u001b[0m in \u001b[0;36mtrain_model\u001b[0;34m(path_trainingset, path_model, config, path_model_init, save_trainable, augmented_data, gpu)\u001b[0m\n\u001b[1;32m    454\u001b[0m                     \u001b[0;31m# If new model is better than the last one, update best model\u001b[0m\u001b[0;34m\u001b[0m\u001b[0;34m\u001b[0m\u001b[0m\n\u001b[1;32m    455\u001b[0m                 \u001b[0;32melif\u001b[0m \u001b[0;34m(\u001b[0m\u001b[0macc\u001b[0m \u001b[0;34m>\u001b[0m \u001b[0macc_current_best\u001b[0m \u001b[0;32mand\u001b[0m \u001b[0mloss\u001b[0m \u001b[0;34m<\u001b[0m \u001b[0mloss_current_best\u001b[0m\u001b[0;34m)\u001b[0m\u001b[0;34m:\u001b[0m\u001b[0;34m\u001b[0m\u001b[0m\n\u001b[0;32m--> 456\u001b[0;31m                     \u001b[0msave_path\u001b[0m \u001b[0;34m=\u001b[0m \u001b[0msaver\u001b[0m\u001b[0;34m.\u001b[0m\u001b[0msave\u001b[0m\u001b[0;34m(\u001b[0m\u001b[0msession\u001b[0m\u001b[0;34m,\u001b[0m \u001b[0mfolder_model\u001b[0m \u001b[0;34m+\u001b[0m \u001b[0;34m\"/best_model.ckpt\"\u001b[0m\u001b[0;34m)\u001b[0m\u001b[0;34m\u001b[0m\u001b[0m\n\u001b[0m\u001b[1;32m    457\u001b[0m \u001b[0;34m\u001b[0m\u001b[0m\n\u001b[1;32m    458\u001b[0m                 \u001b[0mepoch\u001b[0m \u001b[0;34m+=\u001b[0m \u001b[0;36m1\u001b[0m\u001b[0;34m\u001b[0m\u001b[0m\n",
      "\u001b[0;32m/home/GRAMES.POLYMTL.CA/mawab/ads/tf11-ads/local/lib/python2.7/site-packages/tensorflow/python/training/saver.pyc\u001b[0m in \u001b[0;36msave\u001b[0;34m(self, sess, save_path, global_step, latest_filename, meta_graph_suffix, write_meta_graph, write_state)\u001b[0m\n\u001b[1;32m   1401\u001b[0m           checkpoint_file, meta_graph_suffix=meta_graph_suffix)\n\u001b[1;32m   1402\u001b[0m       \u001b[0;32mwith\u001b[0m \u001b[0msess\u001b[0m\u001b[0;34m.\u001b[0m\u001b[0mgraph\u001b[0m\u001b[0;34m.\u001b[0m\u001b[0mas_default\u001b[0m\u001b[0;34m(\u001b[0m\u001b[0;34m)\u001b[0m\u001b[0;34m:\u001b[0m\u001b[0;34m\u001b[0m\u001b[0m\n\u001b[0;32m-> 1403\u001b[0;31m         \u001b[0mself\u001b[0m\u001b[0;34m.\u001b[0m\u001b[0mexport_meta_graph\u001b[0m\u001b[0;34m(\u001b[0m\u001b[0mmeta_graph_filename\u001b[0m\u001b[0;34m)\u001b[0m\u001b[0;34m\u001b[0m\u001b[0m\n\u001b[0m\u001b[1;32m   1404\u001b[0m \u001b[0;34m\u001b[0m\u001b[0m\n\u001b[1;32m   1405\u001b[0m     \u001b[0;32mif\u001b[0m \u001b[0mself\u001b[0m\u001b[0;34m.\u001b[0m\u001b[0m_is_empty\u001b[0m\u001b[0;34m:\u001b[0m\u001b[0;34m\u001b[0m\u001b[0m\n",
      "\u001b[0;32m/home/GRAMES.POLYMTL.CA/mawab/ads/tf11-ads/local/lib/python2.7/site-packages/tensorflow/python/training/saver.pyc\u001b[0m in \u001b[0;36mexport_meta_graph\u001b[0;34m(self, filename, collection_list, as_text, export_scope, clear_devices)\u001b[0m\n\u001b[1;32m   1434\u001b[0m         \u001b[0mas_text\u001b[0m\u001b[0;34m=\u001b[0m\u001b[0mas_text\u001b[0m\u001b[0;34m,\u001b[0m\u001b[0;34m\u001b[0m\u001b[0m\n\u001b[1;32m   1435\u001b[0m         \u001b[0mexport_scope\u001b[0m\u001b[0;34m=\u001b[0m\u001b[0mexport_scope\u001b[0m\u001b[0;34m,\u001b[0m\u001b[0;34m\u001b[0m\u001b[0m\n\u001b[0;32m-> 1436\u001b[0;31m         clear_devices=clear_devices)\n\u001b[0m\u001b[1;32m   1437\u001b[0m \u001b[0;34m\u001b[0m\u001b[0m\n\u001b[1;32m   1438\u001b[0m   \u001b[0;32mdef\u001b[0m \u001b[0mrestore\u001b[0m\u001b[0;34m(\u001b[0m\u001b[0mself\u001b[0m\u001b[0;34m,\u001b[0m \u001b[0msess\u001b[0m\u001b[0;34m,\u001b[0m \u001b[0msave_path\u001b[0m\u001b[0;34m)\u001b[0m\u001b[0;34m:\u001b[0m\u001b[0;34m\u001b[0m\u001b[0m\n",
      "\u001b[0;32m/home/GRAMES.POLYMTL.CA/mawab/ads/tf11-ads/local/lib/python2.7/site-packages/tensorflow/python/training/saver.pyc\u001b[0m in \u001b[0;36mexport_meta_graph\u001b[0;34m(filename, meta_info_def, graph_def, saver_def, collection_list, as_text, graph, export_scope, clear_devices, **kwargs)\u001b[0m\n\u001b[1;32m   1657\u001b[0m       \u001b[0mexport_scope\u001b[0m\u001b[0;34m=\u001b[0m\u001b[0mexport_scope\u001b[0m\u001b[0;34m,\u001b[0m\u001b[0;34m\u001b[0m\u001b[0m\n\u001b[1;32m   1658\u001b[0m       \u001b[0mclear_devices\u001b[0m\u001b[0;34m=\u001b[0m\u001b[0mclear_devices\u001b[0m\u001b[0;34m,\u001b[0m\u001b[0;34m\u001b[0m\u001b[0m\n\u001b[0;32m-> 1659\u001b[0;31m       **kwargs)\n\u001b[0m\u001b[1;32m   1660\u001b[0m   \u001b[0;32mreturn\u001b[0m \u001b[0mmeta_graph_def\u001b[0m\u001b[0;34m\u001b[0m\u001b[0m\n\u001b[1;32m   1661\u001b[0m \u001b[0;34m\u001b[0m\u001b[0m\n",
      "\u001b[0;32m/home/GRAMES.POLYMTL.CA/mawab/ads/tf11-ads/local/lib/python2.7/site-packages/tensorflow/python/framework/meta_graph.pyc\u001b[0m in \u001b[0;36mexport_scoped_meta_graph\u001b[0;34m(filename, graph_def, graph, export_scope, as_text, unbound_inputs_col_name, clear_devices, **kwargs)\u001b[0m\n\u001b[1;32m    639\u001b[0m       \u001b[0mgraph\u001b[0m\u001b[0;34m=\u001b[0m\u001b[0mgraph\u001b[0m\u001b[0;34m,\u001b[0m\u001b[0;34m\u001b[0m\u001b[0m\n\u001b[1;32m    640\u001b[0m       \u001b[0mexport_scope\u001b[0m\u001b[0;34m=\u001b[0m\u001b[0mexport_scope\u001b[0m\u001b[0;34m,\u001b[0m\u001b[0;34m\u001b[0m\u001b[0m\n\u001b[0;32m--> 641\u001b[0;31m       **kwargs)\n\u001b[0m\u001b[1;32m    642\u001b[0m \u001b[0;34m\u001b[0m\u001b[0m\n\u001b[1;32m    643\u001b[0m   \u001b[0;32mif\u001b[0m \u001b[0mfilename\u001b[0m\u001b[0;34m:\u001b[0m\u001b[0;34m\u001b[0m\u001b[0m\n",
      "\u001b[0;32m/home/GRAMES.POLYMTL.CA/mawab/ads/tf11-ads/local/lib/python2.7/site-packages/tensorflow/python/framework/meta_graph.pyc\u001b[0m in \u001b[0;36mcreate_meta_graph_def\u001b[0;34m(meta_info_def, graph_def, saver_def, collection_list, graph, export_scope)\u001b[0m\n\u001b[1;32m    367\u001b[0m   \u001b[0;32mif\u001b[0m \u001b[0mlen\u001b[0m\u001b[0;34m(\u001b[0m\u001b[0mmeta_graph_def\u001b[0m\u001b[0;34m.\u001b[0m\u001b[0mmeta_info_def\u001b[0m\u001b[0;34m.\u001b[0m\u001b[0mstripped_op_list\u001b[0m\u001b[0;34m.\u001b[0m\u001b[0mop\u001b[0m\u001b[0;34m)\u001b[0m \u001b[0;34m==\u001b[0m \u001b[0;36m0\u001b[0m\u001b[0;34m:\u001b[0m\u001b[0;34m\u001b[0m\u001b[0m\n\u001b[1;32m    368\u001b[0m     meta_graph_def.meta_info_def.stripped_op_list.MergeFrom(\n\u001b[0;32m--> 369\u001b[0;31m         stripped_op_list_for_graph(meta_graph_def.graph_def))\n\u001b[0m\u001b[1;32m    370\u001b[0m   \u001b[0;31m# pylint: enable=g-explicit-length-test\u001b[0m\u001b[0;34m\u001b[0m\u001b[0;34m\u001b[0m\u001b[0m\n\u001b[1;32m    371\u001b[0m \u001b[0;34m\u001b[0m\u001b[0m\n",
      "\u001b[0;32m/home/GRAMES.POLYMTL.CA/mawab/ads/tf11-ads/local/lib/python2.7/site-packages/tensorflow/python/framework/meta_graph.pyc\u001b[0m in \u001b[0;36mstripped_op_list_for_graph\u001b[0;34m(graph_def)\u001b[0m\n\u001b[1;32m    180\u001b[0m   \u001b[0;31m# TODO(irving): Support taking graphs directly.\u001b[0m\u001b[0;34m\u001b[0m\u001b[0;34m\u001b[0m\u001b[0m\n\u001b[1;32m    181\u001b[0m \u001b[0;34m\u001b[0m\u001b[0m\n\u001b[0;32m--> 182\u001b[0;31m   \u001b[0mused_ops\u001b[0m \u001b[0;34m=\u001b[0m \u001b[0mops_used_by_graph_def\u001b[0m\u001b[0;34m(\u001b[0m\u001b[0mgraph_def\u001b[0m\u001b[0;34m)\u001b[0m\u001b[0;34m\u001b[0m\u001b[0m\n\u001b[0m\u001b[1;32m    183\u001b[0m \u001b[0;34m\u001b[0m\u001b[0m\n\u001b[1;32m    184\u001b[0m   \u001b[0;31m# Verify that all used ops are registered.\u001b[0m\u001b[0;34m\u001b[0m\u001b[0;34m\u001b[0m\u001b[0m\n",
      "\u001b[0;32m/home/GRAMES.POLYMTL.CA/mawab/ads/tf11-ads/local/lib/python2.7/site-packages/tensorflow/python/framework/meta_graph.pyc\u001b[0m in \u001b[0;36mops_used_by_graph_def\u001b[0;34m(graph_def)\u001b[0m\n\u001b[1;32m    149\u001b[0m \u001b[0;34m\u001b[0m\u001b[0m\n\u001b[1;32m    150\u001b[0m   \u001b[0;32mfor\u001b[0m \u001b[0mnode\u001b[0m \u001b[0;32min\u001b[0m \u001b[0mgraph_def\u001b[0m\u001b[0;34m.\u001b[0m\u001b[0mnode\u001b[0m\u001b[0;34m:\u001b[0m\u001b[0;34m\u001b[0m\u001b[0m\n\u001b[0;32m--> 151\u001b[0;31m     \u001b[0mmark_op_as_used\u001b[0m\u001b[0;34m(\u001b[0m\u001b[0mnode\u001b[0m\u001b[0;34m.\u001b[0m\u001b[0mop\u001b[0m\u001b[0;34m)\u001b[0m\u001b[0;34m\u001b[0m\u001b[0m\n\u001b[0m\u001b[1;32m    152\u001b[0m   \u001b[0;32mwhile\u001b[0m \u001b[0mfunctions_to_process\u001b[0m\u001b[0;34m:\u001b[0m\u001b[0;34m\u001b[0m\u001b[0m\n\u001b[1;32m    153\u001b[0m     \u001b[0mfun\u001b[0m \u001b[0;34m=\u001b[0m \u001b[0mfunctions_to_process\u001b[0m\u001b[0;34m.\u001b[0m\u001b[0mpop\u001b[0m\u001b[0;34m(\u001b[0m\u001b[0;34m)\u001b[0m\u001b[0;34m\u001b[0m\u001b[0m\n",
      "\u001b[0;32m/home/GRAMES.POLYMTL.CA/mawab/ads/tf11-ads/local/lib/python2.7/site-packages/tensorflow/python/framework/meta_graph.pyc\u001b[0m in \u001b[0;36mmark_op_as_used\u001b[0;34m(op)\u001b[0m\n\u001b[1;32m    146\u001b[0m     \u001b[0;32mif\u001b[0m \u001b[0mop\u001b[0m \u001b[0;32mnot\u001b[0m \u001b[0;32min\u001b[0m \u001b[0mused_ops\u001b[0m \u001b[0;32mand\u001b[0m \u001b[0mop\u001b[0m \u001b[0;32min\u001b[0m \u001b[0mname_to_function\u001b[0m\u001b[0;34m:\u001b[0m\u001b[0;34m\u001b[0m\u001b[0m\n\u001b[1;32m    147\u001b[0m       \u001b[0mfunctions_to_process\u001b[0m\u001b[0;34m.\u001b[0m\u001b[0mappend\u001b[0m\u001b[0;34m(\u001b[0m\u001b[0mname_to_function\u001b[0m\u001b[0;34m[\u001b[0m\u001b[0mop\u001b[0m\u001b[0;34m]\u001b[0m\u001b[0;34m)\u001b[0m\u001b[0;34m\u001b[0m\u001b[0m\n\u001b[0;32m--> 148\u001b[0;31m     \u001b[0mused_ops\u001b[0m\u001b[0;34m.\u001b[0m\u001b[0madd\u001b[0m\u001b[0;34m(\u001b[0m\u001b[0mop\u001b[0m\u001b[0;34m)\u001b[0m\u001b[0;34m\u001b[0m\u001b[0m\n\u001b[0m\u001b[1;32m    149\u001b[0m \u001b[0;34m\u001b[0m\u001b[0m\n\u001b[1;32m    150\u001b[0m   \u001b[0;32mfor\u001b[0m \u001b[0mnode\u001b[0m \u001b[0;32min\u001b[0m \u001b[0mgraph_def\u001b[0m\u001b[0;34m.\u001b[0m\u001b[0mnode\u001b[0m\u001b[0;34m:\u001b[0m\u001b[0;34m\u001b[0m\u001b[0m\n",
      "\u001b[0;31mKeyboardInterrupt\u001b[0m: "
     ]
    }
   ],
   "source": [
    "dir_name = time.strftime(\"%Y-%m-%d\") + '_' + time.strftime(\"%H-%M-%S\") \n",
    "#dir_name = 'test_bn'\n",
    "path_model = os.path.join('../models/', dir_name)\n",
    "\n",
    "if not os.path.exists(path_model):\n",
    "    os.makedirs(path_model)\n",
    "    \n",
    "path_model_init = None \n",
    "\n",
    "\n",
    "# Specify here the path to the initial model if needed.\n",
    "\n",
    "if os.path.exists(path_model+filename): # if there is already a configfile\n",
    "    with open(path_model+filename, 'r') as fd:\n",
    "        config_network = json.loads(fd.read())\n",
    "else: # There is no config file for the moment\n",
    "    with open(path_model+filename, 'w') as f:\n",
    "        json.dump(config, f, indent=2)\n",
    "    with open(path_model+filename, 'r') as fd:\n",
    "        config_network = json.loads(fd.read())\n",
    "    \n",
    "################################################### Training phase ###################################################\n",
    "\n",
    "# Note : possible values for gpu: None, '/gpu:0'. If used withing CUDA_VISIBLE_DEVICES=?, then it will use gpu number ? by default\n",
    "from AxonDeepSeg.train_network import train_model\n",
    "train_model(path_training, path_model, config_network,path_model_init=path_model_init,gpu='/gpu:0', augmented_data=True)"
   ]
  },
  {
   "cell_type": "code",
   "execution_count": null,
   "metadata": {
    "collapsed": true
   },
   "outputs": [],
   "source": []
  }
 ],
 "metadata": {
  "kernelspec": {
   "display_name": "Python 2",
   "language": "python",
   "name": "python2"
  },
  "language_info": {
   "codemirror_mode": {
    "name": "ipython",
    "version": 2
   },
   "file_extension": ".py",
   "mimetype": "text/x-python",
   "name": "python",
   "nbconvert_exporter": "python",
   "pygments_lexer": "ipython2",
   "version": "2.7.12"
  }
 },
 "nbformat": 4,
 "nbformat_minor": 2
}
