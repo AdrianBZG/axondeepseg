{
 "cells": [
  {
   "cell_type": "markdown",
   "metadata": {},
   "source": [
    "# IMPORTS"
   ]
  },
  {
   "cell_type": "code",
   "execution_count": 1,
   "metadata": {
    "collapsed": true
   },
   "outputs": [],
   "source": [
    "import json\n",
    "import os\n",
    "import time"
   ]
  },
  {
   "cell_type": "markdown",
   "metadata": {},
   "source": [
    "## Setting hyperparameters and creating the file _config_"
   ]
  },
  {
   "cell_type": "markdown",
   "metadata": {},
   "source": [
    "Quick explanations"
   ]
  },
  {
   "cell_type": "code",
   "execution_count": 2,
   "metadata": {
    "collapsed": true
   },
   "outputs": [],
   "source": [
    "# Description du fichier config :\n",
    "# network_learning_rate : float : No idea, but certainly linked to the back propagation ? Default : 0.0005.\n",
    "# network_n_classes : int : number of labels in the output. Default : 2.\n",
    "# dropout : float : between 0 and 1 : percentage of neurons we want to keep. Default : 0.75.\n",
    "# network_depth : int : number of layers WARNING : factualy, there will be 2*network_depth layers. Default : 6.\n",
    "# network_convolution_per_layer : list of int, length = network_depth : number of convolution per layer. Default : [1 for i in range(network_depth)].\n",
    "# network_size_of_convolutions_per_layer : list of lists of int [number of layers[number_of_convolutions_per_layer]] : Describe the size of each convolution filter.\n",
    "# Default : [[3 for k in range(network_convolution_per_layer[i])] for i in range(network_depth)].\n",
    "\n",
    "# network_features_per_convolution : list of lists of int [number of layers[number_of_convolutions_per_layer[2]] : Numer of different filters that are going to be used.\n",
    "# Default : [[[64,64] for k in range(network_convolution_per_layer[i])] for i in range(network_depth)]. WARNING ! network_features_per_convolution[k][1] = network_features_per_convolution[k+1][0].\n",
    "\n",
    "# network_trainingset : string : String describing the dataset used for the training."
   ]
  },
  {
   "cell_type": "markdown",
   "metadata": {},
   "source": [
    "Name of the .json file where the network configuration will be stored"
   ]
  },
  {
   "cell_type": "code",
   "execution_count": 3,
   "metadata": {
    "collapsed": true
   },
   "outputs": [],
   "source": [
    "filename = '/config_network.json'"
   ]
  },
  {
   "cell_type": "markdown",
   "metadata": {},
   "source": [
    "## Setting the main parameters of the network"
   ]
  },
  {
   "cell_type": "markdown",
   "metadata": {},
   "source": [
    "If multiple training sets are available, you can select which one you want to use here."
   ]
  },
  {
   "cell_type": "code",
   "execution_count": 4,
   "metadata": {
    "collapsed": true
   },
   "outputs": [],
   "source": [
    "trainingset_name = 'victor'"
   ]
  },
  {
   "cell_type": "markdown",
   "metadata": {},
   "source": [
    "We then set the main parameters of the network"
   ]
  },
  {
   "cell_type": "code",
   "execution_count": 5,
   "metadata": {
    "collapsed": true
   },
   "outputs": [],
   "source": [
    "network_learning_rate = 0.0005\n",
    "network_n_classes = 2\n",
    "dropout = 0.4\n",
    "network_depth = 6\n",
    "network_convolution_per_layer = [3 for i in range(network_depth)]\n",
    "network_size_of_convolutions_per_layer = [[5,5,5],[5,5,5],[5,5,5],[5,5,5],[5,5,5],[5,5,5]]#[[3 for k in range(network_convolution_per_layer[i])] for i in range(network_depth)]\n",
    "network_features_per_convolution = [[[1,10],[10,20],[20,30]],[[30,40],[40,50],[50,60]],[[60,70],[70,80],[80,90]],[[90,100],[100,110],[110,120]],\n",
    "                                    [[120,130],[130,140],[140,150]],[[150,160],[160,170],[170,180]]]\n",
    "\n",
    "downsampling = 'convolution'\n",
    "\n",
    "thresholds = [0,0.5]\n",
    "\n",
    "weighted_cost = True\n",
    "\n",
    "config = {\n",
    "    'network_learning_rate': network_learning_rate,\n",
    "    'network_n_classes': network_n_classes,\n",
    "    'network_dropout': dropout,\n",
    "    'network_depth': network_depth,\n",
    "    'network_convolution_per_layer': network_convolution_per_layer,\n",
    "    'network_size_of_convolutions_per_layer': network_size_of_convolutions_per_layer,\n",
    "    'network_features_per_convolution': network_features_per_convolution,\n",
    "    'network_trainingset': trainingset_name,\n",
    "    'network_downsampling': downsampling,\n",
    "    'network_thresholds': thresholds,\n",
    "    'network_weighted_cost': weighted_cost\n",
    "}"
   ]
  },
  {
   "cell_type": "markdown",
   "metadata": {},
   "source": [
    "## Preparing the training phase"
   ]
  },
  {
   "cell_type": "code",
   "execution_count": null,
   "metadata": {
    "collapsed": true
   },
   "outputs": [],
   "source": [
    "path_training = '../data/'+trainingset_name+'/training/'"
   ]
  },
  {
   "cell_type": "markdown",
   "metadata": {},
   "source": [
    "## Actually training the model"
   ]
  },
  {
   "cell_type": "markdown",
   "metadata": {},
   "source": [
    "By default, the name is the current date.\n",
    "\n",
    "The model data will be stored in a folder with this name, as well as the summaries that are going to be readable on tensorboard."
   ]
  },
  {
   "cell_type": "code",
   "execution_count": null,
   "metadata": {
    "scrolled": false
   },
   "outputs": [
    {
     "name": "stdout",
     "output_type": "stream",
     "text": [
      "('Input features layer : ', 360)\n",
      "('Input features layer : ', 300)\n",
      "('Input features layer : ', 240)\n",
      "('Input features layer : ', 180)\n",
      "('Input features layer : ', 120)\n",
      "('Input features layer : ', 60)\n",
      "('Layer: ', 0, ' Conv: ', 0, 'Features: ', [1, 10])\n",
      "('Size:', 5)\n",
      "('Layer: ', 0, ' Conv: ', 1, 'Features: ', [10, 20])\n",
      "('Size:', 5)\n",
      "('Layer: ', 0, ' Conv: ', 2, 'Features: ', [20, 30])\n",
      "('Size:', 5)\n",
      "('Layer: ', 1, ' Conv: ', 0, 'Features: ', [30, 40])\n",
      "('Size:', 5)\n",
      "('Layer: ', 1, ' Conv: ', 1, 'Features: ', [40, 50])\n",
      "('Size:', 5)\n",
      "('Layer: ', 1, ' Conv: ', 2, 'Features: ', [50, 60])\n",
      "('Size:', 5)\n",
      "('Layer: ', 2, ' Conv: ', 0, 'Features: ', [60, 70])\n",
      "('Size:', 5)\n",
      "('Layer: ', 2, ' Conv: ', 1, 'Features: ', [70, 80])\n",
      "('Size:', 5)\n",
      "('Layer: ', 2, ' Conv: ', 2, 'Features: ', [80, 90])\n",
      "('Size:', 5)\n",
      "('Layer: ', 3, ' Conv: ', 0, 'Features: ', [90, 100])\n",
      "('Size:', 5)\n",
      "('Layer: ', 3, ' Conv: ', 1, 'Features: ', [100, 110])\n",
      "('Size:', 5)\n",
      "('Layer: ', 3, ' Conv: ', 2, 'Features: ', [110, 120])\n",
      "('Size:', 5)\n",
      "('Layer: ', 4, ' Conv: ', 0, 'Features: ', [120, 130])\n",
      "('Size:', 5)\n",
      "('Layer: ', 4, ' Conv: ', 1, 'Features: ', [130, 140])\n",
      "('Size:', 5)\n",
      "('Layer: ', 4, ' Conv: ', 2, 'Features: ', [140, 150])\n",
      "('Size:', 5)\n",
      "('Layer: ', 5, ' Conv: ', 0, 'Features: ', [150, 160])\n",
      "('Size:', 5)\n",
      "('Layer: ', 5, ' Conv: ', 1, 'Features: ', [160, 170])\n",
      "('Size:', 5)\n",
      "('Layer: ', 5, ' Conv: ', 2, 'Features: ', [170, 180])\n",
      "('Size:', 5)\n",
      "('Layer: ', 0, ' Conv: ', 0, 'Features: ', [1, 10])\n",
      "('Size:', 5)\n",
      "('Layer: ', 0, ' Conv: ', 1, 'Features: ', [10, 20])\n",
      "('Size:', 5)\n",
      "('Layer: ', 0, ' Conv: ', 2, 'Features: ', [20, 30])\n",
      "('Size:', 5)\n",
      "('Layer: ', 1, ' Conv: ', 0, 'Features: ', [30, 40])\n",
      "('Size:', 5)\n",
      "('Layer: ', 1, ' Conv: ', 1, 'Features: ', [40, 50])\n",
      "('Size:', 5)\n",
      "('Layer: ', 1, ' Conv: ', 2, 'Features: ', [50, 60])\n",
      "('Size:', 5)\n",
      "('Layer: ', 2, ' Conv: ', 0, 'Features: ', [60, 70])\n",
      "('Size:', 5)\n",
      "('Layer: ', 2, ' Conv: ', 1, 'Features: ', [70, 80])\n",
      "('Size:', 5)\n",
      "('Layer: ', 2, ' Conv: ', 2, 'Features: ', [80, 90])\n",
      "('Size:', 5)\n",
      "('Layer: ', 3, ' Conv: ', 0, 'Features: ', [90, 100])\n",
      "('Size:', 5)\n",
      "('Layer: ', 3, ' Conv: ', 1, 'Features: ', [100, 110])\n",
      "('Size:', 5)\n",
      "('Layer: ', 3, ' Conv: ', 2, 'Features: ', [110, 120])\n",
      "('Size:', 5)\n",
      "('Layer: ', 4, ' Conv: ', 0, 'Features: ', [120, 130])\n",
      "('Size:', 5)\n",
      "('Layer: ', 4, ' Conv: ', 1, 'Features: ', [130, 140])\n",
      "('Size:', 5)\n",
      "('Layer: ', 4, ' Conv: ', 2, 'Features: ', [140, 150])\n",
      "('Size:', 5)\n",
      "('Layer: ', 5, ' Conv: ', 0, 'Features: ', [150, 160])\n",
      "('Size:', 5)\n",
      "('Layer: ', 5, ' Conv: ', 1, 'Features: ', [160, 170])\n",
      "('Size:', 5)\n",
      "('Layer: ', 5, ' Conv: ', 2, 'Features: ', [170, 180])\n",
      "('Size:', 5)\n",
      "('tot_param = ', 16712972)\n",
      "training start\n",
      "Weighted cost selected\n"
     ]
    },
    {
     "name": "stderr",
     "output_type": "stream",
     "text": [
      "/home/GRAMES.POLYMTL.CA/mawab/ads/tf11-ads/local/lib/python2.7/site-packages/skimage/transform/_warps.py:84: UserWarning: The default mode, 'constant', will be changed to 'reflect' in skimage 0.15.\n",
      "  warn(\"The default mode, 'constant', will be changed to 'reflect' in \"\n"
     ]
    },
    {
     "name": "stdout",
     "output_type": "stream",
     "text": [
      "\n",
      "\n",
      "----Scores on validation:---\n",
      "----\n",
      " Last epoch: 1\n",
      " Accuracy: 0.839221;\n",
      " Loss: 0.708733;\n",
      "\n",
      "\n",
      "----Scores on validation:---\n",
      "----\n",
      " Last epoch: 2\n",
      " Accuracy: 0.872523;\n",
      " Loss: 0.188097;\n",
      "\n",
      "\n",
      "----Scores on validation:---\n",
      "----\n",
      " Last epoch: 3\n",
      " Accuracy: 0.897692;\n",
      " Loss: 0.107789;\n",
      "\n",
      "\n",
      "----Scores on validation:---\n",
      "----\n",
      " Last epoch: 4\n",
      " Accuracy: 0.913133;\n",
      " Loss: 0.115617;\n",
      "\n",
      "\n",
      "----Scores on validation:---\n",
      "----\n",
      " Last epoch: 5\n",
      " Accuracy: 0.913593;\n",
      " Loss: 0.0872154;\n",
      "\n",
      "\n",
      "----Scores on validation:---\n",
      "----\n",
      " Last epoch: 6\n",
      " Accuracy: 0.915366;\n",
      " Loss: 0.0821964;\n",
      "Model saved in file: ../models/2017-06-07_14-40-48/model.ckpt\n",
      "\n",
      "\n",
      "----Scores on validation:---\n",
      "----\n",
      " Last epoch: 7\n",
      " Accuracy: 0.920743;\n",
      " Loss: 0.0845052;\n",
      "\n",
      "\n",
      "----Scores on validation:---\n",
      "----\n",
      " Last epoch: 8\n",
      " Accuracy: 0.891267;\n",
      " Loss: 0.057972;\n",
      "\n",
      "\n",
      "----Scores on validation:---\n",
      "----\n",
      " Last epoch: 9\n",
      " Accuracy: 0.926484;\n",
      " Loss: 0.103119;\n",
      "\n",
      "\n",
      "----Scores on validation:---\n",
      "----\n",
      " Last epoch: 10\n",
      " Accuracy: 0.927196;\n",
      " Loss: 0.0998313;\n"
     ]
    }
   ],
   "source": [
    "dir_name = time.strftime(\"%Y-%m-%d\") + '_' + time.strftime(\"%H-%M-%S\") \n",
    "path_model = os.path.join('../models/', dir_name)\n",
    "\n",
    "if not os.path.exists(path_model):\n",
    "    os.makedirs(path_model)\n",
    "    \n",
    "# Specify here the path to the initial model if needed.\n",
    "\n",
    "path_model_init = None \n",
    "\n",
    "# **If you want to initialize with a pre-trained model, add it to the folder just created right now, before launching the training ! **\n",
    "\n",
    "with open(path_model+filename, 'w') as f:\n",
    "    json.dump(config, f, indent=2)\n",
    "\n",
    "with open(path_model+filename, 'r') as fd:\n",
    "    config_network = json.loads(fd.read())\n",
    "    \n",
    "# Training phase\n",
    "\n",
    "from AxonDeepSeg.train_network import train_model\n",
    "train_model(path_training, path_model, config_network,path_model_init=path_model_init,gpu=None)"
   ]
  },
  {
   "cell_type": "code",
   "execution_count": null,
   "metadata": {
    "collapsed": true
   },
   "outputs": [],
   "source": []
  }
 ],
 "metadata": {
  "kernelspec": {
   "display_name": "Python 2",
   "language": "python",
   "name": "python2"
  },
  "language_info": {
   "codemirror_mode": {
    "name": "ipython",
    "version": 2
   },
   "file_extension": ".py",
   "mimetype": "text/x-python",
   "name": "python",
   "nbconvert_exporter": "python",
   "pygments_lexer": "ipython2",
   "version": "2.7.12"
  }
 },
 "nbformat": 4,
 "nbformat_minor": 2
}
