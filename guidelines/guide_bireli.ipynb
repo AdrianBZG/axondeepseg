{
 "cells": [
  {
   "cell_type": "markdown",
   "metadata": {},
   "source": [
    "# IMPORTS"
   ]
  },
  {
   "cell_type": "code",
   "execution_count": 1,
   "metadata": {
    "collapsed": true
   },
   "outputs": [],
   "source": [
    "import json\n",
    "import os\n",
    "import time"
   ]
  },
  {
   "cell_type": "markdown",
   "metadata": {},
   "source": [
    "## Setting hyperparameters and creating the file _config_"
   ]
  },
  {
   "cell_type": "markdown",
   "metadata": {},
   "source": [
    "Quick explanations"
   ]
  },
  {
   "cell_type": "code",
   "execution_count": 2,
   "metadata": {
    "collapsed": true
   },
   "outputs": [],
   "source": [
    "# Description du fichier config :\n",
    "# network_learning_rate : float : No idea, but certainly linked to the back propagation ? Default : 0.0005.\n",
    "# network_n_classes : int : number of labels in the output. Default : 2.\n",
    "# dropout : float : between 0 and 1 : percentage of neurons we want to keep. Default : 0.75.\n",
    "# network_depth : int : number of layers WARNING : factualy, there will be 2*network_depth layers. Default : 6.\n",
    "# network_convolution_per_layer : list of int, length = network_depth : number of convolution per layer. Default : [1 for i in range(network_depth)].\n",
    "# network_size_of_convolutions_per_layer : list of lists of int [number of layers[number_of_convolutions_per_layer]] : Describe the size of each convolution filter.\n",
    "# Default : [[3 for k in range(network_convolution_per_layer[i])] for i in range(network_depth)].\n",
    "\n",
    "# network_features_per_convolution : list of lists of int [number of layers[number_of_convolutions_per_layer[2]] : Numer of different filters that are going to be used.\n",
    "# Default : [[[64,64] for k in range(network_convolution_per_layer[i])] for i in range(network_depth)]. WARNING ! network_features_per_convolution[k][1] = network_features_per_convolution[k+1][0].\n",
    "\n",
    "# network_trainingset : string : String describing the dataset used for the training."
   ]
  },
  {
   "cell_type": "markdown",
   "metadata": {},
   "source": [
    "Name of the .json file where the network configuration will be stored"
   ]
  },
  {
   "cell_type": "code",
   "execution_count": 3,
   "metadata": {
    "collapsed": true
   },
   "outputs": [],
   "source": [
    "filename = '/config_network.json'"
   ]
  },
  {
   "cell_type": "markdown",
   "metadata": {},
   "source": [
    "## Setting the main parameters of the network"
   ]
  },
  {
   "cell_type": "markdown",
   "metadata": {},
   "source": [
    "If multiple training sets are available, you can select which one you want to use here."
   ]
  },
  {
   "cell_type": "code",
   "execution_count": 4,
   "metadata": {
    "collapsed": true
   },
   "outputs": [],
   "source": [
    "trainingset_name = 'SEM_2classes_reduced'"
   ]
  },
  {
   "cell_type": "markdown",
   "metadata": {},
   "source": [
    "We then set the main parameters and the architecture of the network"
   ]
  },
  {
   "cell_type": "code",
   "execution_count": 5,
   "metadata": {
    "collapsed": true
   },
   "outputs": [],
   "source": [
    "network_learning_rate = 0.0005\n",
    "network_n_classes = 2\n",
    "dropout = 0.75\n",
    "network_depth = 4\n",
    "network_convolution_per_layer = [3 for i in range(network_depth)]\n",
    "network_size_of_convolutions_per_layer = [[5,5,5],[3,3,3],[3,3,3],[3,3,3]]#[[3 for k in range(network_convolution_per_layer[i])] for i in range(network_depth)]\n",
    "network_features_per_convolution = [[[1,10],[10,20],[20,30]],[[30,40],[40,50],[50,60]],[[60,70],[70,80],[80,90]],[[90,100],[100,110],[110,120]],\n",
    "                                    ]\n",
    "network_size_of_convolutions_bottom_layer = 3\n",
    "network_features_per_convolution_bottom_layer = 120\n",
    "network_batch_size = 1\n",
    "\n",
    "\n",
    "downsampling = 'convolution'\n",
    "\n",
    "thresholds = [0,0.5]\n",
    "\n",
    "weighted_cost = False\n",
    "\n",
    "config = {\n",
    "    'network_learning_rate': network_learning_rate,\n",
    "    'network_n_classes': network_n_classes,\n",
    "    'network_dropout': dropout,\n",
    "    'network_depth': network_depth,\n",
    "    'network_convolution_per_layer': network_convolution_per_layer,\n",
    "    'network_size_of_convolutions_per_layer': network_size_of_convolutions_per_layer,\n",
    "    'network_features_per_convolution': network_features_per_convolution,\n",
    "    'network_trainingset': trainingset_name,\n",
    "    'network_downsampling': downsampling,\n",
    "    'network_thresholds': thresholds,\n",
    "    'network_weighted_cost': weighted_cost,\n",
    "    'network_batch_size': network_batch_size\n",
    "}"
   ]
  },
  {
   "cell_type": "markdown",
   "metadata": {},
   "source": [
    "## Preparing the training phase"
   ]
  },
  {
   "cell_type": "code",
   "execution_count": 6,
   "metadata": {
    "collapsed": true
   },
   "outputs": [],
   "source": [
    "path_training = '../data/'+trainingset_name+'/training/'"
   ]
  },
  {
   "cell_type": "markdown",
   "metadata": {},
   "source": [
    "## Actually training the model"
   ]
  },
  {
   "cell_type": "markdown",
   "metadata": {},
   "source": [
    "By default, the name is the current date. You can uncomment the second line dir_name if you want to give a specific name to the folder, but beware: it will erase the contents of the folder if it already exists !\n",
    "\n",
    "The model data will be stored in a folder with this name, as well as the summaries that are going to be readable on tensorboard."
   ]
  },
  {
   "cell_type": "code",
   "execution_count": 7,
   "metadata": {
    "scrolled": false
   },
   "outputs": [
    {
     "name": "stdout",
     "output_type": "stream",
     "text": [
      "('Layer: ', 0, ' Conv: ', 0, 'Features: ', [1, 10])\n",
      "('Size:', 5)\n",
      "('Layer: ', 0, ' Conv: ', 1, 'Features: ', [10, 20])\n",
      "('Size:', 5)\n",
      "('Layer: ', 0, ' Conv: ', 2, 'Features: ', [20, 30])\n",
      "('Size:', 5)\n",
      "('Layer: ', 1, ' Conv: ', 0, 'Features: ', [30, 40])\n",
      "('Size:', 3)\n",
      "('Layer: ', 1, ' Conv: ', 1, 'Features: ', [40, 50])\n",
      "('Size:', 3)\n",
      "('Layer: ', 1, ' Conv: ', 2, 'Features: ', [50, 60])\n",
      "('Size:', 3)\n",
      "('Layer: ', 2, ' Conv: ', 0, 'Features: ', [60, 70])\n",
      "('Size:', 3)\n",
      "('Layer: ', 2, ' Conv: ', 1, 'Features: ', [70, 80])\n",
      "('Size:', 3)\n",
      "('Layer: ', 2, ' Conv: ', 2, 'Features: ', [80, 90])\n",
      "('Size:', 3)\n",
      "('Layer: ', 3, ' Conv: ', 0, 'Features: ', [90, 100])\n",
      "('Size:', 3)\n",
      "('Layer: ', 3, ' Conv: ', 1, 'Features: ', [100, 110])\n",
      "('Size:', 3)\n",
      "('Layer: ', 3, ' Conv: ', 2, 'Features: ', [110, 120])\n",
      "('Size:', 3)\n",
      "('Layer: ', 0, ' Conv: ', 0, 'Features: ', [1, 10])\n",
      "('Size:', 5)\n",
      "('Layer: ', 0, ' Conv: ', 1, 'Features: ', [10, 20])\n",
      "('Size:', 5)\n",
      "('Layer: ', 0, ' Conv: ', 2, 'Features: ', [20, 30])\n",
      "('Size:', 5)\n",
      "('Layer: ', 1, ' Conv: ', 0, 'Features: ', [30, 40])\n",
      "('Size:', 3)\n",
      "('Layer: ', 1, ' Conv: ', 1, 'Features: ', [40, 50])\n",
      "('Size:', 3)\n",
      "('Layer: ', 1, ' Conv: ', 2, 'Features: ', [50, 60])\n",
      "('Size:', 3)\n",
      "('Layer: ', 2, ' Conv: ', 0, 'Features: ', [60, 70])\n",
      "('Size:', 3)\n",
      "('Layer: ', 2, ' Conv: ', 1, 'Features: ', [70, 80])\n",
      "('Size:', 3)\n",
      "('Layer: ', 2, ' Conv: ', 2, 'Features: ', [80, 90])\n",
      "('Size:', 3)\n",
      "('Layer: ', 3, ' Conv: ', 0, 'Features: ', [90, 100])\n",
      "('Size:', 3)\n",
      "('Layer: ', 3, ' Conv: ', 1, 'Features: ', [100, 110])\n",
      "('Size:', 3)\n",
      "('Layer: ', 3, ' Conv: ', 2, 'Features: ', [110, 120])\n",
      "('Size:', 3)\n",
      "('tot_param = ', 2382112)\n",
      "INFO:tensorflow:Summary name cconv-d0-c0/convolution/weights:0_grad is illegal; using cconv-d0-c0/convolution/weights_0_grad instead.\n",
      "INFO:tensorflow:Summary name cconv-d0-c1/convolution/weights:0_grad is illegal; using cconv-d0-c1/convolution/weights_0_grad instead.\n",
      "INFO:tensorflow:Summary name cconv-d0-c2/convolution/weights:0_grad is illegal; using cconv-d0-c2/convolution/weights_0_grad instead.\n",
      "INFO:tensorflow:Summary name downconv-d0/convolution/weights:0_grad is illegal; using downconv-d0/convolution/weights_0_grad instead.\n",
      "INFO:tensorflow:Summary name cconv-d1-c0/convolution/weights:0_grad is illegal; using cconv-d1-c0/convolution/weights_0_grad instead.\n",
      "INFO:tensorflow:Summary name cconv-d1-c1/convolution/weights:0_grad is illegal; using cconv-d1-c1/convolution/weights_0_grad instead.\n",
      "INFO:tensorflow:Summary name cconv-d1-c2/convolution/weights:0_grad is illegal; using cconv-d1-c2/convolution/weights_0_grad instead.\n",
      "INFO:tensorflow:Summary name downconv-d1/convolution/weights:0_grad is illegal; using downconv-d1/convolution/weights_0_grad instead.\n",
      "INFO:tensorflow:Summary name cconv-d2-c0/convolution/weights:0_grad is illegal; using cconv-d2-c0/convolution/weights_0_grad instead.\n",
      "INFO:tensorflow:Summary name cconv-d2-c1/convolution/weights:0_grad is illegal; using cconv-d2-c1/convolution/weights_0_grad instead.\n",
      "INFO:tensorflow:Summary name cconv-d2-c2/convolution/weights:0_grad is illegal; using cconv-d2-c2/convolution/weights_0_grad instead.\n",
      "INFO:tensorflow:Summary name downconv-d2/convolution/weights:0_grad is illegal; using downconv-d2/convolution/weights_0_grad instead.\n",
      "INFO:tensorflow:Summary name cconv-d3-c0/convolution/weights:0_grad is illegal; using cconv-d3-c0/convolution/weights_0_grad instead.\n",
      "INFO:tensorflow:Summary name cconv-d3-c1/convolution/weights:0_grad is illegal; using cconv-d3-c1/convolution/weights_0_grad instead.\n",
      "INFO:tensorflow:Summary name cconv-d3-c2/convolution/weights:0_grad is illegal; using cconv-d3-c2/convolution/weights_0_grad instead.\n",
      "INFO:tensorflow:Summary name downconv-d3/convolution/weights:0_grad is illegal; using downconv-d3/convolution/weights_0_grad instead.\n",
      "INFO:tensorflow:Summary name deepconv1/convolution/weights:0_grad is illegal; using deepconv1/convolution/weights_0_grad instead.\n",
      "INFO:tensorflow:Summary name deepconv2/convolution/weights:0_grad is illegal; using deepconv2/convolution/weights_0_grad instead.\n",
      "INFO:tensorflow:Summary name upconv-d3/convolution/weights:0_grad is illegal; using upconv-d3/convolution/weights_0_grad instead.\n",
      "INFO:tensorflow:Summary name econv-d0-c0/convolution/weights:0_grad is illegal; using econv-d0-c0/convolution/weights_0_grad instead.\n",
      "INFO:tensorflow:Summary name econv-d0-c1/convolution/weights:0_grad is illegal; using econv-d0-c1/convolution/weights_0_grad instead.\n",
      "INFO:tensorflow:Summary name econv-d0-c2/convolution/weights:0_grad is illegal; using econv-d0-c2/convolution/weights_0_grad instead.\n",
      "INFO:tensorflow:Summary name upconv-d2/convolution/weights:0_grad is illegal; using upconv-d2/convolution/weights_0_grad instead.\n",
      "INFO:tensorflow:Summary name econv-d1-c0/convolution/weights:0_grad is illegal; using econv-d1-c0/convolution/weights_0_grad instead.\n",
      "INFO:tensorflow:Summary name econv-d1-c1/convolution/weights:0_grad is illegal; using econv-d1-c1/convolution/weights_0_grad instead.\n",
      "INFO:tensorflow:Summary name econv-d1-c2/convolution/weights:0_grad is illegal; using econv-d1-c2/convolution/weights_0_grad instead.\n",
      "INFO:tensorflow:Summary name upconv-d1/convolution/weights:0_grad is illegal; using upconv-d1/convolution/weights_0_grad instead.\n",
      "INFO:tensorflow:Summary name econv-d2-c0/convolution/weights:0_grad is illegal; using econv-d2-c0/convolution/weights_0_grad instead.\n",
      "INFO:tensorflow:Summary name econv-d2-c1/convolution/weights:0_grad is illegal; using econv-d2-c1/convolution/weights_0_grad instead.\n",
      "INFO:tensorflow:Summary name econv-d2-c2/convolution/weights:0_grad is illegal; using econv-d2-c2/convolution/weights_0_grad instead.\n",
      "INFO:tensorflow:Summary name upconv-d0/convolution/weights:0_grad is illegal; using upconv-d0/convolution/weights_0_grad instead.\n",
      "INFO:tensorflow:Summary name econv-d3-c0/convolution/weights:0_grad is illegal; using econv-d3-c0/convolution/weights_0_grad instead.\n",
      "INFO:tensorflow:Summary name econv-d3-c1/convolution/weights:0_grad is illegal; using econv-d3-c1/convolution/weights_0_grad instead.\n",
      "INFO:tensorflow:Summary name econv-d3-c2/convolution/weights:0_grad is illegal; using econv-d3-c2/convolution/weights_0_grad instead.\n",
      "INFO:tensorflow:Summary name finalconv/weights:0_grad is illegal; using finalconv/weights_0_grad instead.\n",
      "training start\n",
      "Default cost selected\n"
     ]
    },
    {
     "name": "stderr",
     "output_type": "stream",
     "text": [
      "/home/GRAMES.POLYMTL.CA/mawab/ads/tf11-ads/local/lib/python2.7/site-packages/skimage/transform/_warps.py:84: UserWarning: The default mode, 'constant', will be changed to 'reflect' in skimage 0.15.\n",
      "  warn(\"The default mode, 'constant', will be changed to 'reflect' in \"\n"
     ]
    },
    {
     "name": "stdout",
     "output_type": "stream",
     "text": [
      "\n",
      "\n",
      "----Scores on validation:---\n",
      "----\n",
      " Last epoch: 1\n",
      " Accuracy: 0.748114;\n",
      " Loss: 0.669989;\n",
      "\n",
      "\n",
      "----Scores on validation:---\n",
      "----\n",
      " Last epoch: 2\n",
      " Accuracy: 0.795122;\n",
      " Loss: 0.600374;\n",
      "\n",
      "\n",
      "----Scores on validation:---\n",
      "----\n",
      " Last epoch: 3\n",
      " Accuracy: 0.766288;\n",
      " Loss: 0.583583;\n",
      "\n",
      "\n",
      "----Scores on validation:---\n",
      "----\n",
      " Last epoch: 4\n",
      " Accuracy: 0.723791;\n",
      " Loss: 0.556645;\n",
      "\n",
      "\n",
      "----Scores on validation:---\n",
      "----\n",
      " Last epoch: 5\n",
      " Accuracy: 0.524694;\n",
      " Loss: 0.697315;\n",
      "\n",
      "\n",
      "----Scores on validation:---\n",
      "----\n",
      " Last epoch: 6\n",
      " Accuracy: 0.753977;\n",
      " Loss: 0.564794;\n",
      "Model saved in file: ../models/2017-06-21_15-22-37/model.ckpt\n",
      "\n",
      "\n",
      "----Scores on validation:---\n",
      "----\n",
      " Last epoch: 7\n",
      " Accuracy: 0.526081;\n",
      " Loss: 0.751414;\n"
     ]
    },
    {
     "ename": "KeyboardInterrupt",
     "evalue": "",
     "output_type": "error",
     "traceback": [
      "\u001b[0;31m---------------------------------------------------------------------------\u001b[0m",
      "\u001b[0;31mKeyboardInterrupt\u001b[0m                         Traceback (most recent call last)",
      "\u001b[0;32m<ipython-input-7-15a41b620cc3>\u001b[0m in \u001b[0;36m<module>\u001b[0;34m()\u001b[0m\n\u001b[1;32m     24\u001b[0m \u001b[0;31m# Note : possible values for gpu: None, '/gpu:0'. If used withing CUDA_VISIBLE_DEVICES=?, then it will use gpu number ? by default\u001b[0m\u001b[0;34m\u001b[0m\u001b[0;34m\u001b[0m\u001b[0m\n\u001b[1;32m     25\u001b[0m \u001b[0;32mfrom\u001b[0m \u001b[0mAxonDeepSeg\u001b[0m\u001b[0;34m.\u001b[0m\u001b[0mtrain_network\u001b[0m \u001b[0;32mimport\u001b[0m \u001b[0mtrain_model\u001b[0m\u001b[0;34m\u001b[0m\u001b[0m\n\u001b[0;32m---> 26\u001b[0;31m \u001b[0mtrain_model\u001b[0m\u001b[0;34m(\u001b[0m\u001b[0mpath_training\u001b[0m\u001b[0;34m,\u001b[0m \u001b[0mpath_model\u001b[0m\u001b[0;34m,\u001b[0m \u001b[0mconfig_network\u001b[0m\u001b[0;34m,\u001b[0m\u001b[0mpath_model_init\u001b[0m\u001b[0;34m=\u001b[0m\u001b[0mpath_model_init\u001b[0m\u001b[0;34m,\u001b[0m\u001b[0mgpu\u001b[0m\u001b[0;34m=\u001b[0m\u001b[0;34m'/gpu:0'\u001b[0m\u001b[0;34m,\u001b[0m \u001b[0maugmented_data\u001b[0m\u001b[0;34m=\u001b[0m\u001b[0mTrue\u001b[0m\u001b[0;34m)\u001b[0m\u001b[0;34m\u001b[0m\u001b[0m\n\u001b[0m",
      "\u001b[0;32m/home/GRAMES.POLYMTL.CA/mawab/ads/axondeepseg/AxonDeepSeg/train_network.py\u001b[0m in \u001b[0;36mtrain_model\u001b[0;34m(path_trainingset, path_model, config, path_model_init, save_trainable, augmented_data, gpu)\u001b[0m\n\u001b[1;32m    436\u001b[0m \u001b[0;34m\u001b[0m\u001b[0m\n\u001b[1;32m    437\u001b[0m                    \u001b[0;31m# Writing the summary for this step of the training, to use in Tensorflow\u001b[0m\u001b[0;34m\u001b[0m\u001b[0;34m\u001b[0m\u001b[0m\n\u001b[0;32m--> 438\u001b[0;31m                     \u001b[0msummary\u001b[0m\u001b[0;34m,\u001b[0m \u001b[0mim_summary_val\u001b[0m \u001b[0;34m=\u001b[0m \u001b[0msession\u001b[0m\u001b[0;34m.\u001b[0m\u001b[0mrun\u001b[0m\u001b[0;34m(\u001b[0m\u001b[0;34m[\u001b[0m\u001b[0mmerged_summaries\u001b[0m\u001b[0;34m,\u001b[0m \u001b[0mimages_merged_summaries\u001b[0m\u001b[0;34m]\u001b[0m\u001b[0;34m,\u001b[0m \u001b[0mfeed_dict\u001b[0m\u001b[0;34m=\u001b[0m\u001b[0;34m{\u001b[0m\u001b[0mx\u001b[0m\u001b[0;34m:\u001b[0m \u001b[0mbatch_x\u001b[0m\u001b[0;34m,\u001b[0m \u001b[0my\u001b[0m\u001b[0;34m:\u001b[0m \u001b[0mbatch_y\u001b[0m\u001b[0;34m,\u001b[0m \u001b[0mkeep_prob\u001b[0m\u001b[0;34m:\u001b[0m \u001b[0mdropout\u001b[0m\u001b[0;34m,\u001b[0m \u001b[0mL_training_loss\u001b[0m\u001b[0;34m:\u001b[0m \u001b[0mloss\u001b[0m\u001b[0;34m,\u001b[0m \u001b[0mL_training_acc\u001b[0m\u001b[0;34m:\u001b[0m \u001b[0macc\u001b[0m\u001b[0;34m,\u001b[0m \u001b[0mphase\u001b[0m\u001b[0;34m:\u001b[0m\u001b[0mFalse\u001b[0m\u001b[0;34m}\u001b[0m\u001b[0;34m)\u001b[0m\u001b[0;34m\u001b[0m\u001b[0m\n\u001b[0m\u001b[1;32m    439\u001b[0m \u001b[0;34m\u001b[0m\u001b[0m\n\u001b[1;32m    440\u001b[0m                 \u001b[0mvalidation_writer\u001b[0m\u001b[0;34m.\u001b[0m\u001b[0madd_summary\u001b[0m\u001b[0;34m(\u001b[0m\u001b[0msummary\u001b[0m\u001b[0;34m,\u001b[0m \u001b[0mepoch\u001b[0m\u001b[0;34m)\u001b[0m\u001b[0;34m\u001b[0m\u001b[0m\n",
      "\u001b[0;32m/home/GRAMES.POLYMTL.CA/mawab/ads/tf11-ads/local/lib/python2.7/site-packages/tensorflow/python/client/session.pyc\u001b[0m in \u001b[0;36mrun\u001b[0;34m(self, fetches, feed_dict, options, run_metadata)\u001b[0m\n\u001b[1;32m    776\u001b[0m     \u001b[0;32mtry\u001b[0m\u001b[0;34m:\u001b[0m\u001b[0;34m\u001b[0m\u001b[0m\n\u001b[1;32m    777\u001b[0m       result = self._run(None, fetches, feed_dict, options_ptr,\n\u001b[0;32m--> 778\u001b[0;31m                          run_metadata_ptr)\n\u001b[0m\u001b[1;32m    779\u001b[0m       \u001b[0;32mif\u001b[0m \u001b[0mrun_metadata\u001b[0m\u001b[0;34m:\u001b[0m\u001b[0;34m\u001b[0m\u001b[0m\n\u001b[1;32m    780\u001b[0m         \u001b[0mproto_data\u001b[0m \u001b[0;34m=\u001b[0m \u001b[0mtf_session\u001b[0m\u001b[0;34m.\u001b[0m\u001b[0mTF_GetBuffer\u001b[0m\u001b[0;34m(\u001b[0m\u001b[0mrun_metadata_ptr\u001b[0m\u001b[0;34m)\u001b[0m\u001b[0;34m\u001b[0m\u001b[0m\n",
      "\u001b[0;32m/home/GRAMES.POLYMTL.CA/mawab/ads/tf11-ads/local/lib/python2.7/site-packages/tensorflow/python/client/session.pyc\u001b[0m in \u001b[0;36m_run\u001b[0;34m(self, handle, fetches, feed_dict, options, run_metadata)\u001b[0m\n\u001b[1;32m    980\u001b[0m     \u001b[0;32mif\u001b[0m \u001b[0mfinal_fetches\u001b[0m \u001b[0;32mor\u001b[0m \u001b[0mfinal_targets\u001b[0m\u001b[0;34m:\u001b[0m\u001b[0;34m\u001b[0m\u001b[0m\n\u001b[1;32m    981\u001b[0m       results = self._do_run(handle, final_targets, final_fetches,\n\u001b[0;32m--> 982\u001b[0;31m                              feed_dict_string, options, run_metadata)\n\u001b[0m\u001b[1;32m    983\u001b[0m     \u001b[0;32melse\u001b[0m\u001b[0;34m:\u001b[0m\u001b[0;34m\u001b[0m\u001b[0m\n\u001b[1;32m    984\u001b[0m       \u001b[0mresults\u001b[0m \u001b[0;34m=\u001b[0m \u001b[0;34m[\u001b[0m\u001b[0;34m]\u001b[0m\u001b[0;34m\u001b[0m\u001b[0m\n",
      "\u001b[0;32m/home/GRAMES.POLYMTL.CA/mawab/ads/tf11-ads/local/lib/python2.7/site-packages/tensorflow/python/client/session.pyc\u001b[0m in \u001b[0;36m_do_run\u001b[0;34m(self, handle, target_list, fetch_list, feed_dict, options, run_metadata)\u001b[0m\n\u001b[1;32m   1030\u001b[0m     \u001b[0;32mif\u001b[0m \u001b[0mhandle\u001b[0m \u001b[0;32mis\u001b[0m \u001b[0mNone\u001b[0m\u001b[0;34m:\u001b[0m\u001b[0;34m\u001b[0m\u001b[0m\n\u001b[1;32m   1031\u001b[0m       return self._do_call(_run_fn, self._session, feed_dict, fetch_list,\n\u001b[0;32m-> 1032\u001b[0;31m                            target_list, options, run_metadata)\n\u001b[0m\u001b[1;32m   1033\u001b[0m     \u001b[0;32melse\u001b[0m\u001b[0;34m:\u001b[0m\u001b[0;34m\u001b[0m\u001b[0m\n\u001b[1;32m   1034\u001b[0m       return self._do_call(_prun_fn, self._session, handle, feed_dict,\n",
      "\u001b[0;32m/home/GRAMES.POLYMTL.CA/mawab/ads/tf11-ads/local/lib/python2.7/site-packages/tensorflow/python/client/session.pyc\u001b[0m in \u001b[0;36m_do_call\u001b[0;34m(self, fn, *args)\u001b[0m\n\u001b[1;32m   1037\u001b[0m   \u001b[0;32mdef\u001b[0m \u001b[0m_do_call\u001b[0m\u001b[0;34m(\u001b[0m\u001b[0mself\u001b[0m\u001b[0;34m,\u001b[0m \u001b[0mfn\u001b[0m\u001b[0;34m,\u001b[0m \u001b[0;34m*\u001b[0m\u001b[0margs\u001b[0m\u001b[0;34m)\u001b[0m\u001b[0;34m:\u001b[0m\u001b[0;34m\u001b[0m\u001b[0m\n\u001b[1;32m   1038\u001b[0m     \u001b[0;32mtry\u001b[0m\u001b[0;34m:\u001b[0m\u001b[0;34m\u001b[0m\u001b[0m\n\u001b[0;32m-> 1039\u001b[0;31m       \u001b[0;32mreturn\u001b[0m \u001b[0mfn\u001b[0m\u001b[0;34m(\u001b[0m\u001b[0;34m*\u001b[0m\u001b[0margs\u001b[0m\u001b[0;34m)\u001b[0m\u001b[0;34m\u001b[0m\u001b[0m\n\u001b[0m\u001b[1;32m   1040\u001b[0m     \u001b[0;32mexcept\u001b[0m \u001b[0merrors\u001b[0m\u001b[0;34m.\u001b[0m\u001b[0mOpError\u001b[0m \u001b[0;32mas\u001b[0m \u001b[0me\u001b[0m\u001b[0;34m:\u001b[0m\u001b[0;34m\u001b[0m\u001b[0m\n\u001b[1;32m   1041\u001b[0m       \u001b[0mmessage\u001b[0m \u001b[0;34m=\u001b[0m \u001b[0mcompat\u001b[0m\u001b[0;34m.\u001b[0m\u001b[0mas_text\u001b[0m\u001b[0;34m(\u001b[0m\u001b[0me\u001b[0m\u001b[0;34m.\u001b[0m\u001b[0mmessage\u001b[0m\u001b[0;34m)\u001b[0m\u001b[0;34m\u001b[0m\u001b[0m\n",
      "\u001b[0;32m/home/GRAMES.POLYMTL.CA/mawab/ads/tf11-ads/local/lib/python2.7/site-packages/tensorflow/python/client/session.pyc\u001b[0m in \u001b[0;36m_run_fn\u001b[0;34m(session, feed_dict, fetch_list, target_list, options, run_metadata)\u001b[0m\n\u001b[1;32m   1019\u001b[0m         return tf_session.TF_Run(session, options,\n\u001b[1;32m   1020\u001b[0m                                  \u001b[0mfeed_dict\u001b[0m\u001b[0;34m,\u001b[0m \u001b[0mfetch_list\u001b[0m\u001b[0;34m,\u001b[0m \u001b[0mtarget_list\u001b[0m\u001b[0;34m,\u001b[0m\u001b[0;34m\u001b[0m\u001b[0m\n\u001b[0;32m-> 1021\u001b[0;31m                                  status, run_metadata)\n\u001b[0m\u001b[1;32m   1022\u001b[0m \u001b[0;34m\u001b[0m\u001b[0m\n\u001b[1;32m   1023\u001b[0m     \u001b[0;32mdef\u001b[0m \u001b[0m_prun_fn\u001b[0m\u001b[0;34m(\u001b[0m\u001b[0msession\u001b[0m\u001b[0;34m,\u001b[0m \u001b[0mhandle\u001b[0m\u001b[0;34m,\u001b[0m \u001b[0mfeed_dict\u001b[0m\u001b[0;34m,\u001b[0m \u001b[0mfetch_list\u001b[0m\u001b[0;34m)\u001b[0m\u001b[0;34m:\u001b[0m\u001b[0;34m\u001b[0m\u001b[0m\n",
      "\u001b[0;31mKeyboardInterrupt\u001b[0m: "
     ]
    }
   ],
   "source": [
    "dir_name = time.strftime(\"%Y-%m-%d\") + '_' + time.strftime(\"%H-%M-%S\") \n",
    "#dir_name = 'test_bn'\n",
    "path_model = os.path.join('../models/', dir_name)\n",
    "\n",
    "if not os.path.exists(path_model):\n",
    "    os.makedirs(path_model)\n",
    "    \n",
    "path_model_init = None \n",
    "\n",
    "\n",
    "# Specify here the path to the initial model if needed.\n",
    "\n",
    "if os.path.exists(path_model+filename): # if there is already a configfile\n",
    "    with open(path_model+filename, 'r') as fd:\n",
    "        config_network = json.loads(fd.read())\n",
    "else: # There is no config file for the moment\n",
    "    with open(path_model+filename, 'w') as f:\n",
    "        json.dump(config, f, indent=2)\n",
    "    with open(path_model+filename, 'r') as fd:\n",
    "        config_network = json.loads(fd.read())\n",
    "    \n",
    "################################################### Training phase ###################################################\n",
    "\n",
    "# Note : possible values for gpu: None, '/gpu:0'. If used withing CUDA_VISIBLE_DEVICES=?, then it will use gpu number ? by default\n",
    "from AxonDeepSeg.train_network import train_model\n",
    "train_model(path_training, path_model, config_network,path_model_init=path_model_init,gpu='/gpu:0', augmented_data=True)"
   ]
  },
  {
   "cell_type": "code",
   "execution_count": null,
   "metadata": {
    "collapsed": true
   },
   "outputs": [],
   "source": []
  }
 ],
 "metadata": {
  "kernelspec": {
   "display_name": "Python 2",
   "language": "python",
   "name": "python2"
  },
  "language_info": {
   "codemirror_mode": {
    "name": "ipython",
    "version": 2
   },
   "file_extension": ".py",
   "mimetype": "text/x-python",
   "name": "python",
   "nbconvert_exporter": "python",
   "pygments_lexer": "ipython2",
   "version": "2.7.12"
  }
 },
 "nbformat": 4,
 "nbformat_minor": 2
}
