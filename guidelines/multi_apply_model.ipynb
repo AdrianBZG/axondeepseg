{
 "cells": [
  {
   "cell_type": "markdown",
   "metadata": {},
   "source": [
    "# Applying a model to a lot of images"
   ]
  },
  {
   "cell_type": "markdown",
   "metadata": {},
   "source": [
    "##### IMPORTS"
   ]
  },
  {
   "cell_type": "code",
   "execution_count": null,
   "metadata": {
    "collapsed": true
   },
   "outputs": [],
   "source": [
    "import os\n",
    "from AxonDeepSeg import mapping_results\n",
    "from tqdm import tqdm_notebook as tqdm"
   ]
  },
  {
   "cell_type": "markdown",
   "metadata": {},
   "source": [
    "##### DEFINING THE MODEL AND IMAGES' PATHS"
   ]
  },
  {
   "cell_type": "code",
   "execution_count": null,
   "metadata": {
    "collapsed": true
   },
   "outputs": [],
   "source": [
    "path_my_data = '../data/humanseg/'\n",
    "path_model = '../models/baseline_3c_balanced_nobn-1957/'"
   ]
  },
  {
   "cell_type": "markdown",
   "metadata": {},
   "source": [
    "    #!/bin/bash\n",
    "    find . -type f ! -name \"*script*\" | while read file;\n",
    "    do\n",
    "        f=$(basename \"$file\")\n",
    "        f1=${f%.*}\n",
    "        mkdir \"$f1\"\n",
    "        mv \"$f\" \"$f1\"\n",
    "    done "
   ]
  },
  {
   "cell_type": "markdown",
   "metadata": {},
   "source": [
    "for d in */; do cp pixel_size_in_micrometer.txt \"$d\"; done"
   ]
  },
  {
   "cell_type": "markdown",
   "metadata": {},
   "source": [
    "find ./C3C/ -iname '*.png' -execdir mv -i '{}' image.png \\;"
   ]
  },
  {
   "cell_type": "markdown",
   "metadata": {},
   "source": [
    "##### LAUNCHING THE SEGMENTATION"
   ]
  },
  {
   "cell_type": "code",
   "execution_count": null,
   "metadata": {},
   "outputs": [],
   "source": [
    "for root in tqdm(os.listdir(path_my_data)[:], desc='subjects'):\n",
    "    if os.path.isdir(path_my_data+root):\n",
    "        mapping_results.map_model_to_images(path_model, path_my_data+root, batch_size=1)"
   ]
  },
  {
   "cell_type": "code",
   "execution_count": null,
   "metadata": {
    "collapsed": true
   },
   "outputs": [],
   "source": []
  }
 ],
 "metadata": {
  "kernelspec": {
   "display_name": "Python 2",
   "language": "python",
   "name": "python2"
  },
  "language_info": {
   "codemirror_mode": {
    "name": "ipython",
    "version": 2
   },
   "file_extension": ".py",
   "mimetype": "text/x-python",
   "name": "python",
   "nbconvert_exporter": "python",
   "pygments_lexer": "ipython2",
   "version": "2.7.12"
  }
 },
 "nbformat": 4,
 "nbformat_minor": 2
}
