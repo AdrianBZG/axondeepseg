{
 "cells": [
  {
   "cell_type": "markdown",
   "metadata": {},
   "source": [
    "# Applying a model to a lot of images"
   ]
  },
  {
   "cell_type": "markdown",
   "metadata": {},
   "source": [
    "##### IMPORTS"
   ]
  },
  {
   "cell_type": "code",
   "execution_count": 1,
   "metadata": {
    "collapsed": true
   },
   "outputs": [],
   "source": [
    "import os\n",
    "from AxonDeepSeg import mapping_results\n",
    "from tqdm import tqdm_notebook as tqdm"
   ]
  },
  {
   "cell_type": "markdown",
   "metadata": {},
   "source": [
    "##### DEFINING THE MODEL AND IMAGES' PATHS"
   ]
  },
  {
   "cell_type": "code",
   "execution_count": null,
   "metadata": {
    "collapsed": true
   },
   "outputs": [],
   "source": [
    "path_my_data = '../data/humanseg/'\n",
    "path_model = '../models/baseline_3c_balanced_nobn-1957/'"
   ]
  },
  {
   "cell_type": "markdown",
   "metadata": {},
   "source": [
    "    #!/bin/bash\n",
    "    find . -type f ! -name \"*script*\" | while read file;\n",
    "    do\n",
    "        f=$(basename \"$file\")\n",
    "        f1=${f%.*}\n",
    "        mkdir \"$f1\"\n",
    "        mv \"$f\" \"$f1\"\n",
    "    done "
   ]
  },
  {
   "cell_type": "markdown",
   "metadata": {},
   "source": [
    "for d in */; do cp pixel_size_in_micrometer.txt \"$d\"; done"
   ]
  },
  {
   "cell_type": "markdown",
   "metadata": {},
   "source": [
    "find ./C3C/ -iname '*.png' -execdir mv -i '{}' image.png \\;"
   ]
  },
  {
   "cell_type": "markdown",
   "metadata": {},
   "source": [
    "##### LAUNCHING THE SEGMENTATION"
   ]
  },
  {
   "cell_type": "code",
   "execution_count": null,
   "metadata": {},
   "outputs": [
    {
     "name": "stderr",
     "output_type": "stream",
     "text": [
      "Widget Javascript not detected.  It may not be installed or enabled properly.\n"
     ]
    },
    {
     "data": {
      "application/vnd.jupyter.widget-view+json": {
       "model_id": "848a9b6b88e54ed280615e04c1a44d98"
      }
     },
     "metadata": {},
     "output_type": "display_data"
    },
    {
     "name": "stderr",
     "output_type": "stream",
     "text": [
      "anL2AG2:   0%|          | 0/158 [00:00<?, ?it/s]/home/GRAMES.POLYMTL.CA/mawab/ads/tf11-ads/local/lib/python2.7/site-packages/skimage/transform/_warps.py:84: UserWarning: The default mode, 'constant', will be changed to 'reflect' in skimage 0.15.\n",
      "  warn(\"The default mode, 'constant', will be changed to 'reflect' in \"\n",
      "/home/GRAMES.POLYMTL.CA/mawab/ads/axondeepseg/AxonDeepSeg/apply_model.py:84: RuntimeWarning: invalid value encountered in divide\n",
      "  patch = (patch - np.mean(patch)) / np.std(patch)\n",
      "anL2AG2: 100%|██████████| 158/158 [19:41<00:00,  7.34s/it]\n",
      "anC4AG2:  49%|████▉     | 135/274 [18:11<17:21,  7.50s/it]"
     ]
    }
   ],
   "source": [
    "for root in tqdm(os.listdir(path_my_data)[:], desc='subjects'):\n",
    "    new_path = os.path.join(path_my_data,root)\n",
    "    if os.path.isdir(new_path):\n",
    "        # Writing data in the report file\n",
    "        file_ = open(new_path + \"/report.txt\", 'a')\n",
    "        output_text = 'Doing subject ' + str(root) + ' ..\\n'\n",
    "        file_.write(output_text)\n",
    "        file_.close()\n",
    "        # Actually segmenting the subject\n",
    "        mapping_results.map_model_to_images(path_model, new_path, batch_size=4)"
   ]
  },
  {
   "cell_type": "code",
   "execution_count": null,
   "metadata": {
    "collapsed": true
   },
   "outputs": [],
   "source": []
  }
 ],
 "metadata": {
  "kernelspec": {
   "display_name": "Python 2",
   "language": "python",
   "name": "python2"
  },
  "language_info": {
   "codemirror_mode": {
    "name": "ipython",
    "version": 2
   },
   "file_extension": ".py",
   "mimetype": "text/x-python",
   "name": "python",
   "nbconvert_exporter": "python",
   "pygments_lexer": "ipython2",
   "version": "2.7.12"
  }
 },
 "nbformat": 4,
 "nbformat_minor": 2
}
