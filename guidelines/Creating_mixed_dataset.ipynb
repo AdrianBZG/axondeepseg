{
 "cells": [
  {
   "cell_type": "code",
   "execution_count": 1,
   "metadata": {
    "collapsed": true
   },
   "outputs": [],
   "source": [
    "import os\n",
    "import numpy as np\n",
    "from scipy.misc import imread, imsave\n",
    "import random"
   ]
  },
  {
   "cell_type": "markdown",
   "metadata": {},
   "source": [
    "* Lire toutes les images et récupérer leur id dans path_train_tem\n",
    "* Set numpy random seed to 2017\n",
    "* Prendre au hasard 88 images de train dans path_train_tem\n",
    "* copier image+mask correpsondant à l'id choisi dans path_train_sem en cp,canténant 1000 devant l'id\n",
    "\n",
    "* Faire la même avec le validation test"
   ]
  },
  {
   "cell_type": "code",
   "execution_count": 6,
   "metadata": {
    "collapsed": true
   },
   "outputs": [],
   "source": [
    "path_from = '../data/TEM_3c_256/training/Train/'\n",
    "path_mixed = '../data/mixed_3c_256/training/Train/'"
   ]
  },
  {
   "cell_type": "code",
   "execution_count": 7,
   "metadata": {
    "collapsed": true
   },
   "outputs": [],
   "source": [
    "rng = 2017\n",
    "random.seed(rng) #Setting the random seed in order to get reproducible results.\n",
    "n_im = 238"
   ]
  },
  {
   "cell_type": "code",
   "execution_count": 8,
   "metadata": {
    "collapsed": true
   },
   "outputs": [],
   "source": [
    "L_im = range(448)\n",
    "\n",
    "L_id = np.random.choice(L_im, size = n_im, replace=False)\n",
    "\n",
    "for id_ in L_id:\n",
    "    img = imread(os.path.join(path_from, 'image_'+ str(id_)+ '.png'))\n",
    "    mask = imread(os.path.join(path_from, 'mask_'+ str(id_)+ '.png'))\n",
    "    \n",
    "    imsave(os.path.join(path_mixed, 'image_100' + str(id_)+ '.png'), img)\n",
    "    imsave(os.path.join(path_mixed, 'mask_100' + str(id_)+ '.png'), mask)\n",
    "    "
   ]
  },
  {
   "cell_type": "code",
   "execution_count": null,
   "metadata": {
    "collapsed": true
   },
   "outputs": [],
   "source": []
  }
 ],
 "metadata": {
  "kernelspec": {
   "display_name": "Python 2",
   "language": "python",
   "name": "python2"
  },
  "language_info": {
   "codemirror_mode": {
    "name": "ipython",
    "version": 2
   },
   "file_extension": ".py",
   "mimetype": "text/x-python",
   "name": "python",
   "nbconvert_exporter": "python",
   "pygments_lexer": "ipython2",
   "version": "2.7.12"
  }
 },
 "nbformat": 4,
 "nbformat_minor": 2
}
