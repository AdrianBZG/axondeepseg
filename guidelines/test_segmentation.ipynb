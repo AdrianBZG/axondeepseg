{
 "cells": [
  {
   "cell_type": "markdown",
   "metadata": {},
   "source": [
    "# IMPORTS"
   ]
  },
  {
   "cell_type": "code",
   "execution_count": null,
   "metadata": {
    "collapsed": true
   },
   "outputs": [],
   "source": [
    "%matplotlib inline\n",
    "import mpld3\n",
    "mpld3.enable_notebook()"
   ]
  },
  {
   "cell_type": "code",
   "execution_count": null,
   "metadata": {
    "collapsed": true
   },
   "outputs": [],
   "source": [
    "from AxonDeepSeg.visualization.visualize import visualize_training\n",
    "import json\n",
    "import os\n",
    "import matplotlib.pyplot as plt\n",
    "import numpy as np\n",
    "from scipy.misc import imread\n",
    "#from prettytable import PrettyTable\n",
    "#from ipywidgets.widgets import *"
   ]
  },
  {
   "cell_type": "markdown",
   "metadata": {},
   "source": [
    "# 1/ Build the dataset for training."
   ]
  },
  {
   "cell_type": "code",
   "execution_count": null,
   "metadata": {
    "collapsed": true
   },
   "outputs": [],
   "source": [
    "# input data to build the training set\n",
    "dataset_name = 'SEM_3classes_reduced'"
   ]
  },
  {
   "cell_type": "code",
   "execution_count": null,
   "metadata": {
    "collapsed": true
   },
   "outputs": [],
   "source": [
    "path_data = '../data/' + dataset_name + '/raw/'\n",
    "path_testing = '../data/humanseg/im1/1/'\n",
    "\n",
    "# output path of training data path\n",
    "path_training = '../data/' + dataset_name + '/training/'"
   ]
  },
  {
   "cell_type": "markdown",
   "metadata": {},
   "source": [
    "# 2/ Load the config file and train the network"
   ]
  },
  {
   "cell_type": "markdown",
   "metadata": {},
   "source": [
    "Choose here the name of the model you want to load"
   ]
  },
  {
   "cell_type": "code",
   "execution_count": null,
   "metadata": {
    "collapsed": true
   },
   "outputs": [],
   "source": [
    "model_name = 'baseline_fake'"
   ]
  },
  {
   "cell_type": "code",
   "execution_count": null,
   "metadata": {
    "collapsed": true
   },
   "outputs": [],
   "source": [
    "# optional input path of a model to initialize the training\n",
    "#path_model_init = 'network_testing/test_2905'\n",
    "path_model_init = None\n",
    "\n",
    "# output path for trained U-Net\n",
    "path_model = '../models/' + model_name\n",
    "\n",
    "path_configfile = path_model + '/config_network.json'\n",
    "\n",
    "if not os.path.exists(path_model):\n",
    "    os.makedirs(path_model)\n",
    "\n",
    "with open(path_configfile, 'r') as fd:\n",
    "    config_network = json.loads(fd.read())\n",
    "    \n",
    "# OPTIONAL : specify the gpu one wants to use.\n",
    "gpu_device = 'gpu:0' # or gpu_device = 'gpu:1' these are the only two possible targets for now."
   ]
  },
  {
   "cell_type": "code",
   "execution_count": null,
   "metadata": {
    "collapsed": true
   },
   "outputs": [],
   "source": [
    "n_classes = config_network['network_n_classes']"
   ]
  },
  {
   "cell_type": "markdown",
   "metadata": {},
   "source": [
    "# TRAINING OF THE NETWORK"
   ]
  },
  {
   "cell_type": "markdown",
   "metadata": {},
   "source": [
    "Uniquement nécessaire si le réseau n'a pas encore été entrainé. Sinon on va juste utiliser le modèle existant dans models"
   ]
  },
  {
   "cell_type": "markdown",
   "metadata": {},
   "source": [
    "from AxonDeepSeg.train_network import train_model\n",
    "train_model(path_training, path_model, config_network, path_model_init=None, gpu = gpu_device)"
   ]
  },
  {
   "cell_type": "markdown",
   "metadata": {},
   "source": [
    "# 3/ Apply the model to segment one image"
   ]
  },
  {
   "cell_type": "markdown",
   "metadata": {},
   "source": [
    "#### Segmentation"
   ]
  },
  {
   "cell_type": "code",
   "execution_count": null,
   "metadata": {
    "scrolled": true
   },
   "outputs": [],
   "source": [
    "from AxonDeepSeg.apply_model import axon_segmentation\n",
    "_, pred_proba = axon_segmentation(path_testing, path_model, config_network, pred_proba=True)"
   ]
  },
  {
   "cell_type": "markdown",
   "metadata": {},
   "source": [
    "# TRANSFORMING PRED_PROBA INTO REAL PROBABILITIES"
   ]
  },
  {
   "cell_type": "code",
   "execution_count": null,
   "metadata": {
    "collapsed": true
   },
   "outputs": [],
   "source": [
    "a = np.exp(pred_proba)\n",
    "b = np.sum(a, axis=-1)\n",
    "c = np.stack([np.divide(a[:,:,i],b) for i in range(3)], axis=-1)"
   ]
  },
  {
   "cell_type": "markdown",
   "metadata": {},
   "source": [
    "# VISUALISATION OF THE SEGMENTATION"
   ]
  },
  {
   "cell_type": "markdown",
   "metadata": {},
   "source": [
    "Import images"
   ]
  },
  {
   "cell_type": "code",
   "execution_count": null,
   "metadata": {
    "collapsed": true
   },
   "outputs": [],
   "source": [
    "imorg = plt.imread(path_testing + '/image.png')\n",
    "imads = plt.imread(path_testing + '/AxonDeepSeg.png')\n",
    "mask = imread(path_testing + '/mask.png', mode='L')"
   ]
  },
  {
   "cell_type": "code",
   "execution_count": null,
   "metadata": {},
   "outputs": [],
   "source": [
    "plt.figure(figsize=(18,10))\n",
    "plt.title('Original image')\n",
    "plt.imshow(imorg, cmap='gray')"
   ]
  },
  {
   "cell_type": "code",
   "execution_count": null,
   "metadata": {},
   "outputs": [],
   "source": [
    "plt.figure(figsize=(18,10))\n",
    "plt.title('Segmented image')\n",
    "plt.imshow(imads)"
   ]
  },
  {
   "cell_type": "code",
   "execution_count": null,
   "metadata": {},
   "outputs": [],
   "source": [
    "plt.figure(figsize=(18,10))\n",
    "plt.title('Superposed images')\n",
    "plt.imshow(imorg, cmap='gray', alpha=0.5)\n",
    "plt.imshow(imads, cmap='viridis', alpha=0.5)"
   ]
  },
  {
   "cell_type": "markdown",
   "metadata": {
    "collapsed": true
   },
   "source": [
    "# Visualisation of the probability maps"
   ]
  },
  {
   "cell_type": "code",
   "execution_count": null,
   "metadata": {
    "scrolled": false
   },
   "outputs": [],
   "source": [
    "plt.figure(figsize=(18,10))\n",
    "plt.clf()\n",
    "for i in range(n_classes):\n",
    "    plt.subplot(2,2,i+1)\n",
    "    plt.title('class ' + str(i))\n",
    "    plt.imshow(c[:,:,i])\n",
    "    plt.colorbar()\n",
    "plt.show();"
   ]
  },
  {
   "cell_type": "markdown",
   "metadata": {},
   "source": [
    "Looking more closely at the myelin predictions"
   ]
  },
  {
   "cell_type": "code",
   "execution_count": null,
   "metadata": {},
   "outputs": [],
   "source": [
    "plt.figure(figsize=(10,8))\n",
    "plt.imshow(imorg, cmap='gray', alpha=1)\n",
    "plt.imshow(c[:,:,1], cmap='Reds', alpha=0.2)\n",
    "plt.title('Predictions myelin')\n",
    "plt.show();"
   ]
  },
  {
   "cell_type": "code",
   "execution_count": null,
   "metadata": {
    "collapsed": true
   },
   "outputs": [],
   "source": [
    "plt.close('all')"
   ]
  },
  {
   "cell_type": "code",
   "execution_count": null,
   "metadata": {},
   "outputs": [],
   "source": [
    "# Computing the difference between mask and myelin\n",
    "myelin = c[:,:,1]\n",
    "mask_ = (mask == 128).astype(np.int)\n",
    "d = mask_ - myelin\n",
    "\n",
    "# Displaying the results\n",
    "plt.figure(figsize=(13,8))\n",
    "plt.imshow(d, cmap='jet')\n",
    "plt.colorbar()\n",
    "plt.show();"
   ]
  },
  {
   "cell_type": "code",
   "execution_count": null,
   "metadata": {},
   "outputs": [],
   "source": [
    "plt.figure(figsize=(10,8))\n",
    "plt.imshow(imads)\n",
    "plt.show();"
   ]
  },
  {
   "cell_type": "code",
   "execution_count": null,
   "metadata": {
    "collapsed": true
   },
   "outputs": [],
   "source": []
  }
 ],
 "metadata": {
  "kernelspec": {
   "display_name": "Python 2",
   "language": "python",
   "name": "python2"
  },
  "language_info": {
   "codemirror_mode": {
    "name": "ipython",
    "version": 2
   },
   "file_extension": ".py",
   "mimetype": "text/x-python",
   "name": "python",
   "nbconvert_exporter": "python",
   "pygments_lexer": "ipython2",
   "version": "2.7.13"
  }
 },
 "nbformat": 4,
 "nbformat_minor": 2
}
